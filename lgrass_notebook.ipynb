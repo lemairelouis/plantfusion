{
 "cells": [
  {
   "cell_type": "markdown",
   "metadata": {},
   "source": [
    "Imports"
   ]
  },
  {
   "cell_type": "code",
   "execution_count": 1,
   "metadata": {},
   "outputs": [],
   "source": [
    "from plantfusion.lgrass_wrapper import Simpraise_wrapper # L-grass FSPM management : TO BE IMPLEMENTED\n",
    "# see : https://github.com/mwoussen/plantfusion/blob/develop/simulations/other_fspm.py\n",
    "from plantfusion.light_wrapper import Light_wrapper # light management using LightVegeManager\n",
    "from plantfusion.soil_wrapper import Soil_wrapper # soil management\n",
    "from plantfusion.indexer import Indexer # index management\n",
    "from plantfusion.planter import Planter # plant position management\n",
    "\n",
    "import time\n",
    "import datetime\n",
    "import os"
   ]
  },
  {
   "cell_type": "markdown",
   "metadata": {},
   "source": [
    "Path management"
   ]
  },
  {
   "cell_type": "code",
   "execution_count": 2,
   "metadata": {},
   "outputs": [
    {
     "name": "stdout",
     "output_type": "stream",
     "text": [
      "Directory  outputs\\lgrass  already exists\n"
     ]
    }
   ],
   "source": [
    "in_folder_lgrass = \"inputs_lgrass/inputs\"\n",
    "genet_folder_lgrass = \"inputs_lgrass/modelgenet\"\n",
    "out_folder = \"outputs/lgrass\"\n",
    "\n",
    "id1 = 17111\n",
    "id2 = 17112\n",
    "writegeo = True\n",
    "\n",
    "try:\n",
    "    # Create target Directory\n",
    "    os.mkdir(os.path.normpath(out_folder))\n",
    "    print(\"Directory \", os.path.normpath(out_folder), \" Created \")\n",
    "except FileExistsError:\n",
    "    print(\"Directory \", os.path.normpath(out_folder), \" already exists\")\n"
   ]
  },
  {
   "cell_type": "markdown",
   "metadata": {},
   "source": [
    "Already implemented in plantfusion (should run if given appropriate parameters)"
   ]
  },
  {
   "cell_type": "code",
   "execution_count": 3,
   "metadata": {},
   "outputs": [
    {
     "name": "stdout",
     "output_type": "stream",
     "text": [
      "Directory  outputs\\lgrass\\soil  already exists\n"
     ]
    }
   ],
   "source": [
    "lgrass_name = \"lgrass\"\n",
    "\n",
    "indexer = Indexer(global_order=[lgrass_name], other_names=[lgrass_name])\n",
    "\n",
    "generation_type = \"random\"\n",
    "plant_density = {lgrass_name : 450} # plantes.m-2\n",
    "planter = Planter(generation_type=generation_type, indexer=indexer, plant_density=plant_density)\n",
    "#note : arg \"inter_rows\" is not needed for random generation (I think), but is set to 0.15 anyway.\n",
    "\n",
    "sky = \"turtle46\"\n",
    "lighting_caribu = Light_wrapper(\n",
    "        lightmodel=\"caribu\",\n",
    "        indexer=indexer, \n",
    "        planter=planter, \n",
    "        sky=sky,\n",
    "        writegeo=False,\n",
    "    )\n",
    "\n",
    "\n",
    "soil = Soil_wrapper(\n",
    "    in_folder='inputs_soil_legume', \n",
    "    out_folder=out_folder, \n",
    "    IDusm=1711, # unit of simulation\n",
    "    planter=planter, \n",
    "    opt_residu=0, \n",
    "    save_results=True\n",
    ")\n"
   ]
  },
  {
   "cell_type": "markdown",
   "metadata": {},
   "source": [
    "Lgrass Wrapper instanciation"
   ]
  },
  {
   "cell_type": "code",
   "execution_count": 4,
   "metadata": {},
   "outputs": [
    {
     "name": "stderr",
     "output_type": "stream",
     "text": [
      "<string>:1402: Warning: Found symbol '#' after Lstring. Considered as begining of comments\n",
      "lgrass.lpy:1599: Warning: IndentationWarning: missing indent.\n",
      "lgrass.lpy:1614: Warning: IndentationWarning: missing indent.\n",
      "lgrass.lpy:1730: Warning: IndentationWarning: missing indent.\n",
      "c:\\users\\u242825\\desktop\\gembloux\\recherche\\plant_modelling\\lgrass_legume_fusion\\plantfusion\\lgrass\\lgrass\\param_reproduction_functions.py:140: FutureWarning: ChainedAssignmentError: behaviour will change in pandas 3.0!\n",
      "You are setting values through chained assignment. Currently this works in certain cases, but when using Copy-on-Write (which will become the default behaviour in pandas 3.0) this will never work to update the original DataFrame or Series, because the intermediate object on which we are setting values will behave as a copy.\n",
      "A typical example is when you are setting values in a column of a DataFrame, like:\n",
      "\n",
      "df[\"col\"][row_indexer] = value\n",
      "\n",
      "Use `df.loc[row_indexer, \"col\"] = values` instead, to perform the assignment in a single step and ensure this keeps updating the original `df`.\n",
      "\n",
      "See the caveats in the documentation: https://pandas.pydata.org/pandas-docs/stable/user_guide/indexing.html#returning-a-view-versus-a-copy\n",
      "\n",
      "  param_plante.loc['C'].iloc[i] = calculate_C(float(genet_data['C'].iloc[i]))\n",
      "c:\\users\\u242825\\desktop\\gembloux\\recherche\\plant_modelling\\lgrass_legume_fusion\\plantfusion\\lgrass\\lgrass\\param_reproduction_functions.py:141: FutureWarning: ChainedAssignmentError: behaviour will change in pandas 3.0!\n",
      "You are setting values through chained assignment. Currently this works in certain cases, but when using Copy-on-Write (which will become the default behaviour in pandas 3.0) this will never work to update the original DataFrame or Series, because the intermediate object on which we are setting values will behave as a copy.\n",
      "A typical example is when you are setting values in a column of a DataFrame, like:\n",
      "\n",
      "df[\"col\"][row_indexer] = value\n",
      "\n",
      "Use `df.loc[row_indexer, \"col\"] = values` instead, to perform the assignment in a single step and ensure this keeps updating the original `df`.\n",
      "\n",
      "See the caveats in the documentation: https://pandas.pydata.org/pandas-docs/stable/user_guide/indexing.html#returning-a-view-versus-a-copy\n",
      "\n",
      "  param_plante.loc['geno'].iloc[i] = int(genet_data['geno'].iloc[i])\n"
     ]
    }
   ],
   "source": [
    "lgrass = Simpraise_wrapper(\n",
    "    name=lgrass_name,\n",
    "    indexer=indexer,\n",
    "    in_folder=in_folder_lgrass, genet_folder=genet_folder_lgrass, out_folder=out_folder,\n",
    "    planter=planter,\n",
    "    plan_sim_file='plan_simulation.csv',\n",
    "    genet_file='ped.r',\n",
    "    param_plant_file='liste_plantes.csv'\n",
    "    #ADD ARGS SPECIFIC TO L-GRASS\n",
    ")"
   ]
  },
  {
   "cell_type": "markdown",
   "metadata": {},
   "source": [
    "Simulation Lgrass alone"
   ]
  },
  {
   "cell_type": "code",
   "execution_count": 5,
   "metadata": {},
   "outputs": [
    {
     "name": "stdout",
     "output_type": "stream",
     "text": [
      "TPS : 1.0 Current day : 1\n",
      "CouvertVegetal(1)\n",
      "TPS : 2.0 Current day : 1\n",
      "CouvertVegetal(2)IN[\\(45)@M(0.0,0.0,0)Plante(<lgrass.ParamPlante object at 0x0000029CF3B56B80>)IN]IN[\\(45)@M(50.0,0.0,0)Plante(<lgrass.ParamPlante object at 0x0000029CF3B56430>)IN]IN[\\(45)@M(0.0,50.0,0)Plante(<lgrass.ParamPlante object at 0x0000029CF3B56310>)IN]IN[\\(45)@M(50.0,50.0,0)Plante(<lgrass.ParamPlante object at 0x0000029CF3B56D60>)IN]\n",
      "TPS : 3.0 Current day : 1\n",
      "id_plante :  0\n",
      "id_talle :  0\n",
      "id_plante :  1\n",
      "id_talle :  0\n",
      "id_plante :  2\n",
      "id_talle :  0\n",
      "id_plante :  3\n",
      "id_talle :  0\n",
      "CouvertVegetal(3)IN[\\(45)@M(0.0,0.0,0)Plante(<lgrass.ParamPlante object at 0x0000029CF3B56B80>)phytomere(<lgrass.ParamPhytomere object at 0x0000029CF3855C40>,<lgrass.ParamApex object at 0x0000029CF3B56F70>)\\(95)bourgeonRoot(<lgrass.ParambourgeonRoot object at 0x0000029CF3B56F40>,<lgrass.ParamEntrenoeud object at 0x0000029CF38D3D90>)ApexTal(<lgrass.ParamApexTal object at 0x0000029CF3B563A0>)Entrenoeud(<lgrass.ParamEntrenoeud object at 0x0000029CF38D3D90>,<lgrass.ParamApex object at 0x0000029CF3B56F70>,<lgrass.ParamFeuille object at 0x0000029CF3B56FA0>,<lgrass.ParamPhytomere object at 0x0000029CF3855C40>)FLW[Feuille(<lgrass.ParamFeuille object at 0x0000029CF3B56FA0>,<lgrass.ParamApex object at 0x0000029CF3B56F70>,<lgrass.ParamPhytomere object at 0x0000029CF3855C40>)FLW]apex(<lgrass.ParamApex object at 0x0000029CF3B56F70>)IN]IN[\\(45)@M(50.0,0.0,0)Plante(<lgrass.ParamPlante object at 0x0000029CF3B56430>)phytomere(<lgrass.ParamPhytomere object at 0x0000029CF38D3DC0>,<lgrass.ParamApex object at 0x0000029CF38D3A00>)\\(95)bourgeonRoot(<lgrass.ParambourgeonRoot object at 0x0000029CF38D3EB0>,<lgrass.ParamEntrenoeud object at 0x0000029CF38D3040>)ApexTal(<lgrass.ParamApexTal object at 0x0000029CF38D3C40>)Entrenoeud(<lgrass.ParamEntrenoeud object at 0x0000029CF38D3040>,<lgrass.ParamApex object at 0x0000029CF38D3A00>,<lgrass.ParamFeuille object at 0x0000029CF38D3E20>,<lgrass.ParamPhytomere object at 0x0000029CF38D3DC0>)FLW[Feuille(<lgrass.ParamFeuille object at 0x0000029CF38D3E20>,<lgrass.ParamApex object at 0x0000029CF38D3A00>,<lgrass.ParamPhytomere object at 0x0000029CF38D3DC0>)FLW]apex(<lgrass.ParamApex object at 0x0000029CF38D3A00>)IN]IN[\\(45)@M(0.0,50.0,0)Plante(<lgrass.ParamPlante object at 0x0000029CF3B56310>)phytomere(<lgrass.ParamPhytomere object at 0x0000029CF38D3AF0>,<lgrass.ParamApex object at 0x0000029CF38D3D00>)\\(95)bourgeonRoot(<lgrass.ParambourgeonRoot object at 0x0000029CF38D3AC0>,<lgrass.ParamEntrenoeud object at 0x0000029CF38D3B50>)ApexTal(<lgrass.ParamApexTal object at 0x0000029CF38D3E80>)Entrenoeud(<lgrass.ParamEntrenoeud object at 0x0000029CF38D3B50>,<lgrass.ParamApex object at 0x0000029CF38D3D00>,<lgrass.ParamFeuille object at 0x0000029CF38D3D30>,<lgrass.ParamPhytomere object at 0x0000029CF38D3AF0>)FLW[Feuille(<lgrass.ParamFeuille object at 0x0000029CF38D3D30>,<lgrass.ParamApex object at 0x0000029CF38D3D00>,<lgrass.ParamPhytomere object at 0x0000029CF38D3AF0>)FLW]apex(<lgrass.ParamApex object at 0x0000029CF38D3D00>)IN]IN[\\(45)@M(50.0,50.0,0)Plante(<lgrass.ParamPlante object at 0x0000029CF3B56D60>)phytomere(<lgrass.ParamPhytomere object at 0x0000029CF38D3CD0>,<lgrass.ParamApex object at 0x0000029CF38D3BE0>)\\(95)bourgeonRoot(<lgrass.ParambourgeonRoot object at 0x0000029CF38D39A0>,<lgrass.ParamEntrenoeud object at 0x0000029CF38D3D60>)ApexTal(<lgrass.ParamApexTal object at 0x0000029CF38D3940>)Entrenoeud(<lgrass.ParamEntrenoeud object at 0x0000029CF38D3D60>,<lgrass.ParamApex object at 0x0000029CF38D3BE0>,<lgrass.ParamFeuille object at 0x0000029CF38D3E50>,<lgrass.ParamPhytomere object at 0x0000029CF38D3CD0>)FLW[Feuille(<lgrass.ParamFeuille object at 0x0000029CF38D3E50>,<lgrass.ParamApex object at 0x0000029CF38D3BE0>,<lgrass.ParamPhytomere object at 0x0000029CF38D3CD0>)FLW]apex(<lgrass.ParamApex object at 0x0000029CF38D3BE0>)IN]\n"
     ]
    },
    {
     "ename": "NameError",
     "evalue": "Il n'y a pas eu suffisamment de graines produites pour établir une nouvelle génération.",
     "output_type": "error",
     "traceback": [
      "\u001b[1;31m---------------------------------------------------------------------------\u001b[0m",
      "\u001b[1;31mAttributeError\u001b[0m                            Traceback (most recent call last)",
      "Cell \u001b[1;32mIn[5], line 21\u001b[0m\n\u001b[0;32m     18\u001b[0m lgrass\u001b[38;5;241m.\u001b[39mlight_results()\n\u001b[0;32m     20\u001b[0m soil\u001b[38;5;241m.\u001b[39mrun(\n\u001b[1;32m---> 21\u001b[0m     \u001b[43mlgrass\u001b[49m\u001b[38;5;241;43m.\u001b[39;49m\u001b[43mdoy\u001b[49m(),\n\u001b[0;32m     22\u001b[0m     [N_content_roots_per_plant],\n\u001b[0;32m     23\u001b[0m     [roots_length_per_plant_per_soil_layer],\n\u001b[0;32m     24\u001b[0m     [plants_soil_parameters],\n\u001b[0;32m     25\u001b[0m     [plants_light_interception],\n\u001b[0;32m     26\u001b[0m )\n\u001b[0;32m     27\u001b[0m lgrass\u001b[38;5;241m.\u001b[39msoil_results(soil\u001b[38;5;241m.\u001b[39mresults, planter)\n",
      "\u001b[1;31mAttributeError\u001b[0m: 'Simpraise_wrapper' object has no attribute 'doy'",
      "\nDuring handling of the above exception, another exception occurred:\n",
      "\u001b[1;31mNameError\u001b[0m                                 Traceback (most recent call last)",
      "Cell \u001b[1;32mIn[5], line 37\u001b[0m\n\u001b[0;32m     34\u001b[0m     \u001b[38;5;28mprint\u001b[39m(\u001b[38;5;124m\"\u001b[39m\u001b[38;5;130;01m\\n\u001b[39;00m\u001b[38;5;124m\"\u001b[39m \u001b[38;5;124m\"\u001b[39m\u001b[38;5;124mSimulation run in \u001b[39m\u001b[38;5;132;01m{}\u001b[39;00m\u001b[38;5;124m\"\u001b[39m\u001b[38;5;241m.\u001b[39mformat(\u001b[38;5;28mstr\u001b[39m(datetime\u001b[38;5;241m.\u001b[39mtimedelta(seconds\u001b[38;5;241m=\u001b[39mexecution_time))))\n\u001b[0;32m     36\u001b[0m \u001b[38;5;28;01mfinally\u001b[39;00m:\n\u001b[1;32m---> 37\u001b[0m     \u001b[43mlgrass\u001b[49m\u001b[38;5;241;43m.\u001b[39;49m\u001b[43mend\u001b[49m\u001b[43m(\u001b[49m\u001b[43m)\u001b[49m\n",
      "File \u001b[1;32mc:\\Users\\u242825\\Desktop\\Gembloux\\Recherche\\plant_modelling\\lgrass_legume_fusion\\plantfusion\\plantfusion\\lgrass_wrapper.py:161\u001b[0m, in \u001b[0;36mSimpraise_wrapper.end\u001b[1;34m(self)\u001b[0m\n\u001b[0;32m    158\u001b[0m \u001b[38;5;28;01mdef\u001b[39;00m \u001b[38;5;21mend\u001b[39m(\u001b[38;5;28mself\u001b[39m):\n\u001b[0;32m    159\u001b[0m     \u001b[38;5;66;03m# Matrice de croisement des plantes\u001b[39;00m\n\u001b[0;32m    160\u001b[0m     \u001b[38;5;28;01mif\u001b[39;00m \u001b[38;5;28mself\u001b[39m\u001b[38;5;241m.\u001b[39mopt_repro \u001b[38;5;241m!=\u001b[39m \u001b[38;5;124m\"\u001b[39m\u001b[38;5;124mFalse\u001b[39m\u001b[38;5;124m\"\u001b[39m:\n\u001b[1;32m--> 161\u001b[0m         mat \u001b[38;5;241m=\u001b[39m \u001b[43mprf\u001b[49m\u001b[38;5;241;43m.\u001b[39;49m\u001b[43mcreate_seeds\u001b[49m\u001b[43m(\u001b[49m\u001b[38;5;28;43mself\u001b[39;49m\u001b[38;5;241;43m.\u001b[39;49m\u001b[43mlstring\u001b[49m\u001b[43m,\u001b[49m\u001b[43m \u001b[49m\u001b[38;5;28;43mself\u001b[39;49m\u001b[38;5;241;43m.\u001b[39;49m\u001b[43mlsystem\u001b[49m\u001b[38;5;241;43m.\u001b[39;49m\u001b[43mnb_plantes\u001b[49m\u001b[43m,\u001b[49m\u001b[43m \u001b[49m\u001b[38;5;28;43mself\u001b[39;49m\u001b[38;5;241;43m.\u001b[39;49m\u001b[43mopt_repro\u001b[49m\u001b[43m,\u001b[49m\u001b[43m \u001b[49m\u001b[38;5;28;43mself\u001b[39;49m\u001b[38;5;241;43m.\u001b[39;49m\u001b[43mrow\u001b[49m\u001b[43m[\u001b[49m\u001b[38;5;124;43m\"\u001b[39;49m\u001b[38;5;124;43mcutting_freq\u001b[39;49m\u001b[38;5;124;43m\"\u001b[39;49m\u001b[43m]\u001b[49m\u001b[43m,\u001b[49m\u001b[43m \u001b[49m\u001b[38;5;28;43mself\u001b[39;49m\u001b[38;5;241;43m.\u001b[39;49m\u001b[43mlsystem\u001b[49m\u001b[38;5;241;43m.\u001b[39;49m\u001b[43mParamP\u001b[49m\u001b[43m)\u001b[49m\n\u001b[0;32m    162\u001b[0m         np\u001b[38;5;241m.\u001b[39msavetxt(os\u001b[38;5;241m.\u001b[39mpath\u001b[38;5;241m.\u001b[39mjoin(\u001b[38;5;28mself\u001b[39m\u001b[38;5;241m.\u001b[39mOUTPUTS_DIRPATH, \u001b[38;5;28mself\u001b[39m\u001b[38;5;241m.\u001b[39mname \u001b[38;5;241m+\u001b[39m \u001b[38;5;124m\"\u001b[39m\u001b[38;5;124m_mat.csv\u001b[39m\u001b[38;5;124m\"\u001b[39m), mat)\n\u001b[0;32m    163\u001b[0m     \u001b[38;5;28;01melse\u001b[39;00m:\n",
      "File \u001b[1;32mc:\\users\\u242825\\desktop\\gembloux\\recherche\\plant_modelling\\lgrass_legume_fusion\\plantfusion\\lgrass\\lgrass\\param_reproduction_functions.py:64\u001b[0m, in \u001b[0;36mcreate_seeds\u001b[1;34m(lstring, nb_plantes, opt_repro, cutting_freq, ParamP)\u001b[0m\n\u001b[0;32m     62\u001b[0m \u001b[38;5;66;03m# sélection aléatoire des graines pour la génération suivante et création de la matrice de croisement\u001b[39;00m\n\u001b[0;32m     63\u001b[0m \u001b[38;5;28;01mif\u001b[39;00m \u001b[38;5;28mlen\u001b[39m(seeds) \u001b[38;5;241m<\u001b[39m nb_plantes:\n\u001b[1;32m---> 64\u001b[0m     \u001b[38;5;28;01mraise\u001b[39;00m \u001b[38;5;167;01mNameError\u001b[39;00m(\u001b[38;5;124m\"\u001b[39m\u001b[38;5;124mIl n\u001b[39m\u001b[38;5;124m'\u001b[39m\u001b[38;5;124my a pas eu suffisamment de graines produites pour établir une nouvelle génération.\u001b[39m\u001b[38;5;124m\"\u001b[39m)\n\u001b[0;32m     66\u001b[0m \u001b[38;5;28;01mfor\u001b[39;00m rand \u001b[38;5;129;01min\u001b[39;00m \u001b[38;5;28mrange\u001b[39m(nb_plantes):\n\u001b[0;32m     67\u001b[0m     seed \u001b[38;5;241m=\u001b[39m random\u001b[38;5;241m.\u001b[39mRandom()\u001b[38;5;241m.\u001b[39mchoice(seeds)\n",
      "\u001b[1;31mNameError\u001b[0m: Il n'y a pas eu suffisamment de graines produites pour établir une nouvelle génération."
     ]
    }
   ],
   "source": [
    "try:\n",
    "    current_time_of_the_system = time.time()\n",
    "    for t in range(lgrass.lsystem.derivationLength):\n",
    "        \n",
    "        lgrass.derive(t)\n",
    "\n",
    "        ### CARIBU\n",
    "        print(lgrass.lstring)\n",
    "        scene_lgrass = lgrass.light_inputs(elements=\"triangles\")\n",
    "        \n",
    "\n",
    "        if len(scene_lgrass) > 0:\n",
    "            start = time.time()\n",
    "            lighting_caribu.run(\n",
    "                scenes=[scene_lgrass], day=lgrass.lsystem.current_day, parunit=\"RG\"\n",
    "            )\n",
    "            caribu_time = time.time() - start\n",
    "            lgrass.light_results()\n",
    "\n",
    "            lgrass.run()\n",
    "\n",
    "            print(\"Lighting running time | CARIBU: \", caribu_time)\n",
    "\n",
    "    execution_time = int(time.time() - current_time_of_the_system)\n",
    "    print(\"\\n\" \"Simulation run in {}\".format(str(datetime.timedelta(seconds=execution_time))))\n",
    "\n",
    "finally:\n",
    "    lgrass.end()"
   ]
  }
 ],
 "metadata": {
  "kernelspec": {
   "display_name": "poitiers",
   "language": "python",
   "name": "python3"
  },
  "language_info": {
   "codemirror_mode": {
    "name": "ipython",
    "version": 3
   },
   "file_extension": ".py",
   "mimetype": "text/x-python",
   "name": "python",
   "nbconvert_exporter": "python",
   "pygments_lexer": "ipython3",
   "version": "3.9.19"
  }
 },
 "nbformat": 4,
 "nbformat_minor": 2
}
