{
 "cells": [
  {
   "cell_type": "markdown",
   "metadata": {},
   "source": [
    "Imports"
   ]
  },
  {
   "cell_type": "code",
   "execution_count": 6,
   "metadata": {},
   "outputs": [],
   "source": [
    "from plantfusion.lgrass_wrapper import Simpraise_wrapper # L-grass FSPM management : TO BE IMPLEMENTED\n",
    "# see : https://github.com/mwoussen/plantfusion/blob/develop/simulations/other_fspm.py\n",
    "from plantfusion.light_wrapper import Light_wrapper # light management using LightVegeManager\n",
    "from plantfusion.soil_wrapper import Soil_wrapper # soil management\n",
    "from plantfusion.indexer import Indexer # index management\n",
    "from plantfusion.planter import Planter # plant position management\n",
    "\n",
    "import time\n",
    "import datetime\n",
    "import os"
   ]
  },
  {
   "cell_type": "markdown",
   "metadata": {},
   "source": [
    "Path management"
   ]
  },
  {
   "cell_type": "code",
   "execution_count": 7,
   "metadata": {},
   "outputs": [
    {
     "name": "stdout",
     "output_type": "stream",
     "text": [
      "Directory  outputs\\lgrass  already exists\n"
     ]
    }
   ],
   "source": [
    "in_folder_lgrass = \"inputs_lgrass/inputs\"\n",
    "genet_folder_lgrass = \"inputs_lgrass/modelgenet\"\n",
    "out_folder = \"outputs/lgrass\"\n",
    "\n",
    "id1 = 17111\n",
    "id2 = 17112\n",
    "writegeo = True\n",
    "\n",
    "try:\n",
    "    # Create target Directory\n",
    "    os.mkdir(os.path.normpath(out_folder))\n",
    "    print(\"Directory \", os.path.normpath(out_folder), \" Created \")\n",
    "except FileExistsError:\n",
    "    print(\"Directory \", os.path.normpath(out_folder), \" already exists\")\n"
   ]
  },
  {
   "cell_type": "markdown",
   "metadata": {},
   "source": [
    "Already implemented in plantfusion (should run if given appropriate parameters)"
   ]
  },
  {
   "cell_type": "code",
   "execution_count": 8,
   "metadata": {},
   "outputs": [
    {
     "name": "stdout",
     "output_type": "stream",
     "text": [
      "Directory  outputs\\lgrass\\soil  already exists\n"
     ]
    }
   ],
   "source": [
    "lgrass_name = \"lgrass\"\n",
    "\n",
    "indexer = Indexer(global_order=[lgrass_name], other_names=[lgrass_name])\n",
    "\n",
    "generation_type = \"random\"\n",
    "plant_density = {lgrass_name : 450} # plantes.m-2\n",
    "planter = Planter(generation_type=generation_type, indexer=indexer, plant_density=plant_density)\n",
    "#note : arg \"inter_rows\" is not needed for random generation (I think), but is set to 0.15 anyway.\n",
    "\n",
    "sky = \"turtle46\"\n",
    "lighting_caribu = Light_wrapper(\n",
    "        lightmodel=\"caribu\",\n",
    "        indexer=indexer, \n",
    "        planter=planter, \n",
    "        sky=sky,\n",
    "        writegeo=False,\n",
    "    )\n",
    "\n",
    "\n",
    "soil = Soil_wrapper(\n",
    "    in_folder='inputs_soil_legume', \n",
    "    out_folder=out_folder, \n",
    "    IDusm=1711, # unit of simulation\n",
    "    planter=planter, \n",
    "    opt_residu=0, \n",
    "    save_results=True\n",
    ")\n"
   ]
  },
  {
   "cell_type": "markdown",
   "metadata": {},
   "source": [
    "Lgrass Wrapper instanciation"
   ]
  },
  {
   "cell_type": "code",
   "execution_count": 9,
   "metadata": {},
   "outputs": [
    {
     "name": "stdout",
     "output_type": "stream",
     "text": [
      "c:\\Users\\u242825\\Desktop\\Gembloux\\Recherche\\plant_modelling\\lgrass_legume_fusion\\plantfusion\n",
      "0       LUSIGNAN\n",
      "1       LUSIGNAN\n",
      "2       LUSIGNAN\n",
      "3       LUSIGNAN\n",
      "4       LUSIGNAN\n",
      "          ...   \n",
      "7443    LUSIGNAN\n",
      "7444    LUSIGNAN\n",
      "7445    LUSIGNAN\n",
      "7446    LUSIGNAN\n",
      "7447    LUSIGNAN\n",
      "Name: site, Length: 7448, dtype: object\n",
      "treatment_1\n"
     ]
    },
    {
     "name": "stderr",
     "output_type": "stream",
     "text": [
      "<string>:1400: Warning: Found symbol '#' after Lstring. Considered as begining of comments\n",
      "lgrass.lpy:1597: Warning: IndentationWarning: missing indent.\n",
      "lgrass.lpy:1612: Warning: IndentationWarning: missing indent.\n",
      "lgrass.lpy:1728: Warning: IndentationWarning: missing indent.\n",
      "c:\\users\\u242825\\desktop\\gembloux\\recherche\\plant_modelling\\lgrass_legume_fusion\\plantfusion\\lgrass\\lgrass\\param_reproduction_functions.py:140: FutureWarning: ChainedAssignmentError: behaviour will change in pandas 3.0!\n",
      "You are setting values through chained assignment. Currently this works in certain cases, but when using Copy-on-Write (which will become the default behaviour in pandas 3.0) this will never work to update the original DataFrame or Series, because the intermediate object on which we are setting values will behave as a copy.\n",
      "A typical example is when you are setting values in a column of a DataFrame, like:\n",
      "\n",
      "df[\"col\"][row_indexer] = value\n",
      "\n",
      "Use `df.loc[row_indexer, \"col\"] = values` instead, to perform the assignment in a single step and ensure this keeps updating the original `df`.\n",
      "\n",
      "See the caveats in the documentation: https://pandas.pydata.org/pandas-docs/stable/user_guide/indexing.html#returning-a-view-versus-a-copy\n",
      "\n",
      "  param_plante.loc['C'].iloc[i] = calculate_C(float(genet_data['C'].iloc[i]))\n",
      "c:\\users\\u242825\\desktop\\gembloux\\recherche\\plant_modelling\\lgrass_legume_fusion\\plantfusion\\lgrass\\lgrass\\param_reproduction_functions.py:141: FutureWarning: ChainedAssignmentError: behaviour will change in pandas 3.0!\n",
      "You are setting values through chained assignment. Currently this works in certain cases, but when using Copy-on-Write (which will become the default behaviour in pandas 3.0) this will never work to update the original DataFrame or Series, because the intermediate object on which we are setting values will behave as a copy.\n",
      "A typical example is when you are setting values in a column of a DataFrame, like:\n",
      "\n",
      "df[\"col\"][row_indexer] = value\n",
      "\n",
      "Use `df.loc[row_indexer, \"col\"] = values` instead, to perform the assignment in a single step and ensure this keeps updating the original `df`.\n",
      "\n",
      "See the caveats in the documentation: https://pandas.pydata.org/pandas-docs/stable/user_guide/indexing.html#returning-a-view-versus-a-copy\n",
      "\n",
      "  param_plante.loc['geno'].iloc[i] = int(genet_data['geno'].iloc[i])\n"
     ]
    }
   ],
   "source": [
    "print(os.getcwd())\n",
    "lgrass = Simpraise_wrapper(\n",
    "    name=lgrass_name,\n",
    "    indexer=indexer,\n",
    "    in_folder=in_folder_lgrass, genet_folder=genet_folder_lgrass, out_folder=out_folder,\n",
    "    planter=planter,\n",
    "    plan_sim_file='plan_simulation.csv',\n",
    "    genet_file='ped.r',\n",
    "    param_plant_file='liste_plantes.csv'\n",
    "    #ADD ARGS SPECIFIC TO L-GRASS\n",
    ")"
   ]
  },
  {
   "cell_type": "markdown",
   "metadata": {},
   "source": [
    "Simulation Lgrass alone"
   ]
  },
  {
   "cell_type": "code",
   "execution_count": 11,
   "metadata": {},
   "outputs": [
    {
     "name": "stdout",
     "output_type": "stream",
     "text": [
      "0       LUSIGNAN\n",
      "1       LUSIGNAN\n",
      "2       LUSIGNAN\n",
      "3       LUSIGNAN\n",
      "4       LUSIGNAN\n",
      "          ...   \n",
      "7443    LUSIGNAN\n",
      "7444    LUSIGNAN\n",
      "7445    LUSIGNAN\n",
      "7446    LUSIGNAN\n",
      "7447    LUSIGNAN\n",
      "Name: site, Length: 7448, dtype: object\n",
      "LUSIGNAN\n",
      "TPS : 1.0 Current day : 1\n"
     ]
    },
    {
     "ename": "AttributeError",
     "evalue": "lstring",
     "output_type": "error",
     "traceback": [
      "\u001b[1;31m---------------------------------------------------------------------------\u001b[0m",
      "\u001b[1;31mAttributeError\u001b[0m                            Traceback (most recent call last)",
      "Cell \u001b[1;32mIn[11], line 10\u001b[0m\n\u001b[0;32m      8\u001b[0m start \u001b[38;5;241m=\u001b[39m time\u001b[38;5;241m.\u001b[39mtime()\n\u001b[0;32m      9\u001b[0m lighting_caribu\u001b[38;5;241m.\u001b[39mrun(\n\u001b[1;32m---> 10\u001b[0m     scenes\u001b[38;5;241m=\u001b[39m[scene_lgrass], day\u001b[38;5;241m=\u001b[39m\u001b[43mlgrass\u001b[49m\u001b[38;5;241;43m.\u001b[39;49m\u001b[43mcurrent_day\u001b[49m, parunit\u001b[38;5;241m=\u001b[39m\u001b[38;5;124m\"\u001b[39m\u001b[38;5;124mRG\u001b[39m\u001b[38;5;124m\"\u001b[39m\n\u001b[0;32m     11\u001b[0m )\n\u001b[0;32m     12\u001b[0m caribu_time \u001b[38;5;241m=\u001b[39m time\u001b[38;5;241m.\u001b[39mtime() \u001b[38;5;241m-\u001b[39m start\n",
      "\u001b[1;31mAttributeError\u001b[0m: 'Simpraise_wrapper' object has no attribute 'current_day'",
      "\nDuring handling of the above exception, another exception occurred:\n",
      "\u001b[1;31mAttributeError\u001b[0m                            Traceback (most recent call last)",
      "Cell \u001b[1;32mIn[11], line 38\u001b[0m\n\u001b[0;32m     35\u001b[0m     \u001b[38;5;28mprint\u001b[39m(\u001b[38;5;124m\"\u001b[39m\u001b[38;5;130;01m\\n\u001b[39;00m\u001b[38;5;124m\"\u001b[39m \u001b[38;5;124m\"\u001b[39m\u001b[38;5;124mSimulation run in \u001b[39m\u001b[38;5;132;01m{}\u001b[39;00m\u001b[38;5;124m\"\u001b[39m\u001b[38;5;241m.\u001b[39mformat(\u001b[38;5;28mstr\u001b[39m(datetime\u001b[38;5;241m.\u001b[39mtimedelta(seconds\u001b[38;5;241m=\u001b[39mexecution_time))))\n\u001b[0;32m     37\u001b[0m \u001b[38;5;28;01mfinally\u001b[39;00m:\n\u001b[1;32m---> 38\u001b[0m     \u001b[43mlgrass\u001b[49m\u001b[38;5;241;43m.\u001b[39;49m\u001b[43mend\u001b[49m\u001b[43m(\u001b[49m\u001b[43m)\u001b[49m\n",
      "File \u001b[1;32mc:\\Users\\u242825\\Desktop\\Gembloux\\Recherche\\plant_modelling\\lgrass_legume_fusion\\plantfusion\\plantfusion\\lgrass_wrapper.py:174\u001b[0m, in \u001b[0;36mSimpraise_wrapper.end\u001b[1;34m(self)\u001b[0m\n\u001b[0;32m    171\u001b[0m \u001b[38;5;28;01mdef\u001b[39;00m \u001b[38;5;21mend\u001b[39m(\u001b[38;5;28mself\u001b[39m):\n\u001b[0;32m    172\u001b[0m     \u001b[38;5;66;03m# Matrice de croisement des plantes\u001b[39;00m\n\u001b[0;32m    173\u001b[0m     \u001b[38;5;28;01mif\u001b[39;00m \u001b[38;5;28mself\u001b[39m\u001b[38;5;241m.\u001b[39mopt_repro \u001b[38;5;241m!=\u001b[39m \u001b[38;5;124m\"\u001b[39m\u001b[38;5;124mFalse\u001b[39m\u001b[38;5;124m\"\u001b[39m:\n\u001b[1;32m--> 174\u001b[0m         mat \u001b[38;5;241m=\u001b[39m prf\u001b[38;5;241m.\u001b[39mcreate_seeds(\u001b[38;5;28;43mself\u001b[39;49m\u001b[38;5;241;43m.\u001b[39;49m\u001b[43mlsystem\u001b[49m\u001b[38;5;241;43m.\u001b[39;49m\u001b[43mlstring\u001b[49m, \u001b[38;5;28mself\u001b[39m\u001b[38;5;241m.\u001b[39mlsystem\u001b[38;5;241m.\u001b[39mlsystem\u001b[38;5;241m.\u001b[39mnb_plantes, \u001b[38;5;28mself\u001b[39m\u001b[38;5;241m.\u001b[39mopt_repro, \u001b[38;5;28mself\u001b[39m\u001b[38;5;241m.\u001b[39mrow[\u001b[38;5;124m\"\u001b[39m\u001b[38;5;124mcutting_freq\u001b[39m\u001b[38;5;124m\"\u001b[39m], \u001b[38;5;28mself\u001b[39m\u001b[38;5;241m.\u001b[39mlsystem\u001b[38;5;241m.\u001b[39mParamP)\n\u001b[0;32m    175\u001b[0m         np\u001b[38;5;241m.\u001b[39msavetxt(os\u001b[38;5;241m.\u001b[39mpath\u001b[38;5;241m.\u001b[39mjoin(\u001b[38;5;28mself\u001b[39m\u001b[38;5;241m.\u001b[39mOUTPUTS_DIRPATH, \u001b[38;5;28mself\u001b[39m\u001b[38;5;241m.\u001b[39mname \u001b[38;5;241m+\u001b[39m \u001b[38;5;124m\"\u001b[39m\u001b[38;5;124m_mat.csv\u001b[39m\u001b[38;5;124m\"\u001b[39m), mat)\n\u001b[0;32m    176\u001b[0m     \u001b[38;5;28;01melse\u001b[39;00m:\n",
      "File \u001b[1;32mc:\\Users\\u242825\\AppData\\Local\\miniconda3\\envs\\plantfusion\\lib\\site-packages\\OpenAlea.Lpy-3.14.1-py3.9.egg\\openalea\\lpy\\__init__.py:180\u001b[0m, in \u001b[0;36m__lsystem_getattribute__\u001b[1;34m(self, name)\u001b[0m\n\u001b[0;32m    178\u001b[0m \u001b[38;5;28;01mdef\u001b[39;00m \u001b[38;5;21m__lsystem_getattribute__\u001b[39m(\u001b[38;5;28mself\u001b[39m,name):\n\u001b[0;32m    179\u001b[0m     \u001b[38;5;28;01mif\u001b[39;00m name \u001b[38;5;129;01min\u001b[39;00m \u001b[38;5;28mself\u001b[39m\u001b[38;5;241m.\u001b[39mcontext(): \u001b[38;5;28;01mreturn\u001b[39;00m \u001b[38;5;28mself\u001b[39m\u001b[38;5;241m.\u001b[39mcontext()[name]\n\u001b[1;32m--> 180\u001b[0m     \u001b[38;5;28;01melse\u001b[39;00m: \u001b[38;5;28;01mraise\u001b[39;00m \u001b[38;5;167;01mAttributeError\u001b[39;00m(name)\n",
      "\u001b[1;31mAttributeError\u001b[0m: lstring"
     ]
    }
   ],
   "source": [
    "try:\n",
    "    current_time_of_the_system = time.time()\n",
    "    for t in range(lgrass.lsystem.derivationLength):\n",
    "        lgrass.derive(t)\n",
    "\n",
    "        ### CARIBU\n",
    "        scene_lgrass = lgrass.light_inputs(elements=\"triangles\")\n",
    "        start = time.time()\n",
    "        lighting_caribu.run(\n",
    "            scenes=[scene_lgrass], day=lgrass.lsystem.current_day, parunit=\"RG\"\n",
    "        )\n",
    "        caribu_time = time.time() - start\n",
    "        lgrass.light_results(legume.energy(), lighting_caribu)\n",
    "\n",
    "        (\n",
    "            N_content_roots_per_plant,\n",
    "            roots_length_per_plant_per_soil_layer,\n",
    "            plants_soil_parameters,\n",
    "            plants_light_interception,\n",
    "        ) = lgrass.soil_inputs()\n",
    "        soil.run(\n",
    "            lgrass.doy(),\n",
    "            [N_content_roots_per_plant],\n",
    "            [roots_length_per_plant_per_soil_layer],\n",
    "            [plants_soil_parameters],\n",
    "            [plants_light_interception],\n",
    "        )\n",
    "        lgrass.soil_results(soil.results, planter)\n",
    "\n",
    "        lgrass.run()\n",
    "\n",
    "        print(\"Lighting running time | CARIBU: \", caribu_time)\n",
    "\n",
    "    execution_time = int(time.time() - current_time_of_the_system)\n",
    "    print(\"\\n\" \"Simulation run in {}\".format(str(datetime.timedelta(seconds=execution_time))))\n",
    "\n",
    "finally:\n",
    "    lgrass.end()"
   ]
  },
  {
   "cell_type": "code",
   "execution_count": null,
   "metadata": {},
   "outputs": [],
   "source": [
    "\n",
    "\n",
    "current_time_of_the_system = time.time()\n",
    "\n",
    "for t in range(legume.lsystem.derivationLength) :# chose derivation lengh\n",
    "\n",
    "    legume.derive(t)\n",
    "\n",
    "    # while lgrass.lsystem.current_day > t:\n",
    "    print(lgrass.lstring)\n",
    "    lgrass.derive(t)\n",
    "\n",
    "    scene_legume = legume.light_inputs(elements=\"triangles\")\n",
    "    scene_lgrass = lgrass.light_inputs() # ARGS DEPENDS ON LGRASS CLASS IMPLEMENTATION\n",
    "    scenes = indexer.light_scenes_mgmt({lgrass_name : scene_lgrass, legume_name : scene_legume})\n",
    "\n",
    "    lighting.run(scenes=scenes, day=legume.doy(), parunit=\"RG\") #what is parunit=\"RG\" ?\n",
    "    legume.light_results(legume.energy(), lighting)\n",
    "    lgrass.light_results() # ARGS DEPENDS ON LGRASS CLASS IMPLEMENTATION\n",
    "\n",
    "    soil_legume_inputs = legume.soil_inputs()\n",
    "    soil_lgrass_inputs = lgrass.soil_inputs()\n",
    "\n",
    "    (\n",
    "        N_content_roots_per_plant,\n",
    "        roots_length_per_plant_per_soil_layer,\n",
    "        plants_soil_parameters,\n",
    "        plants_light_interception, # what are these output's type ?\n",
    "    ) = indexer.soil_inputs({legume_name : soil_legume_inputs, lgrass_name : soil_lgrass_inputs})\n",
    "\n",
    "    soil.run( # update soil inputs\n",
    "        legume.doy(), #doy : day of the year (julian day)\n",
    "        N_content_roots_per_plant,\n",
    "        roots_length_per_plant_per_soil_layer,\n",
    "        plants_soil_parameters,\n",
    "        plants_light_interception,\n",
    "    )\n",
    "\n",
    "    #compute new plant parameters for next derivation. To be implemented in Lgrass wrapper\n",
    "    legume.run()\n",
    "    lgrass.run()\n",
    "execution_time = int(time.time() - current_time_of_the_system)\n",
    "print(\"\\n\" \"Simulation run in {}\".format(str(datetime.timedelta(seconds=execution_time))))\n",
    "\n",
    "# end() effect is specific to the model\n",
    "legume.end()\n",
    "lgrass.end()\n",
    "soil.end()"
   ]
  }
 ],
 "metadata": {
  "kernelspec": {
   "display_name": "poitiers",
   "language": "python",
   "name": "python3"
  },
  "language_info": {
   "codemirror_mode": {
    "name": "ipython",
    "version": 3
   },
   "file_extension": ".py",
   "mimetype": "text/x-python",
   "name": "python",
   "nbconvert_exporter": "python",
   "pygments_lexer": "ipython3",
   "version": "3.9.19"
  }
 },
 "nbformat": 4,
 "nbformat_minor": 2
}
