{
 "cells": [
  {
   "cell_type": "markdown",
   "id": "15664cf6",
   "metadata": {},
   "source": [
    "# Exploration Planter\n"
   ]
  },
  {
   "cell_type": "markdown",
   "id": "0a1de82f",
   "metadata": {},
   "source": [
    "## Tirage aléatoire"
   ]
  },
  {
   "cell_type": "code",
   "execution_count": 9,
   "id": "7c888e62",
   "metadata": {},
   "outputs": [],
   "source": [
    "from plantfusion.l_egume_facade import L_egume_facade\n",
    "from plantfusion.wheat_facade import Wheat_facade\n",
    "from plantfusion.planter import Planter\n",
    "import openalea.plantgl.all as pgl\n",
    "from pgljupyter import SceneWidget\n",
    "import random"
   ]
  },
  {
   "cell_type": "code",
   "execution_count": 10,
   "id": "78202104",
   "metadata": {},
   "outputs": [],
   "source": [
    "def scene_cm_tp_m(scenes_cm):\n",
    "    scene_m = []\n",
    "    for scene in scenes_cm :\n",
    "        mat = pgl.Material((random.randint(0,255),random.randint(0,255),random.randint(0,255)))\n",
    "        for shape in scene:\n",
    "            scene_m.append(pgl.Shape(pgl.Scaled(0.01, shape.geometry), mat, shape.id))\n",
    "    return scene_m"
   ]
  },
  {
   "cell_type": "code",
   "execution_count": 11,
   "id": "3f55021c",
   "metadata": {},
   "outputs": [
    {
     "name": "stdout",
     "output_type": "stream",
     "text": [
      "Directory  wheat\\brut  already exists\n",
      "Directory  wheat\\postprocessing  already exists\n",
      "Directory  wheat\\graphs  already exists\n",
      "Directory  legume\\brut  already exists\n",
      "Directory  legume\\graphs  already exists\n"
     ]
    },
    {
     "name": "stderr",
     "output_type": "stream",
     "text": [
      "<string>:1018: Warning: Found symbol '#' after Lstring. Considered as begining of comments\n",
      "<string>:1035: Warning: Found symbol '#' after Lstring. Considered as begining of comments\n",
      "<string>:1325: Warning: Found symbol '#' after Lstring. Considered as begining of comments\n",
      "<string>:1383: Warning: Found symbol '#' after Lstring. Considered as begining of comments\n",
      "<string>:1405: Warning: Found symbol '#' after Lstring. Considered as begining of comments\n",
      "<string>:1855: Warning: Found symbol '#' after Lstring. Considered as begining of comments\n",
      "<string>:1933: Warning: Found symbol '#' after Lstring. Considered as begining of comments\n",
      "<string>:2074: Warning: Found symbol '#' after Lstring. Considered as begining of comments\n",
      "<string>:2088: Warning: Found symbol '#' after Lstring. Considered as begining of comments\n",
      "<string>:2089: Warning: Found symbol '#' after Lstring. Considered as begining of comments\n",
      "<string>:2134: Warning: Found symbol '#' after Lstring. Considered as begining of comments\n",
      "<string>:2136: Warning: Found symbol '#' after Lstring. Considered as begining of comments\n",
      "c:\\users\\mwoussen\\cdd\\codes\\dev\\plantfusion\\plantfusion\\l_egume_facade.py:879: Warning: Interpretation rules should be context free. Contexts not supported for multiple iterations.\n",
      "  testsim[name] = lpy.Lsystem(path_lsys)\n",
      "<string>:2254: Warning: Found symbol '#' after Lstring. Considered as begining of comments\n",
      "<string>:2345: Warning: Found symbol '#' after Lstring. Considered as begining of comments\n"
     ]
    },
    {
     "name": "stdout",
     "output_type": "stream",
     "text": [
      "lspe ['Fix2', 'nonFixSimTest']\n",
      "carto 64 [array([31.18815365, 32.47244058,  0.        ]), array([39.18041784, 17.16042611,  0.        ]), array([10.68651672, 22.94902099,  0.        ]), array([32.86311716, 46.68642307,  0.        ]), array([12.1115966 , 34.48782296,  0.        ]), array([28.25991357, 45.82792605,  0.        ]), array([ 5.6890788, 10.4210387,  0.       ]), array([48.59914802, 32.54954417,  0.        ]), array([46.6579543, 24.8431942,  0.       ]), array([43.34607862, 29.05994679,  0.        ]), array([24.53684477, 29.03580002,  0.        ]), array([13.92671432, 30.66700219,  0.        ]), array([16.43486871, 46.29826109,  0.        ]), array([10.35297303, 15.56774364,  0.        ]), array([20.96148752,  0.29086662,  0.        ]), array([ 6.81855199, 39.99822608,  0.        ]), array([3.29126943, 6.1569764 , 0.        ]), array([25.0339537, 10.6809148,  0.       ]), array([37.77378117, 49.95885367,  0.        ]), array([28.62528069, 22.43198315,  0.        ]), array([ 5.58491844, 28.73023669,  0.        ]), array([35.73335589, 22.05391421,  0.        ]), array([30.30777263, 16.98846226,  0.        ]), array([30.53594781, 20.71389051,  0.        ]), array([13.2504837 , 22.98738673,  0.        ]), array([34.22287384, 20.47363112,  0.        ]), array([10.53701869,  2.50539085,  0.        ]), array([45.52041112, 49.71834757,  0.        ]), array([14.92682031, 16.49833207,  0.        ]), array([31.42484806,  8.8424502 ,  0.        ]), array([17.70766547, 31.7483145 ,  0.        ]), array([ 7.8390099 , 33.63767026,  0.        ]), array([31.47127822, 43.3385508 ,  0.        ]), array([ 0.83972289, 16.22379403,  0.        ]), array([36.50597372,  1.13097575,  0.        ]), array([19.79331682, 30.19955546,  0.        ]), array([40.7908153 , 49.29881424,  0.        ]), array([46.78092501, 13.6876431 ,  0.        ]), array([42.48072974, 26.12209204,  0.        ]), array([48.91359149, 43.48499676,  0.        ]), array([24.18447659, 11.76496077,  0.        ]), array([28.22347488, 27.91023273,  0.        ]), array([14.28365864,  7.10663326,  0.        ]), array([19.0389436 , 30.37990969,  0.        ]), array([21.12554541, 30.66719883,  0.        ]), array([42.18584507, 20.1189899 ,  0.        ]), array([41.43439827, 33.33285012,  0.        ]), array([13.49213421, 26.78021253,  0.        ]), array([ 6.02356741, 33.42266703,  0.        ]), array([28.46901135, 10.51161173,  0.        ]), array([ 3.86742904, 13.63229211,  0.        ]), array([18.686056  , 47.13426511,  0.        ]), array([6.88757545, 4.99686914, 0.        ]), array([36.2535871 ,  1.46779869,  0.        ]), array([40.00399649,  5.47910158,  0.        ]), array([7.01213284, 7.42198128, 0.        ]), array([30.25599284, 49.70823894,  0.        ]), array([12.39810869, 14.11770625,  0.        ]), array([47.20938548, 48.5927102 ,  0.        ]), array([44.85641832, 37.12574536,  0.        ]), array([42.07035194, 28.27130637,  0.        ]), array([9.25384094, 8.62310802, 0.        ]), array([47.66480561, 12.0958163 ,  0.        ]), array([47.4759313 , 29.88571338,  0.        ])]\n",
      "soil init [16.0, 16.0, 16.0, 16.0, 16.0, 16.0, 16.0, 16.0] [0.1, 0.1, 0.1, 0.1, 0.1, 0.1, 0.1, 0.1] [[0.3333333333333333, 0.3333333333333333, 0.3333333333333333, 0.0, 0.0, 0.0, 0.0, 0.0, 0.0, 0.0, 0.0, 0.0, 0.0, 0.0, 0.0, 0.0, 0.0, 0.0, 0.0, 0.0, 0.0, 0.0, 0.0, 0.0, 0.0, 0.0, 0.0, 0.0, 0.0, 0.0, 0.0, 0.0, 0.0, 0.0, 0.0, 0.0, 0.0, 0.0, 0.0, 0.0, 0.0, 0.0, 0.0, 0.0, 0.0, 0.0, 0.0, 0.0, 0.0, 0.0, 0.0, 0.0, 0.0], [0.3333333333333333, 0.3333333333333333, 0.3333333333333333, 0.0, 0.0, 0.0, 0.0, 0.0, 0.0, 0.0, 0.0, 0.0, 0.0, 0.0, 0.0, 0.0, 0.0, 0.0, 0.0, 0.0, 0.0, 0.0, 0.0, 0.0, 0.0, 0.0, 0.0, 0.0, 0.0, 0.0, 0.0, 0.0, 0.0, 0.0, 0.0, 0.0, 0.0, 0.0, 0.0, 0.0, 0.0, 0.0, 0.0, 0.0, 0.0, 0.0, 0.0, 0.0, 0.0, 0.0, 0.0, 0.0, 0.0], [0.3333333333333333, 0.3333333333333333, 0.3333333333333333, 0.0, 0.0, 0.0, 0.0, 0.0, 0.0, 0.0, 0.0, 0.0, 0.0, 0.0, 0.0, 0.0, 0.0, 0.0, 0.0, 0.0, 0.0, 0.0, 0.0, 0.0, 0.0, 0.0, 0.0, 0.0, 0.0, 0.0, 0.0, 0.0, 0.0, 0.0, 0.0, 0.0, 0.0, 0.0, 0.0, 0.0, 0.0, 0.0, 0.0, 0.0, 0.0, 0.0, 0.0, 0.0, 0.0, 0.0, 0.0, 0.0, 0.0], [0.3333333333333333, 0.3333333333333333, 0.3333333333333333, 0.0, 0.0, 0.0, 0.0, 0.0, 0.0, 0.0, 0.0, 0.0, 0.0, 0.0, 0.0, 0.0, 0.0, 0.0, 0.0, 0.0, 0.0, 0.0, 0.0, 0.0, 0.0, 0.0, 0.0, 0.0, 0.0, 0.0, 0.0, 0.0, 0.0, 0.0, 0.0, 0.0, 0.0, 0.0, 0.0, 0.0, 0.0, 0.0, 0.0, 0.0, 0.0, 0.0, 0.0, 0.0, 0.0, 0.0, 0.0, 0.0, 0.0], [0.3333333333333333, 0.3333333333333333, 0.3333333333333333, 0.0, 0.0, 0.0, 0.0, 0.0, 0.0, 0.0, 0.0, 0.0, 0.0, 0.0, 0.0, 0.0, 0.0, 0.0, 0.0, 0.0, 0.0, 0.0, 0.0, 0.0, 0.0, 0.0, 0.0, 0.0, 0.0, 0.0, 0.0, 0.0, 0.0, 0.0, 0.0, 0.0, 0.0, 0.0, 0.0, 0.0, 0.0, 0.0, 0.0, 0.0, 0.0, 0.0, 0.0, 0.0, 0.0, 0.0, 0.0, 0.0, 0.0], [0.3333333333333333, 0.3333333333333333, 0.3333333333333333, 0.0, 0.0, 0.0, 0.0, 0.0, 0.0, 0.0, 0.0, 0.0, 0.0, 0.0, 0.0, 0.0, 0.0, 0.0, 0.0, 0.0, 0.0, 0.0, 0.0, 0.0, 0.0, 0.0, 0.0, 0.0, 0.0, 0.0, 0.0, 0.0, 0.0, 0.0, 0.0, 0.0, 0.0, 0.0, 0.0, 0.0, 0.0, 0.0, 0.0, 0.0, 0.0, 0.0, 0.0, 0.0, 0.0, 0.0, 0.0, 0.0, 0.0], [0.3333333333333333, 0.3333333333333333, 0.3333333333333333, 0.0, 0.0, 0.0, 0.0, 0.0, 0.0, 0.0, 0.0, 0.0, 0.0, 0.0, 0.0, 0.0, 0.0, 0.0, 0.0, 0.0, 0.0, 0.0, 0.0, 0.0, 0.0, 0.0, 0.0, 0.0, 0.0, 0.0, 0.0, 0.0, 0.0, 0.0, 0.0, 0.0, 0.0, 0.0, 0.0, 0.0, 0.0, 0.0, 0.0, 0.0, 0.0, 0.0, 0.0, 0.0, 0.0, 0.0, 0.0, 0.0, 0.0], [0.3333333333333333, 0.3333333333333333, 0.3333333333333333, 0.0, 0.0, 0.0, 0.0, 0.0, 0.0, 0.0, 0.0, 0.0, 0.0, 0.0, 0.0, 0.0, 0.0, 0.0, 0.0, 0.0, 0.0, 0.0, 0.0, 0.0, 0.0, 0.0, 0.0, 0.0, 0.0, 0.0, 0.0, 0.0, 0.0, 0.0, 0.0, 0.0, 0.0, 0.0, 0.0, 0.0, 0.0, 0.0, 0.0, 0.0, 0.0, 0.0, 0.0, 0.0, 0.0, 0.0, 0.0, 0.0, 0.0]] [0.7, 0.7, 0.7, 0.7, 0.7, 0.7, 0.7, 0.7] [0.42, 0.42, 0.42, 0.42, 0.42, 0.42, 0.42, 0.42]\n",
      "ls_CRES (8, 30, 5, 5)\n",
      "ls_CBio (8, 30, 5, 5)\n",
      "parResi {'CNRESt': [16.0, 16.0, 16.0, 16.0, 16.0, 16.0, 16.0, 16.0], 'CNBio': [8.412500000000001, 8.412500000000001, 8.412500000000001, 8.412500000000001, 8.412500000000001, 8.412500000000001, 8.412500000000001, 8.412500000000001], 'KRES': [0.19125, 0.19125, 0.19125, 0.19125, 0.19125, 0.19125, 0.19125, 0.19125], 'YRES': [0.62, 0.62, 0.62, 0.62, 0.62, 0.62, 0.62, 0.62], 'KBio': [0.011, 0.011, 0.011, 0.011, 0.011, 0.011, 0.011, 0.011], 'HRES': [0.5941176470588235, 0.5941176470588235, 0.5941176470588235, 0.5941176470588235, 0.5941176470588235, 0.5941176470588235, 0.5941176470588235, 0.5941176470588235], 'TRefg': 15.0, 'FTEMHAg': 12.0, 'FTEMHg': 0.103, 'FTEMHB': 52.0}\n",
      "61\n",
      "lspe ['Fix2', 'nonFixSimTest']\n"
     ]
    },
    {
     "name": "stderr",
     "output_type": "stream",
     "text": [
      "c:\\users\\mwoussen\\cdd\\codes\\lib\\soil3ds\\soil3ds\\soil_moduleN.py:315: RuntimeWarning: invalid value encountered in true_divide\n",
      "  ls_concN = list(map(np.divide, list(map(np.sum, ls_masked_moleN)), list(map(np.sum, ls_vol_eau))))\n"
     ]
    },
    {
     "name": "stdout",
     "output_type": "stream",
     "text": [
      "carto 64 [array([38.73453553, 44.61237575,  0.        ]), array([ 8.6063865 , 37.97984213,  0.        ]), array([20.77903656, 31.16816381,  0.        ]), array([43.61703095, 10.13939049,  0.        ]), array([40.64619685,  2.10606645,  0.        ]), array([17.04934597,  4.64630949,  0.        ]), array([25.10712022,  8.8618087 ,  0.        ]), array([24.22662108, 48.10951198,  0.        ]), array([40.5895128 , 37.58232709,  0.        ]), array([29.38972554, 41.212774  ,  0.        ]), array([48.66262686,  2.42730897,  0.        ]), array([18.39781396,  3.02510363,  0.        ]), array([34.82476108,  4.61244066,  0.        ]), array([35.82268089, 22.04331787,  0.        ]), array([22.19522499, 36.2417876 ,  0.        ]), array([46.3007399 ,  1.51184079,  0.        ]), array([13.25684002, 25.84848854,  0.        ]), array([24.08244689, 42.68051074,  0.        ]), array([7.59826561, 1.47518798, 0.        ]), array([18.09348992, 40.24074069,  0.        ]), array([39.20668215, 21.38811073,  0.        ]), array([14.57184004, 39.72357029,  0.        ]), array([40.39362284, 11.00637585,  0.        ]), array([32.07755437, 17.08899813,  0.        ]), array([ 4.7541999 , 18.13821461,  0.        ]), array([44.84738682, 39.10462584,  0.        ]), array([13.02040409, 19.25834753,  0.        ]), array([48.57456323, 43.81607342,  0.        ]), array([19.48151899, 27.41780105,  0.        ]), array([31.9037865 , 10.96825491,  0.        ]), array([21.86209845, 16.40265922,  0.        ]), array([12.63641049, 32.27410743,  0.        ]), array([ 5.80111776, 43.47794201,  0.        ]), array([ 1.73977727, 25.66356438,  0.        ]), array([15.74901543, 31.6763971 ,  0.        ]), array([15.44079275, 41.84028563,  0.        ]), array([20.08508854, 31.20157844,  0.        ]), array([ 7.65860453, 42.91106592,  0.        ]), array([29.31218363,  7.92906598,  0.        ]), array([23.59454209, 18.13362837,  0.        ]), array([20.84585554, 17.06343815,  0.        ]), array([ 7.76919685, 20.00658359,  0.        ]), array([22.79698504, 45.66906745,  0.        ]), array([21.07459359, 26.09351737,  0.        ]), array([ 3.55899449, 27.87258245,  0.        ]), array([33.83755831, 22.81075601,  0.        ]), array([45.3719678 , 39.45306264,  0.        ]), array([ 5.64611786, 29.44640137,  0.        ]), array([16.23051695, 15.39377864,  0.        ]), array([ 4.17524103, 25.8322997 ,  0.        ]), array([26.33725812, 19.55990599,  0.        ]), array([36.56093211, 21.01798489,  0.        ]), array([34.62173613, 15.14731938,  0.        ]), array([24.92567969, 31.6863671 ,  0.        ]), array([48.83339517, 42.71813666,  0.        ]), array([14.96298034, 28.69013501,  0.        ]), array([25.74788472, 11.4303844 ,  0.        ]), array([21.5590535 , 17.31361373,  0.        ]), array([47.46196016, 42.77050648,  0.        ]), array([ 9.10630494, 37.19781215,  0.        ]), array([46.52650301,  6.99154415,  0.        ]), array([24.1864785 , 35.71142379,  0.        ]), array([35.34121853,  0.48671753,  0.        ]), array([ 1.30457438, 24.26681505,  0.        ])]\n",
      "soil init [16.0, 16.0, 16.0, 16.0, 16.0, 16.0, 16.0, 16.0] [0.1, 0.1, 0.1, 0.1, 0.1, 0.1, 0.1, 0.1] [[0.3333333333333333, 0.3333333333333333, 0.3333333333333333, 0.0, 0.0, 0.0, 0.0, 0.0, 0.0, 0.0, 0.0, 0.0, 0.0, 0.0, 0.0, 0.0, 0.0, 0.0, 0.0, 0.0, 0.0, 0.0, 0.0, 0.0, 0.0, 0.0, 0.0, 0.0, 0.0, 0.0, 0.0, 0.0, 0.0, 0.0, 0.0, 0.0, 0.0, 0.0, 0.0, 0.0, 0.0, 0.0, 0.0, 0.0, 0.0, 0.0, 0.0, 0.0, 0.0, 0.0, 0.0, 0.0, 0.0], [0.3333333333333333, 0.3333333333333333, 0.3333333333333333, 0.0, 0.0, 0.0, 0.0, 0.0, 0.0, 0.0, 0.0, 0.0, 0.0, 0.0, 0.0, 0.0, 0.0, 0.0, 0.0, 0.0, 0.0, 0.0, 0.0, 0.0, 0.0, 0.0, 0.0, 0.0, 0.0, 0.0, 0.0, 0.0, 0.0, 0.0, 0.0, 0.0, 0.0, 0.0, 0.0, 0.0, 0.0, 0.0, 0.0, 0.0, 0.0, 0.0, 0.0, 0.0, 0.0, 0.0, 0.0, 0.0, 0.0], [0.3333333333333333, 0.3333333333333333, 0.3333333333333333, 0.0, 0.0, 0.0, 0.0, 0.0, 0.0, 0.0, 0.0, 0.0, 0.0, 0.0, 0.0, 0.0, 0.0, 0.0, 0.0, 0.0, 0.0, 0.0, 0.0, 0.0, 0.0, 0.0, 0.0, 0.0, 0.0, 0.0, 0.0, 0.0, 0.0, 0.0, 0.0, 0.0, 0.0, 0.0, 0.0, 0.0, 0.0, 0.0, 0.0, 0.0, 0.0, 0.0, 0.0, 0.0, 0.0, 0.0, 0.0, 0.0, 0.0], [0.3333333333333333, 0.3333333333333333, 0.3333333333333333, 0.0, 0.0, 0.0, 0.0, 0.0, 0.0, 0.0, 0.0, 0.0, 0.0, 0.0, 0.0, 0.0, 0.0, 0.0, 0.0, 0.0, 0.0, 0.0, 0.0, 0.0, 0.0, 0.0, 0.0, 0.0, 0.0, 0.0, 0.0, 0.0, 0.0, 0.0, 0.0, 0.0, 0.0, 0.0, 0.0, 0.0, 0.0, 0.0, 0.0, 0.0, 0.0, 0.0, 0.0, 0.0, 0.0, 0.0, 0.0, 0.0, 0.0], [0.3333333333333333, 0.3333333333333333, 0.3333333333333333, 0.0, 0.0, 0.0, 0.0, 0.0, 0.0, 0.0, 0.0, 0.0, 0.0, 0.0, 0.0, 0.0, 0.0, 0.0, 0.0, 0.0, 0.0, 0.0, 0.0, 0.0, 0.0, 0.0, 0.0, 0.0, 0.0, 0.0, 0.0, 0.0, 0.0, 0.0, 0.0, 0.0, 0.0, 0.0, 0.0, 0.0, 0.0, 0.0, 0.0, 0.0, 0.0, 0.0, 0.0, 0.0, 0.0, 0.0, 0.0, 0.0, 0.0], [0.3333333333333333, 0.3333333333333333, 0.3333333333333333, 0.0, 0.0, 0.0, 0.0, 0.0, 0.0, 0.0, 0.0, 0.0, 0.0, 0.0, 0.0, 0.0, 0.0, 0.0, 0.0, 0.0, 0.0, 0.0, 0.0, 0.0, 0.0, 0.0, 0.0, 0.0, 0.0, 0.0, 0.0, 0.0, 0.0, 0.0, 0.0, 0.0, 0.0, 0.0, 0.0, 0.0, 0.0, 0.0, 0.0, 0.0, 0.0, 0.0, 0.0, 0.0, 0.0, 0.0, 0.0, 0.0, 0.0], [0.3333333333333333, 0.3333333333333333, 0.3333333333333333, 0.0, 0.0, 0.0, 0.0, 0.0, 0.0, 0.0, 0.0, 0.0, 0.0, 0.0, 0.0, 0.0, 0.0, 0.0, 0.0, 0.0, 0.0, 0.0, 0.0, 0.0, 0.0, 0.0, 0.0, 0.0, 0.0, 0.0, 0.0, 0.0, 0.0, 0.0, 0.0, 0.0, 0.0, 0.0, 0.0, 0.0, 0.0, 0.0, 0.0, 0.0, 0.0, 0.0, 0.0, 0.0, 0.0, 0.0, 0.0, 0.0, 0.0], [0.3333333333333333, 0.3333333333333333, 0.3333333333333333, 0.0, 0.0, 0.0, 0.0, 0.0, 0.0, 0.0, 0.0, 0.0, 0.0, 0.0, 0.0, 0.0, 0.0, 0.0, 0.0, 0.0, 0.0, 0.0, 0.0, 0.0, 0.0, 0.0, 0.0, 0.0, 0.0, 0.0, 0.0, 0.0, 0.0, 0.0, 0.0, 0.0, 0.0, 0.0, 0.0, 0.0, 0.0, 0.0, 0.0, 0.0, 0.0, 0.0, 0.0, 0.0, 0.0, 0.0, 0.0, 0.0, 0.0]] [0.7, 0.7, 0.7, 0.7, 0.7, 0.7, 0.7, 0.7] [0.42, 0.42, 0.42, 0.42, 0.42, 0.42, 0.42, 0.42]\n",
      "ls_CRES (8, 30, 5, 5)\n",
      "ls_CBio (8, 30, 5, 5)\n",
      "parResi {'CNRESt': [16.0, 16.0, 16.0, 16.0, 16.0, 16.0, 16.0, 16.0], 'CNBio': [8.412500000000001, 8.412500000000001, 8.412500000000001, 8.412500000000001, 8.412500000000001, 8.412500000000001, 8.412500000000001, 8.412500000000001], 'KRES': [0.19125, 0.19125, 0.19125, 0.19125, 0.19125, 0.19125, 0.19125, 0.19125], 'YRES': [0.62, 0.62, 0.62, 0.62, 0.62, 0.62, 0.62, 0.62], 'KBio': [0.011, 0.011, 0.011, 0.011, 0.011, 0.011, 0.011, 0.011], 'HRES': [0.5941176470588235, 0.5941176470588235, 0.5941176470588235, 0.5941176470588235, 0.5941176470588235, 0.5941176470588235, 0.5941176470588235, 0.5941176470588235], 'TRefg': 15.0, 'FTEMHAg': 12.0, 'FTEMHg': 0.103, 'FTEMHB': 52.0}\n",
      "61\n"
     ]
    }
   ],
   "source": [
    "generation_type = \"random\"\n",
    "plant_density = {\"legume\": 250, \"wheat\" : 1000}\n",
    "xy_square_length = 0.5\n",
    "\n",
    "planter = Planter(\n",
    "    generation_type=generation_type,\n",
    "    plant_density=plant_density, \n",
    "    xy_square_length=xy_square_length\n",
    ")\n",
    "\n",
    "wheat = Wheat_facade(in_folder=\"../inputs_fspmwheat\", planter=planter)\n",
    "legume = L_egume_facade(in_folder=\"../inputs_soil_legume\", planter=planter)\n",
    "legume.derive(0)\n",
    "\n",
    "legume_scene_cm = legume.light_inputs(lightmodel=\"caribu\")\n",
    "legume_scene = []\n",
    "for l in legume_scene_cm :\n",
    "    mat = pgl.Material((random.randint(0,255),random.randint(0,255),random.randint(0,255)))\n",
    "    for s in l:\n",
    "        legume_scene.append(pgl.Shape(pgl.Scaled(0.01, s.geometry), mat, s.id))\n",
    "\n",
    "scene = wheat.light_inputs(planter) + legume_scene\n"
   ]
  },
  {
   "cell_type": "code",
   "execution_count": 12,
   "id": "fe53dc2b",
   "metadata": {},
   "outputs": [
    {
     "data": {
      "application/vnd.jupyter.widget-view+json": {
       "model_id": "49f7fc76b217460586b93dd77c2b3097",
       "version_major": 2,
       "version_minor": 0
      },
      "text/plain": [
       "SceneWidget(axes_helper=True, scenes=[{'id': 'kFFV0uRIHLBx5VP2LeoXv6QxE', 'data': b'x\\xda\\xcc\\x9dw\\x98\\x15\\xc5…"
      ]
     },
     "execution_count": 12,
     "metadata": {},
     "output_type": "execute_result"
    }
   ],
   "source": [
    "SceneWidget(scene, size_display=(600, 400), position=(-0.25, -0.25, 0.0), plane=True, size_world = 0.5, axes_helper=True)\n"
   ]
  },
  {
   "cell_type": "markdown",
   "id": "948a6f82",
   "metadata": {},
   "source": [
    "## Tirage en rangs"
   ]
  },
  {
   "cell_type": "markdown",
   "id": "628971d6",
   "metadata": {},
   "source": [
    "### wheat + l-egume"
   ]
  },
  {
   "cell_type": "code",
   "execution_count": 13,
   "id": "bb194423",
   "metadata": {},
   "outputs": [
    {
     "name": "stdout",
     "output_type": "stream",
     "text": [
      "Directory  wheat\\brut  already exists\n",
      "Directory  wheat\\postprocessing  already exists\n",
      "Directory  wheat\\graphs  already exists\n",
      "Directory  legume\\brut  already exists\n",
      "Directory  legume\\graphs  already exists\n"
     ]
    },
    {
     "name": "stderr",
     "output_type": "stream",
     "text": [
      "<string>:1018: Warning: Found symbol '#' after Lstring. Considered as begining of comments\n",
      "<string>:1035: Warning: Found symbol '#' after Lstring. Considered as begining of comments\n",
      "<string>:1325: Warning: Found symbol '#' after Lstring. Considered as begining of comments\n",
      "<string>:1383: Warning: Found symbol '#' after Lstring. Considered as begining of comments\n",
      "<string>:1405: Warning: Found symbol '#' after Lstring. Considered as begining of comments\n",
      "<string>:1855: Warning: Found symbol '#' after Lstring. Considered as begining of comments\n",
      "<string>:1933: Warning: Found symbol '#' after Lstring. Considered as begining of comments\n",
      "<string>:2074: Warning: Found symbol '#' after Lstring. Considered as begining of comments\n",
      "<string>:2088: Warning: Found symbol '#' after Lstring. Considered as begining of comments\n",
      "<string>:2089: Warning: Found symbol '#' after Lstring. Considered as begining of comments\n",
      "<string>:2134: Warning: Found symbol '#' after Lstring. Considered as begining of comments\n",
      "<string>:2136: Warning: Found symbol '#' after Lstring. Considered as begining of comments\n",
      "c:\\users\\mwoussen\\cdd\\codes\\dev\\plantfusion\\plantfusion\\l_egume_facade.py:879: Warning: Interpretation rules should be context free. Contexts not supported for multiple iterations.\n",
      "  testsim[name] = lpy.Lsystem(path_lsys)\n",
      "<string>:2254: Warning: Found symbol '#' after Lstring. Considered as begining of comments\n",
      "<string>:2345: Warning: Found symbol '#' after Lstring. Considered as begining of comments\n"
     ]
    },
    {
     "name": "stdout",
     "output_type": "stream",
     "text": [
      "lspe ['Fix2', 'nonFixSimTest']\n",
      "carto 24 [array([1.66666667, 5.        , 0.        ]), array([ 1.66666667, 25.        ,  0.        ]), array([5., 5., 0.]), array([ 5., 25.,  0.]), array([8.33333333, 5.        , 0.        ]), array([ 8.33333333, 25.        ,  0.        ]), array([11.66666667,  5.        ,  0.        ]), array([11.66666667, 25.        ,  0.        ]), array([15.,  5.,  0.]), array([15., 25.,  0.]), array([18.33333333,  5.        ,  0.        ]), array([18.33333333, 25.        ,  0.        ]), array([21.66666667,  5.        ,  0.        ]), array([21.66666667, 25.        ,  0.        ]), array([25.,  5.,  0.]), array([25., 25.,  0.]), array([28.33333333,  5.        ,  0.        ]), array([28.33333333, 25.        ,  0.        ]), array([31.66666667,  5.        ,  0.        ]), array([31.66666667, 25.        ,  0.        ]), array([35.,  5.,  0.]), array([35., 25.,  0.]), array([38.33333333,  5.        ,  0.        ]), array([38.33333333, 25.        ,  0.        ])]\n",
      "soil init [16.0, 16.0, 16.0, 16.0, 16.0, 16.0, 16.0, 16.0] [0.1, 0.1, 0.1, 0.1, 0.1, 0.1, 0.1, 0.1] [[0.3333333333333333, 0.3333333333333333, 0.3333333333333333, 0.0, 0.0, 0.0, 0.0, 0.0, 0.0, 0.0, 0.0, 0.0, 0.0, 0.0, 0.0, 0.0, 0.0, 0.0, 0.0, 0.0, 0.0, 0.0, 0.0, 0.0, 0.0, 0.0, 0.0, 0.0, 0.0, 0.0, 0.0, 0.0, 0.0, 0.0, 0.0, 0.0, 0.0, 0.0, 0.0, 0.0, 0.0, 0.0, 0.0, 0.0, 0.0, 0.0, 0.0, 0.0, 0.0, 0.0, 0.0, 0.0, 0.0], [0.3333333333333333, 0.3333333333333333, 0.3333333333333333, 0.0, 0.0, 0.0, 0.0, 0.0, 0.0, 0.0, 0.0, 0.0, 0.0, 0.0, 0.0, 0.0, 0.0, 0.0, 0.0, 0.0, 0.0, 0.0, 0.0, 0.0, 0.0, 0.0, 0.0, 0.0, 0.0, 0.0, 0.0, 0.0, 0.0, 0.0, 0.0, 0.0, 0.0, 0.0, 0.0, 0.0, 0.0, 0.0, 0.0, 0.0, 0.0, 0.0, 0.0, 0.0, 0.0, 0.0, 0.0, 0.0, 0.0], [0.3333333333333333, 0.3333333333333333, 0.3333333333333333, 0.0, 0.0, 0.0, 0.0, 0.0, 0.0, 0.0, 0.0, 0.0, 0.0, 0.0, 0.0, 0.0, 0.0, 0.0, 0.0, 0.0, 0.0, 0.0, 0.0, 0.0, 0.0, 0.0, 0.0, 0.0, 0.0, 0.0, 0.0, 0.0, 0.0, 0.0, 0.0, 0.0, 0.0, 0.0, 0.0, 0.0, 0.0, 0.0, 0.0, 0.0, 0.0, 0.0, 0.0, 0.0, 0.0, 0.0, 0.0, 0.0, 0.0], [0.3333333333333333, 0.3333333333333333, 0.3333333333333333, 0.0, 0.0, 0.0, 0.0, 0.0, 0.0, 0.0, 0.0, 0.0, 0.0, 0.0, 0.0, 0.0, 0.0, 0.0, 0.0, 0.0, 0.0, 0.0, 0.0, 0.0, 0.0, 0.0, 0.0, 0.0, 0.0, 0.0, 0.0, 0.0, 0.0, 0.0, 0.0, 0.0, 0.0, 0.0, 0.0, 0.0, 0.0, 0.0, 0.0, 0.0, 0.0, 0.0, 0.0, 0.0, 0.0, 0.0, 0.0, 0.0, 0.0], [0.3333333333333333, 0.3333333333333333, 0.3333333333333333, 0.0, 0.0, 0.0, 0.0, 0.0, 0.0, 0.0, 0.0, 0.0, 0.0, 0.0, 0.0, 0.0, 0.0, 0.0, 0.0, 0.0, 0.0, 0.0, 0.0, 0.0, 0.0, 0.0, 0.0, 0.0, 0.0, 0.0, 0.0, 0.0, 0.0, 0.0, 0.0, 0.0, 0.0, 0.0, 0.0, 0.0, 0.0, 0.0, 0.0, 0.0, 0.0, 0.0, 0.0, 0.0, 0.0, 0.0, 0.0, 0.0, 0.0], [0.3333333333333333, 0.3333333333333333, 0.3333333333333333, 0.0, 0.0, 0.0, 0.0, 0.0, 0.0, 0.0, 0.0, 0.0, 0.0, 0.0, 0.0, 0.0, 0.0, 0.0, 0.0, 0.0, 0.0, 0.0, 0.0, 0.0, 0.0, 0.0, 0.0, 0.0, 0.0, 0.0, 0.0, 0.0, 0.0, 0.0, 0.0, 0.0, 0.0, 0.0, 0.0, 0.0, 0.0, 0.0, 0.0, 0.0, 0.0, 0.0, 0.0, 0.0, 0.0, 0.0, 0.0, 0.0, 0.0], [0.3333333333333333, 0.3333333333333333, 0.3333333333333333, 0.0, 0.0, 0.0, 0.0, 0.0, 0.0, 0.0, 0.0, 0.0, 0.0, 0.0, 0.0, 0.0, 0.0, 0.0, 0.0, 0.0, 0.0, 0.0, 0.0, 0.0, 0.0, 0.0, 0.0, 0.0, 0.0, 0.0, 0.0, 0.0, 0.0, 0.0, 0.0, 0.0, 0.0, 0.0, 0.0, 0.0, 0.0, 0.0, 0.0, 0.0, 0.0, 0.0, 0.0, 0.0, 0.0, 0.0, 0.0, 0.0, 0.0], [0.3333333333333333, 0.3333333333333333, 0.3333333333333333, 0.0, 0.0, 0.0, 0.0, 0.0, 0.0, 0.0, 0.0, 0.0, 0.0, 0.0, 0.0, 0.0, 0.0, 0.0, 0.0, 0.0, 0.0, 0.0, 0.0, 0.0, 0.0, 0.0, 0.0, 0.0, 0.0, 0.0, 0.0, 0.0, 0.0, 0.0, 0.0, 0.0, 0.0, 0.0, 0.0, 0.0, 0.0, 0.0, 0.0, 0.0, 0.0, 0.0, 0.0, 0.0, 0.0, 0.0, 0.0, 0.0, 0.0]] [0.7, 0.7, 0.7, 0.7, 0.7, 0.7, 0.7, 0.7] [0.42, 0.42, 0.42, 0.42, 0.42, 0.42, 0.42, 0.42]\n",
      "ls_CRES (8, 30, 5, 5)\n",
      "ls_CBio (8, 30, 5, 5)\n",
      "parResi {'CNRESt': [16.0, 16.0, 16.0, 16.0, 16.0, 16.0, 16.0, 16.0], 'CNBio': [8.412500000000001, 8.412500000000001, 8.412500000000001, 8.412500000000001, 8.412500000000001, 8.412500000000001, 8.412500000000001, 8.412500000000001], 'KRES': [0.19125, 0.19125, 0.19125, 0.19125, 0.19125, 0.19125, 0.19125, 0.19125], 'YRES': [0.62, 0.62, 0.62, 0.62, 0.62, 0.62, 0.62, 0.62], 'KBio': [0.011, 0.011, 0.011, 0.011, 0.011, 0.011, 0.011, 0.011], 'HRES': [0.5941176470588235, 0.5941176470588235, 0.5941176470588235, 0.5941176470588235, 0.5941176470588235, 0.5941176470588235, 0.5941176470588235, 0.5941176470588235], 'TRefg': 15.0, 'FTEMHAg': 12.0, 'FTEMHg': 0.103, 'FTEMHB': 52.0}\n",
      "61\n",
      "lspe ['Fix2', 'nonFixSimTest']\n"
     ]
    },
    {
     "name": "stderr",
     "output_type": "stream",
     "text": [
      "c:\\users\\mwoussen\\cdd\\codes\\lib\\soil3ds\\soil3ds\\soil_moduleN.py:315: RuntimeWarning: invalid value encountered in true_divide\n",
      "  ls_concN = list(map(np.divide, list(map(np.sum, ls_masked_moleN)), list(map(np.sum, ls_vol_eau))))\n"
     ]
    },
    {
     "name": "stdout",
     "output_type": "stream",
     "text": [
      "carto 24 [array([1.66666667, 5.        , 0.        ]), array([ 1.66666667, 25.        ,  0.        ]), array([5., 5., 0.]), array([ 5., 25.,  0.]), array([8.33333333, 5.        , 0.        ]), array([ 8.33333333, 25.        ,  0.        ]), array([11.66666667,  5.        ,  0.        ]), array([11.66666667, 25.        ,  0.        ]), array([15.,  5.,  0.]), array([15., 25.,  0.]), array([18.33333333,  5.        ,  0.        ]), array([18.33333333, 25.        ,  0.        ]), array([21.66666667,  5.        ,  0.        ]), array([21.66666667, 25.        ,  0.        ]), array([25.,  5.,  0.]), array([25., 25.,  0.]), array([28.33333333,  5.        ,  0.        ]), array([28.33333333, 25.        ,  0.        ]), array([31.66666667,  5.        ,  0.        ]), array([31.66666667, 25.        ,  0.        ]), array([35.,  5.,  0.]), array([35., 25.,  0.]), array([38.33333333,  5.        ,  0.        ]), array([38.33333333, 25.        ,  0.        ])]\n",
      "soil init [16.0, 16.0, 16.0, 16.0, 16.0, 16.0, 16.0, 16.0] [0.1, 0.1, 0.1, 0.1, 0.1, 0.1, 0.1, 0.1] [[0.3333333333333333, 0.3333333333333333, 0.3333333333333333, 0.0, 0.0, 0.0, 0.0, 0.0, 0.0, 0.0, 0.0, 0.0, 0.0, 0.0, 0.0, 0.0, 0.0, 0.0, 0.0, 0.0, 0.0, 0.0, 0.0, 0.0, 0.0, 0.0, 0.0, 0.0, 0.0, 0.0, 0.0, 0.0, 0.0, 0.0, 0.0, 0.0, 0.0, 0.0, 0.0, 0.0, 0.0, 0.0, 0.0, 0.0, 0.0, 0.0, 0.0, 0.0, 0.0, 0.0, 0.0, 0.0, 0.0], [0.3333333333333333, 0.3333333333333333, 0.3333333333333333, 0.0, 0.0, 0.0, 0.0, 0.0, 0.0, 0.0, 0.0, 0.0, 0.0, 0.0, 0.0, 0.0, 0.0, 0.0, 0.0, 0.0, 0.0, 0.0, 0.0, 0.0, 0.0, 0.0, 0.0, 0.0, 0.0, 0.0, 0.0, 0.0, 0.0, 0.0, 0.0, 0.0, 0.0, 0.0, 0.0, 0.0, 0.0, 0.0, 0.0, 0.0, 0.0, 0.0, 0.0, 0.0, 0.0, 0.0, 0.0, 0.0, 0.0], [0.3333333333333333, 0.3333333333333333, 0.3333333333333333, 0.0, 0.0, 0.0, 0.0, 0.0, 0.0, 0.0, 0.0, 0.0, 0.0, 0.0, 0.0, 0.0, 0.0, 0.0, 0.0, 0.0, 0.0, 0.0, 0.0, 0.0, 0.0, 0.0, 0.0, 0.0, 0.0, 0.0, 0.0, 0.0, 0.0, 0.0, 0.0, 0.0, 0.0, 0.0, 0.0, 0.0, 0.0, 0.0, 0.0, 0.0, 0.0, 0.0, 0.0, 0.0, 0.0, 0.0, 0.0, 0.0, 0.0], [0.3333333333333333, 0.3333333333333333, 0.3333333333333333, 0.0, 0.0, 0.0, 0.0, 0.0, 0.0, 0.0, 0.0, 0.0, 0.0, 0.0, 0.0, 0.0, 0.0, 0.0, 0.0, 0.0, 0.0, 0.0, 0.0, 0.0, 0.0, 0.0, 0.0, 0.0, 0.0, 0.0, 0.0, 0.0, 0.0, 0.0, 0.0, 0.0, 0.0, 0.0, 0.0, 0.0, 0.0, 0.0, 0.0, 0.0, 0.0, 0.0, 0.0, 0.0, 0.0, 0.0, 0.0, 0.0, 0.0], [0.3333333333333333, 0.3333333333333333, 0.3333333333333333, 0.0, 0.0, 0.0, 0.0, 0.0, 0.0, 0.0, 0.0, 0.0, 0.0, 0.0, 0.0, 0.0, 0.0, 0.0, 0.0, 0.0, 0.0, 0.0, 0.0, 0.0, 0.0, 0.0, 0.0, 0.0, 0.0, 0.0, 0.0, 0.0, 0.0, 0.0, 0.0, 0.0, 0.0, 0.0, 0.0, 0.0, 0.0, 0.0, 0.0, 0.0, 0.0, 0.0, 0.0, 0.0, 0.0, 0.0, 0.0, 0.0, 0.0], [0.3333333333333333, 0.3333333333333333, 0.3333333333333333, 0.0, 0.0, 0.0, 0.0, 0.0, 0.0, 0.0, 0.0, 0.0, 0.0, 0.0, 0.0, 0.0, 0.0, 0.0, 0.0, 0.0, 0.0, 0.0, 0.0, 0.0, 0.0, 0.0, 0.0, 0.0, 0.0, 0.0, 0.0, 0.0, 0.0, 0.0, 0.0, 0.0, 0.0, 0.0, 0.0, 0.0, 0.0, 0.0, 0.0, 0.0, 0.0, 0.0, 0.0, 0.0, 0.0, 0.0, 0.0, 0.0, 0.0], [0.3333333333333333, 0.3333333333333333, 0.3333333333333333, 0.0, 0.0, 0.0, 0.0, 0.0, 0.0, 0.0, 0.0, 0.0, 0.0, 0.0, 0.0, 0.0, 0.0, 0.0, 0.0, 0.0, 0.0, 0.0, 0.0, 0.0, 0.0, 0.0, 0.0, 0.0, 0.0, 0.0, 0.0, 0.0, 0.0, 0.0, 0.0, 0.0, 0.0, 0.0, 0.0, 0.0, 0.0, 0.0, 0.0, 0.0, 0.0, 0.0, 0.0, 0.0, 0.0, 0.0, 0.0, 0.0, 0.0], [0.3333333333333333, 0.3333333333333333, 0.3333333333333333, 0.0, 0.0, 0.0, 0.0, 0.0, 0.0, 0.0, 0.0, 0.0, 0.0, 0.0, 0.0, 0.0, 0.0, 0.0, 0.0, 0.0, 0.0, 0.0, 0.0, 0.0, 0.0, 0.0, 0.0, 0.0, 0.0, 0.0, 0.0, 0.0, 0.0, 0.0, 0.0, 0.0, 0.0, 0.0, 0.0, 0.0, 0.0, 0.0, 0.0, 0.0, 0.0, 0.0, 0.0, 0.0, 0.0, 0.0, 0.0, 0.0, 0.0]] [0.7, 0.7, 0.7, 0.7, 0.7, 0.7, 0.7, 0.7] [0.42, 0.42, 0.42, 0.42, 0.42, 0.42, 0.42, 0.42]\n",
      "ls_CRES (8, 30, 5, 5)\n",
      "ls_CBio (8, 30, 5, 5)\n",
      "parResi {'CNRESt': [16.0, 16.0, 16.0, 16.0, 16.0, 16.0, 16.0, 16.0], 'CNBio': [8.412500000000001, 8.412500000000001, 8.412500000000001, 8.412500000000001, 8.412500000000001, 8.412500000000001, 8.412500000000001, 8.412500000000001], 'KRES': [0.19125, 0.19125, 0.19125, 0.19125, 0.19125, 0.19125, 0.19125, 0.19125], 'YRES': [0.62, 0.62, 0.62, 0.62, 0.62, 0.62, 0.62, 0.62], 'KBio': [0.011, 0.011, 0.011, 0.011, 0.011, 0.011, 0.011, 0.011], 'HRES': [0.5941176470588235, 0.5941176470588235, 0.5941176470588235, 0.5941176470588235, 0.5941176470588235, 0.5941176470588235, 0.5941176470588235, 0.5941176470588235], 'TRefg': 15.0, 'FTEMHAg': 12.0, 'FTEMHg': 0.103, 'FTEMHB': 52.0}\n",
      "61\n"
     ]
    }
   ],
   "source": [
    "generation_type = \"row\"\n",
    "plant_density = {\"legume\": [150], \"wheat\" : [150]}\n",
    "inter_rows = 0.10\n",
    "\n",
    "planter = Planter(\n",
    "    generation_type=generation_type,\n",
    "    plant_density=plant_density, \n",
    "    inter_rows=inter_rows,\n",
    "    noise_plant_positions=0.01\n",
    ")\n",
    "\n",
    "wheat = Wheat_facade(in_folder=\"../inputs_fspmwheat\", planter=planter)\n",
    "legume = L_egume_facade(in_folder=\"../inputs_soil_legume\", planter=planter)\n",
    "legume.derive(0)\n",
    "\n",
    "legume_scene_cm = legume.light_inputs(lightmodel=\"caribu\")\n",
    "\n",
    "scene = wheat.light_inputs(planter) + scene_cm_tp_m(legume_scene_cm)"
   ]
  },
  {
   "cell_type": "code",
   "execution_count": 14,
   "id": "bdcf3834",
   "metadata": {
    "scrolled": true
   },
   "outputs": [
    {
     "data": {
      "application/vnd.jupyter.widget-view+json": {
       "model_id": "5f7aa894cfec443ea58f168c25102cb7",
       "version_major": 2,
       "version_minor": 0
      },
      "text/plain": [
       "SceneWidget(axes_helper=True, scenes=[{'id': 'hlBhGZEYONvRYj4qj0SXBeycr', 'data': b'x\\xda\\xcd\\x9c\\t|\\x14E\\xbe\\…"
      ]
     },
     "execution_count": 14,
     "metadata": {},
     "output_type": "execute_result"
    }
   ],
   "source": [
    "SceneWidget(scene, size_display=(600, 400), position=(-0.2, -0.2, 0.0), plane=True, size_world = 0.5, axes_helper=True)\n"
   ]
  },
  {
   "cell_type": "markdown",
   "id": "8d5381a8",
   "metadata": {},
   "source": [
    "### Autres combinaisons"
   ]
  },
  {
   "cell_type": "code",
   "execution_count": 15,
   "id": "1309667f",
   "metadata": {},
   "outputs": [],
   "source": [
    "def translate_scenes(scene, indice, transformations):\n",
    "    if indice in transformations[\"translate\"] :\n",
    "        new_scene = []\n",
    "        mat = pgl.Material((random.randint(0,255),random.randint(0,255),random.randint(0,255)))\n",
    "        for shape in scene:\n",
    "            new_scene.append(pgl.Shape(pgl.Translated(transformations[\"translate\"][indice], shape.geometry), mat, shape.id))\n",
    "        return pgl.Scene(new_scene)\n",
    "    else:\n",
    "        return scene"
   ]
  },
  {
   "cell_type": "code",
   "execution_count": 17,
   "id": "692f62ef",
   "metadata": {},
   "outputs": [
    {
     "name": "stdout",
     "output_type": "stream",
     "text": [
      "Directory  wheat\\brut  already exists\n",
      "Directory  wheat\\postprocessing  already exists\n",
      "Directory  wheat\\graphs  already exists\n",
      "Directory  wheat\\brut  already exists\n",
      "Directory  wheat\\postprocessing  already exists\n",
      "Directory  wheat\\graphs  already exists\n"
     ]
    },
    {
     "data": {
      "application/vnd.jupyter.widget-view+json": {
       "model_id": "43373eecd3e24c53857e7362d8cb7b34",
       "version_major": 2,
       "version_minor": 0
      },
      "text/plain": [
       "SceneWidget(axes_helper=True, scenes=[{'id': 'Zds0qOm2P6euSOkeEenbvgGPC', 'data': b'x\\xda\\xd5}{x\\x14E\\xba~ \\\\\"…"
      ]
     },
     "execution_count": 17,
     "metadata": {},
     "output_type": "execute_result"
    }
   ],
   "source": [
    "generation_type = \"row\"\n",
    "plant_density = {\"wheat\" : [350, 50]}\n",
    "plantmodels = [\"wheat\", \"wheat\"]\n",
    "inter_rows = 0.10\n",
    "\n",
    "planter = Planter(\n",
    "    plantmodels=plantmodels,\n",
    "    generation_type=generation_type,\n",
    "    plant_density=plant_density, \n",
    "    inter_rows=inter_rows,\n",
    "    noise_plant_positions=0.01\n",
    ")\n",
    "\n",
    "wheat1 = Wheat_facade(in_folder=\"../inputs_fspmwheat\", planter=planter)\n",
    "wheat2 = Wheat_facade(in_folder=\"../inputs_fspmwheat\", planter=planter)\n",
    "\n",
    "scenes = [wheat1.light_inputs(planter, planter_index=0)[0], wheat2.light_inputs(planter, planter_index=1)[0]]\n",
    "final_scene = pgl.Scene()\n",
    "for i, scene in enumerate(scenes):\n",
    "    final_scene = final_scene + translate_scenes(scene, i, planter.transformations)\n",
    "\n",
    "SceneWidget(final_scene, size_display=(600, 400), position=(-0.2, -0.2, 0.0), plane=True, size_world = 0.5, axes_helper=True)"
   ]
  },
  {
   "cell_type": "code",
   "execution_count": 18,
   "id": "97cb5200",
   "metadata": {},
   "outputs": [
    {
     "name": "stdout",
     "output_type": "stream",
     "text": [
      "Directory  wheat\\brut  already exists\n",
      "Directory  wheat\\postprocessing  already exists\n",
      "Directory  wheat\\graphs  already exists\n",
      "Directory  wheat\\brut  already exists\n",
      "Directory  wheat\\postprocessing  already exists\n",
      "Directory  wheat\\graphs  already exists\n",
      "Directory  legume\\brut  already exists\n",
      "Directory  legume\\graphs  already exists\n"
     ]
    },
    {
     "name": "stderr",
     "output_type": "stream",
     "text": [
      "<string>:1018: Warning: Found symbol '#' after Lstring. Considered as begining of comments\n",
      "<string>:1035: Warning: Found symbol '#' after Lstring. Considered as begining of comments\n",
      "<string>:1325: Warning: Found symbol '#' after Lstring. Considered as begining of comments\n",
      "<string>:1383: Warning: Found symbol '#' after Lstring. Considered as begining of comments\n",
      "<string>:1405: Warning: Found symbol '#' after Lstring. Considered as begining of comments\n",
      "<string>:1855: Warning: Found symbol '#' after Lstring. Considered as begining of comments\n",
      "<string>:1933: Warning: Found symbol '#' after Lstring. Considered as begining of comments\n",
      "<string>:2074: Warning: Found symbol '#' after Lstring. Considered as begining of comments\n",
      "<string>:2088: Warning: Found symbol '#' after Lstring. Considered as begining of comments\n",
      "<string>:2089: Warning: Found symbol '#' after Lstring. Considered as begining of comments\n",
      "<string>:2134: Warning: Found symbol '#' after Lstring. Considered as begining of comments\n",
      "<string>:2136: Warning: Found symbol '#' after Lstring. Considered as begining of comments\n",
      "c:\\users\\mwoussen\\cdd\\codes\\dev\\plantfusion\\plantfusion\\l_egume_facade.py:879: Warning: Interpretation rules should be context free. Contexts not supported for multiple iterations.\n",
      "  testsim[name] = lpy.Lsystem(path_lsys)\n",
      "<string>:2254: Warning: Found symbol '#' after Lstring. Considered as begining of comments\n",
      "<string>:2345: Warning: Found symbol '#' after Lstring. Considered as begining of comments\n"
     ]
    },
    {
     "name": "stdout",
     "output_type": "stream",
     "text": [
      "lspe ['Fix2', 'nonFixSimTest']\n",
      "carto 64 [array([ 1.25, 10.  ,  0.  ]), array([ 1.25, 50.  ,  0.  ]), array([ 3.75, 10.  ,  0.  ]), array([ 3.75, 50.  ,  0.  ]), array([ 6.25, 10.  ,  0.  ]), array([ 6.25, 50.  ,  0.  ]), array([ 8.75, 10.  ,  0.  ]), array([ 8.75, 50.  ,  0.  ]), array([11.25, 10.  ,  0.  ]), array([11.25, 50.  ,  0.  ]), array([13.75, 10.  ,  0.  ]), array([13.75, 50.  ,  0.  ]), array([16.25, 10.  ,  0.  ]), array([16.25, 50.  ,  0.  ]), array([18.75, 10.  ,  0.  ]), array([18.75, 50.  ,  0.  ]), array([21.25, 10.  ,  0.  ]), array([21.25, 50.  ,  0.  ]), array([23.75, 10.  ,  0.  ]), array([23.75, 50.  ,  0.  ]), array([26.25, 10.  ,  0.  ]), array([26.25, 50.  ,  0.  ]), array([28.75, 10.  ,  0.  ]), array([28.75, 50.  ,  0.  ]), array([31.25, 10.  ,  0.  ]), array([31.25, 50.  ,  0.  ]), array([33.75, 10.  ,  0.  ]), array([33.75, 50.  ,  0.  ]), array([36.25, 10.  ,  0.  ]), array([36.25, 50.  ,  0.  ]), array([38.75, 10.  ,  0.  ]), array([38.75, 50.  ,  0.  ]), array([41.25, 10.  ,  0.  ]), array([41.25, 50.  ,  0.  ]), array([43.75, 10.  ,  0.  ]), array([43.75, 50.  ,  0.  ]), array([46.25, 10.  ,  0.  ]), array([46.25, 50.  ,  0.  ]), array([48.75, 10.  ,  0.  ]), array([48.75, 50.  ,  0.  ]), array([51.25, 10.  ,  0.  ]), array([51.25, 50.  ,  0.  ]), array([53.75, 10.  ,  0.  ]), array([53.75, 50.  ,  0.  ]), array([56.25, 10.  ,  0.  ]), array([56.25, 50.  ,  0.  ]), array([58.75, 10.  ,  0.  ]), array([58.75, 50.  ,  0.  ]), array([61.25, 10.  ,  0.  ]), array([61.25, 50.  ,  0.  ]), array([63.75, 10.  ,  0.  ]), array([63.75, 50.  ,  0.  ]), array([66.25, 10.  ,  0.  ]), array([66.25, 50.  ,  0.  ]), array([68.75, 10.  ,  0.  ]), array([68.75, 50.  ,  0.  ]), array([71.25, 10.  ,  0.  ]), array([71.25, 50.  ,  0.  ]), array([73.75, 10.  ,  0.  ]), array([73.75, 50.  ,  0.  ]), array([76.25, 10.  ,  0.  ]), array([76.25, 50.  ,  0.  ]), array([78.75, 10.  ,  0.  ]), array([78.75, 50.  ,  0.  ])]\n",
      "soil init [16.0, 16.0, 16.0, 16.0, 16.0, 16.0, 16.0, 16.0] [0.1, 0.1, 0.1, 0.1, 0.1, 0.1, 0.1, 0.1] [[0.3333333333333333, 0.3333333333333333, 0.3333333333333333, 0.0, 0.0, 0.0, 0.0, 0.0, 0.0, 0.0, 0.0, 0.0, 0.0, 0.0, 0.0, 0.0, 0.0, 0.0, 0.0, 0.0, 0.0, 0.0, 0.0, 0.0, 0.0, 0.0, 0.0, 0.0, 0.0, 0.0, 0.0, 0.0, 0.0, 0.0, 0.0, 0.0, 0.0, 0.0, 0.0, 0.0, 0.0, 0.0, 0.0, 0.0, 0.0, 0.0, 0.0, 0.0, 0.0, 0.0, 0.0, 0.0, 0.0], [0.3333333333333333, 0.3333333333333333, 0.3333333333333333, 0.0, 0.0, 0.0, 0.0, 0.0, 0.0, 0.0, 0.0, 0.0, 0.0, 0.0, 0.0, 0.0, 0.0, 0.0, 0.0, 0.0, 0.0, 0.0, 0.0, 0.0, 0.0, 0.0, 0.0, 0.0, 0.0, 0.0, 0.0, 0.0, 0.0, 0.0, 0.0, 0.0, 0.0, 0.0, 0.0, 0.0, 0.0, 0.0, 0.0, 0.0, 0.0, 0.0, 0.0, 0.0, 0.0, 0.0, 0.0, 0.0, 0.0], [0.3333333333333333, 0.3333333333333333, 0.3333333333333333, 0.0, 0.0, 0.0, 0.0, 0.0, 0.0, 0.0, 0.0, 0.0, 0.0, 0.0, 0.0, 0.0, 0.0, 0.0, 0.0, 0.0, 0.0, 0.0, 0.0, 0.0, 0.0, 0.0, 0.0, 0.0, 0.0, 0.0, 0.0, 0.0, 0.0, 0.0, 0.0, 0.0, 0.0, 0.0, 0.0, 0.0, 0.0, 0.0, 0.0, 0.0, 0.0, 0.0, 0.0, 0.0, 0.0, 0.0, 0.0, 0.0, 0.0], [0.3333333333333333, 0.3333333333333333, 0.3333333333333333, 0.0, 0.0, 0.0, 0.0, 0.0, 0.0, 0.0, 0.0, 0.0, 0.0, 0.0, 0.0, 0.0, 0.0, 0.0, 0.0, 0.0, 0.0, 0.0, 0.0, 0.0, 0.0, 0.0, 0.0, 0.0, 0.0, 0.0, 0.0, 0.0, 0.0, 0.0, 0.0, 0.0, 0.0, 0.0, 0.0, 0.0, 0.0, 0.0, 0.0, 0.0, 0.0, 0.0, 0.0, 0.0, 0.0, 0.0, 0.0, 0.0, 0.0], [0.3333333333333333, 0.3333333333333333, 0.3333333333333333, 0.0, 0.0, 0.0, 0.0, 0.0, 0.0, 0.0, 0.0, 0.0, 0.0, 0.0, 0.0, 0.0, 0.0, 0.0, 0.0, 0.0, 0.0, 0.0, 0.0, 0.0, 0.0, 0.0, 0.0, 0.0, 0.0, 0.0, 0.0, 0.0, 0.0, 0.0, 0.0, 0.0, 0.0, 0.0, 0.0, 0.0, 0.0, 0.0, 0.0, 0.0, 0.0, 0.0, 0.0, 0.0, 0.0, 0.0, 0.0, 0.0, 0.0], [0.3333333333333333, 0.3333333333333333, 0.3333333333333333, 0.0, 0.0, 0.0, 0.0, 0.0, 0.0, 0.0, 0.0, 0.0, 0.0, 0.0, 0.0, 0.0, 0.0, 0.0, 0.0, 0.0, 0.0, 0.0, 0.0, 0.0, 0.0, 0.0, 0.0, 0.0, 0.0, 0.0, 0.0, 0.0, 0.0, 0.0, 0.0, 0.0, 0.0, 0.0, 0.0, 0.0, 0.0, 0.0, 0.0, 0.0, 0.0, 0.0, 0.0, 0.0, 0.0, 0.0, 0.0, 0.0, 0.0], [0.3333333333333333, 0.3333333333333333, 0.3333333333333333, 0.0, 0.0, 0.0, 0.0, 0.0, 0.0, 0.0, 0.0, 0.0, 0.0, 0.0, 0.0, 0.0, 0.0, 0.0, 0.0, 0.0, 0.0, 0.0, 0.0, 0.0, 0.0, 0.0, 0.0, 0.0, 0.0, 0.0, 0.0, 0.0, 0.0, 0.0, 0.0, 0.0, 0.0, 0.0, 0.0, 0.0, 0.0, 0.0, 0.0, 0.0, 0.0, 0.0, 0.0, 0.0, 0.0, 0.0, 0.0, 0.0, 0.0], [0.3333333333333333, 0.3333333333333333, 0.3333333333333333, 0.0, 0.0, 0.0, 0.0, 0.0, 0.0, 0.0, 0.0, 0.0, 0.0, 0.0, 0.0, 0.0, 0.0, 0.0, 0.0, 0.0, 0.0, 0.0, 0.0, 0.0, 0.0, 0.0, 0.0, 0.0, 0.0, 0.0, 0.0, 0.0, 0.0, 0.0, 0.0, 0.0, 0.0, 0.0, 0.0, 0.0, 0.0, 0.0, 0.0, 0.0, 0.0, 0.0, 0.0, 0.0, 0.0, 0.0, 0.0, 0.0, 0.0]] [0.7, 0.7, 0.7, 0.7, 0.7, 0.7, 0.7, 0.7] [0.42, 0.42, 0.42, 0.42, 0.42, 0.42, 0.42, 0.42]\n",
      "ls_CRES (8, 30, 5, 5)\n",
      "ls_CBio (8, 30, 5, 5)\n",
      "parResi {'CNRESt': [16.0, 16.0, 16.0, 16.0, 16.0, 16.0, 16.0, 16.0], 'CNBio': [8.412500000000001, 8.412500000000001, 8.412500000000001, 8.412500000000001, 8.412500000000001, 8.412500000000001, 8.412500000000001, 8.412500000000001], 'KRES': [0.19125, 0.19125, 0.19125, 0.19125, 0.19125, 0.19125, 0.19125, 0.19125], 'YRES': [0.62, 0.62, 0.62, 0.62, 0.62, 0.62, 0.62, 0.62], 'KBio': [0.011, 0.011, 0.011, 0.011, 0.011, 0.011, 0.011, 0.011], 'HRES': [0.5941176470588235, 0.5941176470588235, 0.5941176470588235, 0.5941176470588235, 0.5941176470588235, 0.5941176470588235, 0.5941176470588235, 0.5941176470588235], 'TRefg': 15.0, 'FTEMHAg': 12.0, 'FTEMHg': 0.103, 'FTEMHB': 52.0}\n",
      "61\n",
      "Directory  legume\\brut  already exists\n",
      "Directory  legume\\graphs  already exists\n"
     ]
    },
    {
     "name": "stderr",
     "output_type": "stream",
     "text": [
      "c:\\users\\mwoussen\\cdd\\codes\\lib\\soil3ds\\soil3ds\\soil_moduleN.py:315: RuntimeWarning: invalid value encountered in true_divide\n",
      "  ls_concN = list(map(np.divide, list(map(np.sum, ls_masked_moleN)), list(map(np.sum, ls_vol_eau))))\n",
      "<string>:1018: Warning: Found symbol '#' after Lstring. Considered as begining of comments\n",
      "<string>:1035: Warning: Found symbol '#' after Lstring. Considered as begining of comments\n",
      "<string>:1325: Warning: Found symbol '#' after Lstring. Considered as begining of comments\n",
      "<string>:1383: Warning: Found symbol '#' after Lstring. Considered as begining of comments\n",
      "<string>:1405: Warning: Found symbol '#' after Lstring. Considered as begining of comments\n",
      "<string>:1855: Warning: Found symbol '#' after Lstring. Considered as begining of comments\n",
      "<string>:1933: Warning: Found symbol '#' after Lstring. Considered as begining of comments\n",
      "<string>:2074: Warning: Found symbol '#' after Lstring. Considered as begining of comments\n",
      "<string>:2088: Warning: Found symbol '#' after Lstring. Considered as begining of comments\n",
      "<string>:2089: Warning: Found symbol '#' after Lstring. Considered as begining of comments\n",
      "<string>:2134: Warning: Found symbol '#' after Lstring. Considered as begining of comments\n",
      "<string>:2136: Warning: Found symbol '#' after Lstring. Considered as begining of comments\n",
      "c:\\users\\mwoussen\\cdd\\codes\\dev\\plantfusion\\plantfusion\\l_egume_facade.py:879: Warning: Interpretation rules should be context free. Contexts not supported for multiple iterations.\n",
      "  testsim[name] = lpy.Lsystem(path_lsys)\n",
      "<string>:2254: Warning: Found symbol '#' after Lstring. Considered as begining of comments\n",
      "<string>:2345: Warning: Found symbol '#' after Lstring. Considered as begining of comments\n"
     ]
    },
    {
     "name": "stdout",
     "output_type": "stream",
     "text": [
      "lspe ['Fix2', 'nonFixSimTest']\n",
      "carto 128 [array([ 0.625, 10.   ,  0.   ]), array([ 0.625, 50.   ,  0.   ]), array([ 1.875, 10.   ,  0.   ]), array([ 1.875, 50.   ,  0.   ]), array([ 3.125, 10.   ,  0.   ]), array([ 3.125, 50.   ,  0.   ]), array([ 4.375, 10.   ,  0.   ]), array([ 4.375, 50.   ,  0.   ]), array([ 5.625, 10.   ,  0.   ]), array([ 5.625, 50.   ,  0.   ]), array([ 6.875, 10.   ,  0.   ]), array([ 6.875, 50.   ,  0.   ]), array([ 8.125, 10.   ,  0.   ]), array([ 8.125, 50.   ,  0.   ]), array([ 9.375, 10.   ,  0.   ]), array([ 9.375, 50.   ,  0.   ]), array([10.625, 10.   ,  0.   ]), array([10.625, 50.   ,  0.   ]), array([11.875, 10.   ,  0.   ]), array([11.875, 50.   ,  0.   ]), array([13.125, 10.   ,  0.   ]), array([13.125, 50.   ,  0.   ]), array([14.375, 10.   ,  0.   ]), array([14.375, 50.   ,  0.   ]), array([15.625, 10.   ,  0.   ]), array([15.625, 50.   ,  0.   ]), array([16.875, 10.   ,  0.   ]), array([16.875, 50.   ,  0.   ]), array([18.125, 10.   ,  0.   ]), array([18.125, 50.   ,  0.   ]), array([19.375, 10.   ,  0.   ]), array([19.375, 50.   ,  0.   ]), array([20.625, 10.   ,  0.   ]), array([20.625, 50.   ,  0.   ]), array([21.875, 10.   ,  0.   ]), array([21.875, 50.   ,  0.   ]), array([23.125, 10.   ,  0.   ]), array([23.125, 50.   ,  0.   ]), array([24.375, 10.   ,  0.   ]), array([24.375, 50.   ,  0.   ]), array([25.625, 10.   ,  0.   ]), array([25.625, 50.   ,  0.   ]), array([26.875, 10.   ,  0.   ]), array([26.875, 50.   ,  0.   ]), array([28.125, 10.   ,  0.   ]), array([28.125, 50.   ,  0.   ]), array([29.375, 10.   ,  0.   ]), array([29.375, 50.   ,  0.   ]), array([30.625, 10.   ,  0.   ]), array([30.625, 50.   ,  0.   ]), array([31.875, 10.   ,  0.   ]), array([31.875, 50.   ,  0.   ]), array([33.125, 10.   ,  0.   ]), array([33.125, 50.   ,  0.   ]), array([34.375, 10.   ,  0.   ]), array([34.375, 50.   ,  0.   ]), array([35.625, 10.   ,  0.   ]), array([35.625, 50.   ,  0.   ]), array([36.875, 10.   ,  0.   ]), array([36.875, 50.   ,  0.   ]), array([38.125, 10.   ,  0.   ]), array([38.125, 50.   ,  0.   ]), array([39.375, 10.   ,  0.   ]), array([39.375, 50.   ,  0.   ]), array([40.625, 10.   ,  0.   ]), array([40.625, 50.   ,  0.   ]), array([41.875, 10.   ,  0.   ]), array([41.875, 50.   ,  0.   ]), array([43.125, 10.   ,  0.   ]), array([43.125, 50.   ,  0.   ]), array([44.375, 10.   ,  0.   ]), array([44.375, 50.   ,  0.   ]), array([45.625, 10.   ,  0.   ]), array([45.625, 50.   ,  0.   ]), array([46.875, 10.   ,  0.   ]), array([46.875, 50.   ,  0.   ]), array([48.125, 10.   ,  0.   ]), array([48.125, 50.   ,  0.   ]), array([49.375, 10.   ,  0.   ]), array([49.375, 50.   ,  0.   ]), array([50.625, 10.   ,  0.   ]), array([50.625, 50.   ,  0.   ]), array([51.875, 10.   ,  0.   ]), array([51.875, 50.   ,  0.   ]), array([53.125, 10.   ,  0.   ]), array([53.125, 50.   ,  0.   ]), array([54.375, 10.   ,  0.   ]), array([54.375, 50.   ,  0.   ]), array([55.625, 10.   ,  0.   ]), array([55.625, 50.   ,  0.   ]), array([56.875, 10.   ,  0.   ]), array([56.875, 50.   ,  0.   ]), array([58.125, 10.   ,  0.   ]), array([58.125, 50.   ,  0.   ]), array([59.375, 10.   ,  0.   ]), array([59.375, 50.   ,  0.   ]), array([60.625, 10.   ,  0.   ]), array([60.625, 50.   ,  0.   ]), array([61.875, 10.   ,  0.   ]), array([61.875, 50.   ,  0.   ]), array([63.125, 10.   ,  0.   ]), array([63.125, 50.   ,  0.   ]), array([64.375, 10.   ,  0.   ]), array([64.375, 50.   ,  0.   ]), array([65.625, 10.   ,  0.   ]), array([65.625, 50.   ,  0.   ]), array([66.875, 10.   ,  0.   ]), array([66.875, 50.   ,  0.   ]), array([68.125, 10.   ,  0.   ]), array([68.125, 50.   ,  0.   ]), array([69.375, 10.   ,  0.   ]), array([69.375, 50.   ,  0.   ]), array([70.625, 10.   ,  0.   ]), array([70.625, 50.   ,  0.   ]), array([71.875, 10.   ,  0.   ]), array([71.875, 50.   ,  0.   ]), array([73.125, 10.   ,  0.   ]), array([73.125, 50.   ,  0.   ]), array([74.375, 10.   ,  0.   ]), array([74.375, 50.   ,  0.   ]), array([75.625, 10.   ,  0.   ]), array([75.625, 50.   ,  0.   ]), array([76.875, 10.   ,  0.   ]), array([76.875, 50.   ,  0.   ]), array([78.125, 10.   ,  0.   ]), array([78.125, 50.   ,  0.   ]), array([79.375, 10.   ,  0.   ]), array([79.375, 50.   ,  0.   ])]\n",
      "soil init [16.0, 16.0, 16.0, 16.0, 16.0, 16.0, 16.0, 16.0] [0.1, 0.1, 0.1, 0.1, 0.1, 0.1, 0.1, 0.1] [[0.3333333333333333, 0.3333333333333333, 0.3333333333333333, 0.0, 0.0, 0.0, 0.0, 0.0, 0.0, 0.0, 0.0, 0.0, 0.0, 0.0, 0.0, 0.0, 0.0, 0.0, 0.0, 0.0, 0.0, 0.0, 0.0, 0.0, 0.0, 0.0, 0.0, 0.0, 0.0, 0.0, 0.0, 0.0, 0.0, 0.0, 0.0, 0.0, 0.0, 0.0, 0.0, 0.0, 0.0, 0.0, 0.0, 0.0, 0.0, 0.0, 0.0, 0.0, 0.0, 0.0, 0.0, 0.0, 0.0], [0.3333333333333333, 0.3333333333333333, 0.3333333333333333, 0.0, 0.0, 0.0, 0.0, 0.0, 0.0, 0.0, 0.0, 0.0, 0.0, 0.0, 0.0, 0.0, 0.0, 0.0, 0.0, 0.0, 0.0, 0.0, 0.0, 0.0, 0.0, 0.0, 0.0, 0.0, 0.0, 0.0, 0.0, 0.0, 0.0, 0.0, 0.0, 0.0, 0.0, 0.0, 0.0, 0.0, 0.0, 0.0, 0.0, 0.0, 0.0, 0.0, 0.0, 0.0, 0.0, 0.0, 0.0, 0.0, 0.0], [0.3333333333333333, 0.3333333333333333, 0.3333333333333333, 0.0, 0.0, 0.0, 0.0, 0.0, 0.0, 0.0, 0.0, 0.0, 0.0, 0.0, 0.0, 0.0, 0.0, 0.0, 0.0, 0.0, 0.0, 0.0, 0.0, 0.0, 0.0, 0.0, 0.0, 0.0, 0.0, 0.0, 0.0, 0.0, 0.0, 0.0, 0.0, 0.0, 0.0, 0.0, 0.0, 0.0, 0.0, 0.0, 0.0, 0.0, 0.0, 0.0, 0.0, 0.0, 0.0, 0.0, 0.0, 0.0, 0.0], [0.3333333333333333, 0.3333333333333333, 0.3333333333333333, 0.0, 0.0, 0.0, 0.0, 0.0, 0.0, 0.0, 0.0, 0.0, 0.0, 0.0, 0.0, 0.0, 0.0, 0.0, 0.0, 0.0, 0.0, 0.0, 0.0, 0.0, 0.0, 0.0, 0.0, 0.0, 0.0, 0.0, 0.0, 0.0, 0.0, 0.0, 0.0, 0.0, 0.0, 0.0, 0.0, 0.0, 0.0, 0.0, 0.0, 0.0, 0.0, 0.0, 0.0, 0.0, 0.0, 0.0, 0.0, 0.0, 0.0], [0.3333333333333333, 0.3333333333333333, 0.3333333333333333, 0.0, 0.0, 0.0, 0.0, 0.0, 0.0, 0.0, 0.0, 0.0, 0.0, 0.0, 0.0, 0.0, 0.0, 0.0, 0.0, 0.0, 0.0, 0.0, 0.0, 0.0, 0.0, 0.0, 0.0, 0.0, 0.0, 0.0, 0.0, 0.0, 0.0, 0.0, 0.0, 0.0, 0.0, 0.0, 0.0, 0.0, 0.0, 0.0, 0.0, 0.0, 0.0, 0.0, 0.0, 0.0, 0.0, 0.0, 0.0, 0.0, 0.0], [0.3333333333333333, 0.3333333333333333, 0.3333333333333333, 0.0, 0.0, 0.0, 0.0, 0.0, 0.0, 0.0, 0.0, 0.0, 0.0, 0.0, 0.0, 0.0, 0.0, 0.0, 0.0, 0.0, 0.0, 0.0, 0.0, 0.0, 0.0, 0.0, 0.0, 0.0, 0.0, 0.0, 0.0, 0.0, 0.0, 0.0, 0.0, 0.0, 0.0, 0.0, 0.0, 0.0, 0.0, 0.0, 0.0, 0.0, 0.0, 0.0, 0.0, 0.0, 0.0, 0.0, 0.0, 0.0, 0.0], [0.3333333333333333, 0.3333333333333333, 0.3333333333333333, 0.0, 0.0, 0.0, 0.0, 0.0, 0.0, 0.0, 0.0, 0.0, 0.0, 0.0, 0.0, 0.0, 0.0, 0.0, 0.0, 0.0, 0.0, 0.0, 0.0, 0.0, 0.0, 0.0, 0.0, 0.0, 0.0, 0.0, 0.0, 0.0, 0.0, 0.0, 0.0, 0.0, 0.0, 0.0, 0.0, 0.0, 0.0, 0.0, 0.0, 0.0, 0.0, 0.0, 0.0, 0.0, 0.0, 0.0, 0.0, 0.0, 0.0], [0.3333333333333333, 0.3333333333333333, 0.3333333333333333, 0.0, 0.0, 0.0, 0.0, 0.0, 0.0, 0.0, 0.0, 0.0, 0.0, 0.0, 0.0, 0.0, 0.0, 0.0, 0.0, 0.0, 0.0, 0.0, 0.0, 0.0, 0.0, 0.0, 0.0, 0.0, 0.0, 0.0, 0.0, 0.0, 0.0, 0.0, 0.0, 0.0, 0.0, 0.0, 0.0, 0.0, 0.0, 0.0, 0.0, 0.0, 0.0, 0.0, 0.0, 0.0, 0.0, 0.0, 0.0, 0.0, 0.0]] [0.7, 0.7, 0.7, 0.7, 0.7, 0.7, 0.7, 0.7] [0.42, 0.42, 0.42, 0.42, 0.42, 0.42, 0.42, 0.42]\n",
      "ls_CRES (8, 30, 5, 5)\n",
      "ls_CBio (8, 30, 5, 5)\n",
      "parResi {'CNRESt': [16.0, 16.0, 16.0, 16.0, 16.0, 16.0, 16.0, 16.0], 'CNBio': [8.412500000000001, 8.412500000000001, 8.412500000000001, 8.412500000000001, 8.412500000000001, 8.412500000000001, 8.412500000000001, 8.412500000000001], 'KRES': [0.19125, 0.19125, 0.19125, 0.19125, 0.19125, 0.19125, 0.19125, 0.19125], 'YRES': [0.62, 0.62, 0.62, 0.62, 0.62, 0.62, 0.62, 0.62], 'KBio': [0.011, 0.011, 0.011, 0.011, 0.011, 0.011, 0.011, 0.011], 'HRES': [0.5941176470588235, 0.5941176470588235, 0.5941176470588235, 0.5941176470588235, 0.5941176470588235, 0.5941176470588235, 0.5941176470588235, 0.5941176470588235], 'TRefg': 15.0, 'FTEMHAg': 12.0, 'FTEMHg': 0.103, 'FTEMHB': 52.0}\n",
      "61\n",
      "lspe ['Fix2', 'nonFixSimTest']\n"
     ]
    },
    {
     "name": "stderr",
     "output_type": "stream",
     "text": [
      "c:\\users\\mwoussen\\cdd\\codes\\lib\\soil3ds\\soil3ds\\soil_moduleN.py:315: RuntimeWarning: invalid value encountered in true_divide\n",
      "  ls_concN = list(map(np.divide, list(map(np.sum, ls_masked_moleN)), list(map(np.sum, ls_vol_eau))))\n"
     ]
    },
    {
     "name": "stdout",
     "output_type": "stream",
     "text": [
      "carto 64 [array([ 1.25, 10.  ,  0.  ]), array([ 1.25, 50.  ,  0.  ]), array([ 3.75, 10.  ,  0.  ]), array([ 3.75, 50.  ,  0.  ]), array([ 6.25, 10.  ,  0.  ]), array([ 6.25, 50.  ,  0.  ]), array([ 8.75, 10.  ,  0.  ]), array([ 8.75, 50.  ,  0.  ]), array([11.25, 10.  ,  0.  ]), array([11.25, 50.  ,  0.  ]), array([13.75, 10.  ,  0.  ]), array([13.75, 50.  ,  0.  ]), array([16.25, 10.  ,  0.  ]), array([16.25, 50.  ,  0.  ]), array([18.75, 10.  ,  0.  ]), array([18.75, 50.  ,  0.  ]), array([21.25, 10.  ,  0.  ]), array([21.25, 50.  ,  0.  ]), array([23.75, 10.  ,  0.  ]), array([23.75, 50.  ,  0.  ]), array([26.25, 10.  ,  0.  ]), array([26.25, 50.  ,  0.  ]), array([28.75, 10.  ,  0.  ]), array([28.75, 50.  ,  0.  ]), array([31.25, 10.  ,  0.  ]), array([31.25, 50.  ,  0.  ]), array([33.75, 10.  ,  0.  ]), array([33.75, 50.  ,  0.  ]), array([36.25, 10.  ,  0.  ]), array([36.25, 50.  ,  0.  ]), array([38.75, 10.  ,  0.  ]), array([38.75, 50.  ,  0.  ]), array([41.25, 10.  ,  0.  ]), array([41.25, 50.  ,  0.  ]), array([43.75, 10.  ,  0.  ]), array([43.75, 50.  ,  0.  ]), array([46.25, 10.  ,  0.  ]), array([46.25, 50.  ,  0.  ]), array([48.75, 10.  ,  0.  ]), array([48.75, 50.  ,  0.  ]), array([51.25, 10.  ,  0.  ]), array([51.25, 50.  ,  0.  ]), array([53.75, 10.  ,  0.  ]), array([53.75, 50.  ,  0.  ]), array([56.25, 10.  ,  0.  ]), array([56.25, 50.  ,  0.  ]), array([58.75, 10.  ,  0.  ]), array([58.75, 50.  ,  0.  ]), array([61.25, 10.  ,  0.  ]), array([61.25, 50.  ,  0.  ]), array([63.75, 10.  ,  0.  ]), array([63.75, 50.  ,  0.  ]), array([66.25, 10.  ,  0.  ]), array([66.25, 50.  ,  0.  ]), array([68.75, 10.  ,  0.  ]), array([68.75, 50.  ,  0.  ]), array([71.25, 10.  ,  0.  ]), array([71.25, 50.  ,  0.  ]), array([73.75, 10.  ,  0.  ]), array([73.75, 50.  ,  0.  ]), array([76.25, 10.  ,  0.  ]), array([76.25, 50.  ,  0.  ]), array([78.75, 10.  ,  0.  ]), array([78.75, 50.  ,  0.  ])]\n",
      "soil init [16.0, 16.0, 16.0, 16.0, 16.0, 16.0, 16.0, 16.0] [0.1, 0.1, 0.1, 0.1, 0.1, 0.1, 0.1, 0.1] [[0.3333333333333333, 0.3333333333333333, 0.3333333333333333, 0.0, 0.0, 0.0, 0.0, 0.0, 0.0, 0.0, 0.0, 0.0, 0.0, 0.0, 0.0, 0.0, 0.0, 0.0, 0.0, 0.0, 0.0, 0.0, 0.0, 0.0, 0.0, 0.0, 0.0, 0.0, 0.0, 0.0, 0.0, 0.0, 0.0, 0.0, 0.0, 0.0, 0.0, 0.0, 0.0, 0.0, 0.0, 0.0, 0.0, 0.0, 0.0, 0.0, 0.0, 0.0, 0.0, 0.0, 0.0, 0.0, 0.0], [0.3333333333333333, 0.3333333333333333, 0.3333333333333333, 0.0, 0.0, 0.0, 0.0, 0.0, 0.0, 0.0, 0.0, 0.0, 0.0, 0.0, 0.0, 0.0, 0.0, 0.0, 0.0, 0.0, 0.0, 0.0, 0.0, 0.0, 0.0, 0.0, 0.0, 0.0, 0.0, 0.0, 0.0, 0.0, 0.0, 0.0, 0.0, 0.0, 0.0, 0.0, 0.0, 0.0, 0.0, 0.0, 0.0, 0.0, 0.0, 0.0, 0.0, 0.0, 0.0, 0.0, 0.0, 0.0, 0.0], [0.3333333333333333, 0.3333333333333333, 0.3333333333333333, 0.0, 0.0, 0.0, 0.0, 0.0, 0.0, 0.0, 0.0, 0.0, 0.0, 0.0, 0.0, 0.0, 0.0, 0.0, 0.0, 0.0, 0.0, 0.0, 0.0, 0.0, 0.0, 0.0, 0.0, 0.0, 0.0, 0.0, 0.0, 0.0, 0.0, 0.0, 0.0, 0.0, 0.0, 0.0, 0.0, 0.0, 0.0, 0.0, 0.0, 0.0, 0.0, 0.0, 0.0, 0.0, 0.0, 0.0, 0.0, 0.0, 0.0], [0.3333333333333333, 0.3333333333333333, 0.3333333333333333, 0.0, 0.0, 0.0, 0.0, 0.0, 0.0, 0.0, 0.0, 0.0, 0.0, 0.0, 0.0, 0.0, 0.0, 0.0, 0.0, 0.0, 0.0, 0.0, 0.0, 0.0, 0.0, 0.0, 0.0, 0.0, 0.0, 0.0, 0.0, 0.0, 0.0, 0.0, 0.0, 0.0, 0.0, 0.0, 0.0, 0.0, 0.0, 0.0, 0.0, 0.0, 0.0, 0.0, 0.0, 0.0, 0.0, 0.0, 0.0, 0.0, 0.0], [0.3333333333333333, 0.3333333333333333, 0.3333333333333333, 0.0, 0.0, 0.0, 0.0, 0.0, 0.0, 0.0, 0.0, 0.0, 0.0, 0.0, 0.0, 0.0, 0.0, 0.0, 0.0, 0.0, 0.0, 0.0, 0.0, 0.0, 0.0, 0.0, 0.0, 0.0, 0.0, 0.0, 0.0, 0.0, 0.0, 0.0, 0.0, 0.0, 0.0, 0.0, 0.0, 0.0, 0.0, 0.0, 0.0, 0.0, 0.0, 0.0, 0.0, 0.0, 0.0, 0.0, 0.0, 0.0, 0.0], [0.3333333333333333, 0.3333333333333333, 0.3333333333333333, 0.0, 0.0, 0.0, 0.0, 0.0, 0.0, 0.0, 0.0, 0.0, 0.0, 0.0, 0.0, 0.0, 0.0, 0.0, 0.0, 0.0, 0.0, 0.0, 0.0, 0.0, 0.0, 0.0, 0.0, 0.0, 0.0, 0.0, 0.0, 0.0, 0.0, 0.0, 0.0, 0.0, 0.0, 0.0, 0.0, 0.0, 0.0, 0.0, 0.0, 0.0, 0.0, 0.0, 0.0, 0.0, 0.0, 0.0, 0.0, 0.0, 0.0], [0.3333333333333333, 0.3333333333333333, 0.3333333333333333, 0.0, 0.0, 0.0, 0.0, 0.0, 0.0, 0.0, 0.0, 0.0, 0.0, 0.0, 0.0, 0.0, 0.0, 0.0, 0.0, 0.0, 0.0, 0.0, 0.0, 0.0, 0.0, 0.0, 0.0, 0.0, 0.0, 0.0, 0.0, 0.0, 0.0, 0.0, 0.0, 0.0, 0.0, 0.0, 0.0, 0.0, 0.0, 0.0, 0.0, 0.0, 0.0, 0.0, 0.0, 0.0, 0.0, 0.0, 0.0, 0.0, 0.0], [0.3333333333333333, 0.3333333333333333, 0.3333333333333333, 0.0, 0.0, 0.0, 0.0, 0.0, 0.0, 0.0, 0.0, 0.0, 0.0, 0.0, 0.0, 0.0, 0.0, 0.0, 0.0, 0.0, 0.0, 0.0, 0.0, 0.0, 0.0, 0.0, 0.0, 0.0, 0.0, 0.0, 0.0, 0.0, 0.0, 0.0, 0.0, 0.0, 0.0, 0.0, 0.0, 0.0, 0.0, 0.0, 0.0, 0.0, 0.0, 0.0, 0.0, 0.0, 0.0, 0.0, 0.0, 0.0, 0.0]] [0.7, 0.7, 0.7, 0.7, 0.7, 0.7, 0.7, 0.7] [0.42, 0.42, 0.42, 0.42, 0.42, 0.42, 0.42, 0.42]\n",
      "ls_CRES (8, 30, 5, 5)\n",
      "ls_CBio (8, 30, 5, 5)\n",
      "parResi {'CNRESt': [16.0, 16.0, 16.0, 16.0, 16.0, 16.0, 16.0, 16.0], 'CNBio': [8.412500000000001, 8.412500000000001, 8.412500000000001, 8.412500000000001, 8.412500000000001, 8.412500000000001, 8.412500000000001, 8.412500000000001], 'KRES': [0.19125, 0.19125, 0.19125, 0.19125, 0.19125, 0.19125, 0.19125, 0.19125], 'YRES': [0.62, 0.62, 0.62, 0.62, 0.62, 0.62, 0.62, 0.62], 'KBio': [0.011, 0.011, 0.011, 0.011, 0.011, 0.011, 0.011, 0.011], 'HRES': [0.5941176470588235, 0.5941176470588235, 0.5941176470588235, 0.5941176470588235, 0.5941176470588235, 0.5941176470588235, 0.5941176470588235, 0.5941176470588235], 'TRefg': 15.0, 'FTEMHAg': 12.0, 'FTEMHg': 0.103, 'FTEMHB': 52.0}\n",
      "61\n",
      "lspe ['Fix2', 'nonFixSimTest']\n",
      "carto 128 [array([ 0.625, 10.   ,  0.   ]), array([ 0.625, 50.   ,  0.   ]), array([ 1.875, 10.   ,  0.   ]), array([ 1.875, 50.   ,  0.   ]), array([ 3.125, 10.   ,  0.   ]), array([ 3.125, 50.   ,  0.   ]), array([ 4.375, 10.   ,  0.   ]), array([ 4.375, 50.   ,  0.   ]), array([ 5.625, 10.   ,  0.   ]), array([ 5.625, 50.   ,  0.   ]), array([ 6.875, 10.   ,  0.   ]), array([ 6.875, 50.   ,  0.   ]), array([ 8.125, 10.   ,  0.   ]), array([ 8.125, 50.   ,  0.   ]), array([ 9.375, 10.   ,  0.   ]), array([ 9.375, 50.   ,  0.   ]), array([10.625, 10.   ,  0.   ]), array([10.625, 50.   ,  0.   ]), array([11.875, 10.   ,  0.   ]), array([11.875, 50.   ,  0.   ]), array([13.125, 10.   ,  0.   ]), array([13.125, 50.   ,  0.   ]), array([14.375, 10.   ,  0.   ]), array([14.375, 50.   ,  0.   ]), array([15.625, 10.   ,  0.   ]), array([15.625, 50.   ,  0.   ]), array([16.875, 10.   ,  0.   ]), array([16.875, 50.   ,  0.   ]), array([18.125, 10.   ,  0.   ]), array([18.125, 50.   ,  0.   ]), array([19.375, 10.   ,  0.   ]), array([19.375, 50.   ,  0.   ]), array([20.625, 10.   ,  0.   ]), array([20.625, 50.   ,  0.   ]), array([21.875, 10.   ,  0.   ]), array([21.875, 50.   ,  0.   ]), array([23.125, 10.   ,  0.   ]), array([23.125, 50.   ,  0.   ]), array([24.375, 10.   ,  0.   ]), array([24.375, 50.   ,  0.   ]), array([25.625, 10.   ,  0.   ]), array([25.625, 50.   ,  0.   ]), array([26.875, 10.   ,  0.   ]), array([26.875, 50.   ,  0.   ]), array([28.125, 10.   ,  0.   ]), array([28.125, 50.   ,  0.   ]), array([29.375, 10.   ,  0.   ]), array([29.375, 50.   ,  0.   ]), array([30.625, 10.   ,  0.   ]), array([30.625, 50.   ,  0.   ]), array([31.875, 10.   ,  0.   ]), array([31.875, 50.   ,  0.   ]), array([33.125, 10.   ,  0.   ]), array([33.125, 50.   ,  0.   ]), array([34.375, 10.   ,  0.   ]), array([34.375, 50.   ,  0.   ]), array([35.625, 10.   ,  0.   ]), array([35.625, 50.   ,  0.   ]), array([36.875, 10.   ,  0.   ]), array([36.875, 50.   ,  0.   ]), array([38.125, 10.   ,  0.   ]), array([38.125, 50.   ,  0.   ]), array([39.375, 10.   ,  0.   ]), array([39.375, 50.   ,  0.   ]), array([40.625, 10.   ,  0.   ]), array([40.625, 50.   ,  0.   ]), array([41.875, 10.   ,  0.   ]), array([41.875, 50.   ,  0.   ]), array([43.125, 10.   ,  0.   ]), array([43.125, 50.   ,  0.   ]), array([44.375, 10.   ,  0.   ]), array([44.375, 50.   ,  0.   ]), array([45.625, 10.   ,  0.   ]), array([45.625, 50.   ,  0.   ]), array([46.875, 10.   ,  0.   ]), array([46.875, 50.   ,  0.   ]), array([48.125, 10.   ,  0.   ]), array([48.125, 50.   ,  0.   ]), array([49.375, 10.   ,  0.   ]), array([49.375, 50.   ,  0.   ]), array([50.625, 10.   ,  0.   ]), array([50.625, 50.   ,  0.   ]), array([51.875, 10.   ,  0.   ]), array([51.875, 50.   ,  0.   ]), array([53.125, 10.   ,  0.   ]), array([53.125, 50.   ,  0.   ]), array([54.375, 10.   ,  0.   ]), array([54.375, 50.   ,  0.   ]), array([55.625, 10.   ,  0.   ]), array([55.625, 50.   ,  0.   ]), array([56.875, 10.   ,  0.   ]), array([56.875, 50.   ,  0.   ]), array([58.125, 10.   ,  0.   ]), array([58.125, 50.   ,  0.   ]), array([59.375, 10.   ,  0.   ]), array([59.375, 50.   ,  0.   ]), array([60.625, 10.   ,  0.   ]), array([60.625, 50.   ,  0.   ]), array([61.875, 10.   ,  0.   ]), array([61.875, 50.   ,  0.   ]), array([63.125, 10.   ,  0.   ]), array([63.125, 50.   ,  0.   ]), array([64.375, 10.   ,  0.   ]), array([64.375, 50.   ,  0.   ]), array([65.625, 10.   ,  0.   ]), array([65.625, 50.   ,  0.   ]), array([66.875, 10.   ,  0.   ]), array([66.875, 50.   ,  0.   ]), array([68.125, 10.   ,  0.   ]), array([68.125, 50.   ,  0.   ]), array([69.375, 10.   ,  0.   ]), array([69.375, 50.   ,  0.   ]), array([70.625, 10.   ,  0.   ]), array([70.625, 50.   ,  0.   ]), array([71.875, 10.   ,  0.   ]), array([71.875, 50.   ,  0.   ]), array([73.125, 10.   ,  0.   ]), array([73.125, 50.   ,  0.   ]), array([74.375, 10.   ,  0.   ]), array([74.375, 50.   ,  0.   ]), array([75.625, 10.   ,  0.   ]), array([75.625, 50.   ,  0.   ]), array([76.875, 10.   ,  0.   ]), array([76.875, 50.   ,  0.   ]), array([78.125, 10.   ,  0.   ]), array([78.125, 50.   ,  0.   ]), array([79.375, 10.   ,  0.   ]), array([79.375, 50.   ,  0.   ])]\n",
      "soil init [16.0, 16.0, 16.0, 16.0, 16.0, 16.0, 16.0, 16.0] [0.1, 0.1, 0.1, 0.1, 0.1, 0.1, 0.1, 0.1] [[0.3333333333333333, 0.3333333333333333, 0.3333333333333333, 0.0, 0.0, 0.0, 0.0, 0.0, 0.0, 0.0, 0.0, 0.0, 0.0, 0.0, 0.0, 0.0, 0.0, 0.0, 0.0, 0.0, 0.0, 0.0, 0.0, 0.0, 0.0, 0.0, 0.0, 0.0, 0.0, 0.0, 0.0, 0.0, 0.0, 0.0, 0.0, 0.0, 0.0, 0.0, 0.0, 0.0, 0.0, 0.0, 0.0, 0.0, 0.0, 0.0, 0.0, 0.0, 0.0, 0.0, 0.0, 0.0, 0.0], [0.3333333333333333, 0.3333333333333333, 0.3333333333333333, 0.0, 0.0, 0.0, 0.0, 0.0, 0.0, 0.0, 0.0, 0.0, 0.0, 0.0, 0.0, 0.0, 0.0, 0.0, 0.0, 0.0, 0.0, 0.0, 0.0, 0.0, 0.0, 0.0, 0.0, 0.0, 0.0, 0.0, 0.0, 0.0, 0.0, 0.0, 0.0, 0.0, 0.0, 0.0, 0.0, 0.0, 0.0, 0.0, 0.0, 0.0, 0.0, 0.0, 0.0, 0.0, 0.0, 0.0, 0.0, 0.0, 0.0], [0.3333333333333333, 0.3333333333333333, 0.3333333333333333, 0.0, 0.0, 0.0, 0.0, 0.0, 0.0, 0.0, 0.0, 0.0, 0.0, 0.0, 0.0, 0.0, 0.0, 0.0, 0.0, 0.0, 0.0, 0.0, 0.0, 0.0, 0.0, 0.0, 0.0, 0.0, 0.0, 0.0, 0.0, 0.0, 0.0, 0.0, 0.0, 0.0, 0.0, 0.0, 0.0, 0.0, 0.0, 0.0, 0.0, 0.0, 0.0, 0.0, 0.0, 0.0, 0.0, 0.0, 0.0, 0.0, 0.0], [0.3333333333333333, 0.3333333333333333, 0.3333333333333333, 0.0, 0.0, 0.0, 0.0, 0.0, 0.0, 0.0, 0.0, 0.0, 0.0, 0.0, 0.0, 0.0, 0.0, 0.0, 0.0, 0.0, 0.0, 0.0, 0.0, 0.0, 0.0, 0.0, 0.0, 0.0, 0.0, 0.0, 0.0, 0.0, 0.0, 0.0, 0.0, 0.0, 0.0, 0.0, 0.0, 0.0, 0.0, 0.0, 0.0, 0.0, 0.0, 0.0, 0.0, 0.0, 0.0, 0.0, 0.0, 0.0, 0.0], [0.3333333333333333, 0.3333333333333333, 0.3333333333333333, 0.0, 0.0, 0.0, 0.0, 0.0, 0.0, 0.0, 0.0, 0.0, 0.0, 0.0, 0.0, 0.0, 0.0, 0.0, 0.0, 0.0, 0.0, 0.0, 0.0, 0.0, 0.0, 0.0, 0.0, 0.0, 0.0, 0.0, 0.0, 0.0, 0.0, 0.0, 0.0, 0.0, 0.0, 0.0, 0.0, 0.0, 0.0, 0.0, 0.0, 0.0, 0.0, 0.0, 0.0, 0.0, 0.0, 0.0, 0.0, 0.0, 0.0], [0.3333333333333333, 0.3333333333333333, 0.3333333333333333, 0.0, 0.0, 0.0, 0.0, 0.0, 0.0, 0.0, 0.0, 0.0, 0.0, 0.0, 0.0, 0.0, 0.0, 0.0, 0.0, 0.0, 0.0, 0.0, 0.0, 0.0, 0.0, 0.0, 0.0, 0.0, 0.0, 0.0, 0.0, 0.0, 0.0, 0.0, 0.0, 0.0, 0.0, 0.0, 0.0, 0.0, 0.0, 0.0, 0.0, 0.0, 0.0, 0.0, 0.0, 0.0, 0.0, 0.0, 0.0, 0.0, 0.0], [0.3333333333333333, 0.3333333333333333, 0.3333333333333333, 0.0, 0.0, 0.0, 0.0, 0.0, 0.0, 0.0, 0.0, 0.0, 0.0, 0.0, 0.0, 0.0, 0.0, 0.0, 0.0, 0.0, 0.0, 0.0, 0.0, 0.0, 0.0, 0.0, 0.0, 0.0, 0.0, 0.0, 0.0, 0.0, 0.0, 0.0, 0.0, 0.0, 0.0, 0.0, 0.0, 0.0, 0.0, 0.0, 0.0, 0.0, 0.0, 0.0, 0.0, 0.0, 0.0, 0.0, 0.0, 0.0, 0.0], [0.3333333333333333, 0.3333333333333333, 0.3333333333333333, 0.0, 0.0, 0.0, 0.0, 0.0, 0.0, 0.0, 0.0, 0.0, 0.0, 0.0, 0.0, 0.0, 0.0, 0.0, 0.0, 0.0, 0.0, 0.0, 0.0, 0.0, 0.0, 0.0, 0.0, 0.0, 0.0, 0.0, 0.0, 0.0, 0.0, 0.0, 0.0, 0.0, 0.0, 0.0, 0.0, 0.0, 0.0, 0.0, 0.0, 0.0, 0.0, 0.0, 0.0, 0.0, 0.0, 0.0, 0.0, 0.0, 0.0]] [0.7, 0.7, 0.7, 0.7, 0.7, 0.7, 0.7, 0.7] [0.42, 0.42, 0.42, 0.42, 0.42, 0.42, 0.42, 0.42]\n",
      "ls_CRES (8, 30, 5, 5)\n",
      "ls_CBio (8, 30, 5, 5)\n",
      "parResi {'CNRESt': [16.0, 16.0, 16.0, 16.0, 16.0, 16.0, 16.0, 16.0], 'CNBio': [8.412500000000001, 8.412500000000001, 8.412500000000001, 8.412500000000001, 8.412500000000001, 8.412500000000001, 8.412500000000001, 8.412500000000001], 'KRES': [0.19125, 0.19125, 0.19125, 0.19125, 0.19125, 0.19125, 0.19125, 0.19125], 'YRES': [0.62, 0.62, 0.62, 0.62, 0.62, 0.62, 0.62, 0.62], 'KBio': [0.011, 0.011, 0.011, 0.011, 0.011, 0.011, 0.011, 0.011], 'HRES': [0.5941176470588235, 0.5941176470588235, 0.5941176470588235, 0.5941176470588235, 0.5941176470588235, 0.5941176470588235, 0.5941176470588235, 0.5941176470588235], 'TRefg': 15.0, 'FTEMHAg': 12.0, 'FTEMHg': 0.103, 'FTEMHB': 52.0}\n",
      "61\n"
     ]
    }
   ],
   "source": [
    "generation_type = \"row\"\n",
    "plant_density = {\"wheat\" : [90, 150], \"legume\" : [100, 200]} # plantes.m-2\n",
    "plantmodels = [\"wheat\", \"legume\", \"wheat\", \"legume\"]\n",
    "inter_rows = 0.10 # m\n",
    "\n",
    "planter = Planter(\n",
    "    plantmodels=plantmodels,\n",
    "    generation_type=generation_type,\n",
    "    plant_density=plant_density, \n",
    "    inter_rows=inter_rows,\n",
    "    noise_plant_positions=0.01\n",
    ")\n",
    "\n",
    "wheat1 = Wheat_facade(in_folder=\"../inputs_fspmwheat\", planter=planter)\n",
    "wheat2 = Wheat_facade(in_folder=\"../inputs_fspmwheat\", planter=planter)\n",
    "legume1 = L_egume_facade(in_folder=\"../inputs_soil_legume\", planter=planter, planter_index=0)\n",
    "legume2 = L_egume_facade(in_folder=\"../inputs_soil_legume\", planter=planter, planter_index=1)\n",
    "legume1.derive(0)\n",
    "legume2.derive(0)\n",
    "\n",
    "legume1_scene_cm = legume1.light_inputs(lightmodel=\"caribu\")\n",
    "legume1_scene = scene_cm_tp_m(legume1_scene_cm)\n",
    "legume2_scene_cm = legume2.light_inputs(lightmodel=\"caribu\")\n",
    "legume2_scene = scene_cm_tp_m(legume2_scene_cm)\n",
    "\n",
    "scenes = [wheat1.light_inputs(planter, planter_index=0)[0], \n",
    "          legume1_scene, \n",
    "          wheat2.light_inputs(planter, planter_index=1)[0], \n",
    "          legume2_scene]\n",
    "final_scene = pgl.Scene()\n",
    "for i, scene in enumerate(scenes):\n",
    "    final_scene = final_scene + translate_scenes(scene, i, planter.transformations)\n"
   ]
  },
  {
   "cell_type": "code",
   "execution_count": 19,
   "id": "a3539db7",
   "metadata": {},
   "outputs": [
    {
     "data": {
      "text/plain": [
       "{'scenes unit': {0: 'm', 1: 'cm', 3: 'm', 4: 'cm'},\n",
       " 'translate': {0: (0.0, -0.05, 0.0),\n",
       "  1: (0.0, 0.1, 0.0),\n",
       "  2: (0.0, 0.15000000000000002, 0.0),\n",
       "  3: (0.0, 0.30000000000000004, 0.0)}}"
      ]
     },
     "execution_count": 19,
     "metadata": {},
     "output_type": "execute_result"
    }
   ],
   "source": [
    "planter.transformations"
   ]
  },
  {
   "cell_type": "code",
   "execution_count": 20,
   "id": "a3d91777",
   "metadata": {},
   "outputs": [
    {
     "data": {
      "application/vnd.jupyter.widget-view+json": {
       "model_id": "3105cd2f60684f4cb50b7487ffcfdd0e",
       "version_major": 2,
       "version_minor": 0
      },
      "text/plain": [
       "SceneWidget(axes_helper=True, scenes=[{'id': 'rzwr3KqHcnJwlsZqRk9ka8RoB', 'data': b'x\\xda\\xd4\\xbd\\tx\\x15E\\xf6>…"
      ]
     },
     "execution_count": 20,
     "metadata": {},
     "output_type": "execute_result"
    }
   ],
   "source": [
    "SceneWidget(final_scene, size_display=(600, 400), position=(-0.4, -0.4, 0.0), plane=True, size_world = 1., axes_helper=True)"
   ]
  },
  {
   "cell_type": "code",
   "execution_count": null,
   "id": "bdf1beda",
   "metadata": {},
   "outputs": [],
   "source": []
  }
 ],
 "metadata": {
  "kernelspec": {
   "display_name": "Python 3 (ipykernel)",
   "language": "python",
   "name": "python3"
  },
  "language_info": {
   "codemirror_mode": {
    "name": "ipython",
    "version": 3
   },
   "file_extension": ".py",
   "mimetype": "text/x-python",
   "name": "python",
   "nbconvert_exporter": "python",
   "pygments_lexer": "ipython3",
   "version": "3.8.17"
  }
 },
 "nbformat": 4,
 "nbformat_minor": 5
}
