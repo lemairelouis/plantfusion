{
 "cells": [
  {
   "cell_type": "markdown",
   "metadata": {},
   "source": [
    "Imports"
   ]
  },
  {
   "cell_type": "code",
   "execution_count": 1,
   "metadata": {},
   "outputs": [],
   "source": [
    "from plantfusion.l_egume_wrapper import L_egume_wrapper # L-egume FSPM management\n",
    "from plantfusion.lgrass_wrapper import Simpraise_wrapper # L-grass FSPM management : TO BE IMPLEMENTED\n",
    "# see : https://github.com/mwoussen/plantfusion/blob/develop/simulations/other_fspm.py\n",
    "from plantfusion.light_wrapper import Light_wrapper # light management using LightVegeManager\n",
    "from plantfusion.soil_wrapper import Soil_wrapper # soil management\n",
    "from plantfusion.indexer import Indexer # index management\n",
    "from plantfusion.planter import Planter # plant position management\n",
    "\n",
    "import time\n",
    "import datetime\n",
    "import os"
   ]
  },
  {
   "cell_type": "markdown",
   "metadata": {},
   "source": [
    "Path management"
   ]
  },
  {
   "cell_type": "code",
   "execution_count": 2,
   "metadata": {},
   "outputs": [
    {
     "name": "stdout",
     "output_type": "stream",
     "text": [
      "Directory  outputs\\lgrass_legume  already exists\n"
     ]
    }
   ],
   "source": [
    "in_folder_legume = \"inputs_soil_legume\"\n",
    "in_folder_lgrass = \"inputs_lgrass\"\n",
    "out_folder = \"outputs/lgrass_legume\"\n",
    "\n",
    "os.chdir(\"..\")\n",
    "\n",
    "id1 = 17111\n",
    "id2 = 17112\n",
    "writegeo = True\n",
    "\n",
    "try:\n",
    "    # Create target Directory\n",
    "    os.makedirs(os.path.normpath(out_folder))\n",
    "    print(\"Directory \", os.path.normpath(out_folder), \" Created \")\n",
    "except FileExistsError:\n",
    "    print(\"Directory \", os.path.normpath(out_folder), \" already exists\")\n"
   ]
  },
  {
   "cell_type": "markdown",
   "metadata": {},
   "source": [
    "Already implemented in plantfusion (should run if given appropriate parameters)"
   ]
  },
  {
   "cell_type": "code",
   "execution_count": 14,
   "metadata": {},
   "outputs": [
    {
     "name": "stdout",
     "output_type": "stream",
     "text": [
      "Directory  outputs\\lgrass_legume\\legume\\brut  already exists\n",
      "Directory  outputs\\lgrass_legume\\legume\\graphs  already exists\n",
      "C:\\Users\\u242825\\Desktop\\Gembloux\\Recherche\\plant_modelling\\lgrass_legume_fusion\\plantfusion\n"
     ]
    },
    {
     "name": "stderr",
     "output_type": "stream",
     "text": [
      "<string>:923: Warning: Found symbol '#' after Lstring. Considered as begining of comments\n",
      "<string>:940: Warning: Found symbol '#' after Lstring. Considered as begining of comments\n",
      "<string>:1230: Warning: Found symbol '#' after Lstring. Considered as begining of comments\n",
      "<string>:1288: Warning: Found symbol '#' after Lstring. Considered as begining of comments\n",
      "<string>:1310: Warning: Found symbol '#' after Lstring. Considered as begining of comments\n",
      "<string>:1760: Warning: Found symbol '#' after Lstring. Considered as begining of comments\n",
      "<string>:1838: Warning: Found symbol '#' after Lstring. Considered as begining of comments\n",
      "<string>:1979: Warning: Found symbol '#' after Lstring. Considered as begining of comments\n",
      "<string>:1993: Warning: Found symbol '#' after Lstring. Considered as begining of comments\n",
      "<string>:1994: Warning: Found symbol '#' after Lstring. Considered as begining of comments\n",
      "<string>:2039: Warning: Found symbol '#' after Lstring. Considered as begining of comments\n",
      "<string>:2041: Warning: Found symbol '#' after Lstring. Considered as begining of comments\n",
      "c:\\users\\u242825\\desktop\\gembloux\\recherche\\plant_modelling\\lgrass_legume_fusion\\plantfusion\\l-egume\\legume\\run_legume_usm.py:61: Warning: Interpretation rules should be context free. Contexts not supported for multiple iterations.\n",
      "  testsim[name] = lpy.Lsystem(path_lsys)  # objet l-system\n",
      "<string>:2159: Warning: Found symbol '#' after Lstring. Considered as begining of comments\n",
      "<string>:2250: Warning: Found symbol '#' after Lstring. Considered as begining of comments\n"
     ]
    },
    {
     "name": "stdout",
     "output_type": "stream",
     "text": [
      "lspe ['Fix2', 'nonFixSimTest']\n",
      "name2  ['Fix2', 'Fix2', 'Fix2', 'Fix2', 'Fix2', 'Fix2', 'Fix2', 'Fix2', 'Fix2', 'Fix2', 'Fix2', 'Fix2', 'Fix2', 'Fix2', 'Fix2', 'Fix2', 'Fix2', 'Fix2', 'Fix2', 'Fix2', 'Fix2', 'Fix2', 'Fix2', 'Fix2', 'Fix2', 'Fix2', 'Fix2', 'Fix2', 'Fix2', 'Fix2', 'Fix2', 'Fix2', 'Fix2', 'Fix2', 'Fix2', 'Fix2', 'Fix2', 'Fix2', 'Fix2', 'Fix2', 'Fix2', 'Fix2', 'Fix2', 'Fix2', 'Fix2', 'Fix2', 'Fix2', 'Fix2', 'Fix2', 'Fix2', 'Fix2', 'Fix2', 'Fix2', 'Fix2', 'Fix2', 'Fix2', 'Fix2', 'Fix2', 'Fix2', 'Fix2', 'Fix2', 'Fix2', 'Fix2', 'Fix2']\n",
      "ici carto [array([45.18706651,  6.7352176 ,  0.        ]), array([28.15068788, 28.43525167,  0.        ]), array([31.98414407, 45.81920989,  0.        ]), array([42.66407713, 23.41491511,  0.        ]), array([ 9.27557493, 50.13841802,  0.        ]), array([45.34872382,  6.46036323,  0.        ]), array([38.4820946 ,  6.88174918,  0.        ]), array([10.38665456,  0.89927057,  0.        ]), array([48.4447082 , 50.05810195,  0.        ]), array([49.57928533, 17.22710444,  0.        ]), array([14.35112681, 33.11564322,  0.        ]), array([31.81233574, 22.63101218,  0.        ]), array([21.63022586, 27.18246829,  0.        ]), array([48.71305385, 43.89415521,  0.        ]), array([1.25336240e-02, 3.74787318e+01, 0.00000000e+00]), array([32.01326149,  4.2796029 ,  0.        ]), array([41.37215217, 42.24182317,  0.        ]), array([15.00529902, 40.08536072,  0.        ]), array([11.1381922 , 19.96149264,  0.        ]), array([30.22408424, 28.64976012,  0.        ]), array([43.61632598, 48.80311008,  0.        ]), array([20.38971419, 15.73760459,  0.        ]), array([ 4.30236926, 25.03873559,  0.        ]), array([41.04492772,  1.38019918,  0.        ]), array([ 4.2490913 , 12.42249826,  0.        ]), array([23.51042806, 45.67769065,  0.        ]), array([12.08615432, 40.93592006,  0.        ]), array([19.7871297 , 45.31964494,  0.        ]), array([46.7388631 , 21.95069813,  0.        ]), array([42.75119211, 19.40388244,  0.        ]), array([42.8250978 , 43.26893071,  0.        ]), array([ 7.71553575, 24.31313578,  0.        ]), array([25.66637885, 25.81502024,  0.        ]), array([50.48941262, 47.89723802,  0.        ]), array([42.52168957, 22.78452857,  0.        ]), array([14.1046173 , 13.83619692,  0.        ]), array([10.69219429,  3.93724816,  0.        ]), array([43.28389827,  5.6719116 ,  0.        ]), array([33.14432953, 10.8038618 ,  0.        ]), array([0.27938803, 6.75896204, 0.        ]), array([ 8.85411712, 42.71357344,  0.        ]), array([36.01117121, 30.81792598,  0.        ]), array([39.82827423, 21.97286784,  0.        ]), array([ 7.67015043, 28.13297267,  0.        ]), array([12.00528833, 21.48374928,  0.        ]), array([23.33572144,  7.85634736,  0.        ]), array([11.21104153, 37.81213681,  0.        ]), array([27.02102134, 29.36155422,  0.        ]), array([ 8.09811854, 41.43183684,  0.        ]), array([23.29157233, 24.09916078,  0.        ]), array([28.32948815,  2.16894546,  0.        ]), array([33.80185257, 22.76287074,  0.        ]), array([39.05268681, 38.68303019,  0.        ]), array([4.0065713, 0.8418209, 0.       ]), array([17.66875536, 46.21194385,  0.        ]), array([10.22789193, 35.99192722,  0.        ]), array([30.88559014, 42.26689107,  0.        ]), array([25.5171769 , 19.27309906,  0.        ]), array([16.25661124, 40.30922951,  0.        ]), array([29.99718917, 39.16049021,  0.        ]), array([38.18360339, 43.98132859,  0.        ]), array([45.0510193 , 23.19761642,  0.        ]), array([6.76174316, 5.07886369, 0.        ]), array([ 4.88344656, 18.57748697,  0.        ])]\n",
      "carto 64 [array([45.18706651,  6.7352176 ,  0.        ]), array([28.15068788, 28.43525167,  0.        ]), array([31.98414407, 45.81920989,  0.        ]), array([42.66407713, 23.41491511,  0.        ]), array([ 9.27557493, 50.13841802,  0.        ]), array([45.34872382,  6.46036323,  0.        ]), array([38.4820946 ,  6.88174918,  0.        ]), array([10.38665456,  0.89927057,  0.        ]), array([48.4447082 , 50.05810195,  0.        ]), array([49.57928533, 17.22710444,  0.        ]), array([14.35112681, 33.11564322,  0.        ]), array([31.81233574, 22.63101218,  0.        ]), array([21.63022586, 27.18246829,  0.        ]), array([48.71305385, 43.89415521,  0.        ]), array([1.25336240e-02, 3.74787318e+01, 0.00000000e+00]), array([32.01326149,  4.2796029 ,  0.        ]), array([41.37215217, 42.24182317,  0.        ]), array([15.00529902, 40.08536072,  0.        ]), array([11.1381922 , 19.96149264,  0.        ]), array([30.22408424, 28.64976012,  0.        ]), array([43.61632598, 48.80311008,  0.        ]), array([20.38971419, 15.73760459,  0.        ]), array([ 4.30236926, 25.03873559,  0.        ]), array([41.04492772,  1.38019918,  0.        ]), array([ 4.2490913 , 12.42249826,  0.        ]), array([23.51042806, 45.67769065,  0.        ]), array([12.08615432, 40.93592006,  0.        ]), array([19.7871297 , 45.31964494,  0.        ]), array([46.7388631 , 21.95069813,  0.        ]), array([42.75119211, 19.40388244,  0.        ]), array([42.8250978 , 43.26893071,  0.        ]), array([ 7.71553575, 24.31313578,  0.        ]), array([25.66637885, 25.81502024,  0.        ]), array([50.48941262, 47.89723802,  0.        ]), array([42.52168957, 22.78452857,  0.        ]), array([14.1046173 , 13.83619692,  0.        ]), array([10.69219429,  3.93724816,  0.        ]), array([43.28389827,  5.6719116 ,  0.        ]), array([33.14432953, 10.8038618 ,  0.        ]), array([0.27938803, 6.75896204, 0.        ]), array([ 8.85411712, 42.71357344,  0.        ]), array([36.01117121, 30.81792598,  0.        ]), array([39.82827423, 21.97286784,  0.        ]), array([ 7.67015043, 28.13297267,  0.        ]), array([12.00528833, 21.48374928,  0.        ]), array([23.33572144,  7.85634736,  0.        ]), array([11.21104153, 37.81213681,  0.        ]), array([27.02102134, 29.36155422,  0.        ]), array([ 8.09811854, 41.43183684,  0.        ]), array([23.29157233, 24.09916078,  0.        ]), array([28.32948815,  2.16894546,  0.        ]), array([33.80185257, 22.76287074,  0.        ]), array([39.05268681, 38.68303019,  0.        ]), array([4.0065713, 0.8418209, 0.       ]), array([17.66875536, 46.21194385,  0.        ]), array([10.22789193, 35.99192722,  0.        ]), array([30.88559014, 42.26689107,  0.        ]), array([25.5171769 , 19.27309906,  0.        ]), array([16.25661124, 40.30922951,  0.        ]), array([29.99718917, 39.16049021,  0.        ]), array([38.18360339, 43.98132859,  0.        ]), array([45.0510193 , 23.19761642,  0.        ]), array([6.76174316, 5.07886369, 0.        ]), array([ 4.88344656, 18.57748697,  0.        ])]\n",
      "soil init [16.0, 16.0, 16.0, 16.0, 16.0, 16.0, 16.0, 16.0] [0.1, 0.1, 0.1, 0.1, 0.1, 0.1, 0.1, 0.1] [[0.3333333333333333, 0.3333333333333333, 0.3333333333333333, 0.0, 0.0, 0.0, 0.0, 0.0, 0.0, 0.0, 0.0, 0.0, 0.0, 0.0, 0.0, 0.0, 0.0, 0.0, 0.0, 0.0, 0.0, 0.0, 0.0, 0.0, 0.0, 0.0, 0.0, 0.0, 0.0, 0.0, 0.0, 0.0, 0.0, 0.0, 0.0, 0.0, 0.0, 0.0, 0.0, 0.0, 0.0, 0.0, 0.0, 0.0, 0.0, 0.0, 0.0, 0.0, 0.0, 0.0, 0.0, 0.0, 0.0], [0.3333333333333333, 0.3333333333333333, 0.3333333333333333, 0.0, 0.0, 0.0, 0.0, 0.0, 0.0, 0.0, 0.0, 0.0, 0.0, 0.0, 0.0, 0.0, 0.0, 0.0, 0.0, 0.0, 0.0, 0.0, 0.0, 0.0, 0.0, 0.0, 0.0, 0.0, 0.0, 0.0, 0.0, 0.0, 0.0, 0.0, 0.0, 0.0, 0.0, 0.0, 0.0, 0.0, 0.0, 0.0, 0.0, 0.0, 0.0, 0.0, 0.0, 0.0, 0.0, 0.0, 0.0, 0.0, 0.0], [0.3333333333333333, 0.3333333333333333, 0.3333333333333333, 0.0, 0.0, 0.0, 0.0, 0.0, 0.0, 0.0, 0.0, 0.0, 0.0, 0.0, 0.0, 0.0, 0.0, 0.0, 0.0, 0.0, 0.0, 0.0, 0.0, 0.0, 0.0, 0.0, 0.0, 0.0, 0.0, 0.0, 0.0, 0.0, 0.0, 0.0, 0.0, 0.0, 0.0, 0.0, 0.0, 0.0, 0.0, 0.0, 0.0, 0.0, 0.0, 0.0, 0.0, 0.0, 0.0, 0.0, 0.0, 0.0, 0.0], [0.3333333333333333, 0.3333333333333333, 0.3333333333333333, 0.0, 0.0, 0.0, 0.0, 0.0, 0.0, 0.0, 0.0, 0.0, 0.0, 0.0, 0.0, 0.0, 0.0, 0.0, 0.0, 0.0, 0.0, 0.0, 0.0, 0.0, 0.0, 0.0, 0.0, 0.0, 0.0, 0.0, 0.0, 0.0, 0.0, 0.0, 0.0, 0.0, 0.0, 0.0, 0.0, 0.0, 0.0, 0.0, 0.0, 0.0, 0.0, 0.0, 0.0, 0.0, 0.0, 0.0, 0.0, 0.0, 0.0], [0.3333333333333333, 0.3333333333333333, 0.3333333333333333, 0.0, 0.0, 0.0, 0.0, 0.0, 0.0, 0.0, 0.0, 0.0, 0.0, 0.0, 0.0, 0.0, 0.0, 0.0, 0.0, 0.0, 0.0, 0.0, 0.0, 0.0, 0.0, 0.0, 0.0, 0.0, 0.0, 0.0, 0.0, 0.0, 0.0, 0.0, 0.0, 0.0, 0.0, 0.0, 0.0, 0.0, 0.0, 0.0, 0.0, 0.0, 0.0, 0.0, 0.0, 0.0, 0.0, 0.0, 0.0, 0.0, 0.0], [0.3333333333333333, 0.3333333333333333, 0.3333333333333333, 0.0, 0.0, 0.0, 0.0, 0.0, 0.0, 0.0, 0.0, 0.0, 0.0, 0.0, 0.0, 0.0, 0.0, 0.0, 0.0, 0.0, 0.0, 0.0, 0.0, 0.0, 0.0, 0.0, 0.0, 0.0, 0.0, 0.0, 0.0, 0.0, 0.0, 0.0, 0.0, 0.0, 0.0, 0.0, 0.0, 0.0, 0.0, 0.0, 0.0, 0.0, 0.0, 0.0, 0.0, 0.0, 0.0, 0.0, 0.0, 0.0, 0.0], [0.3333333333333333, 0.3333333333333333, 0.3333333333333333, 0.0, 0.0, 0.0, 0.0, 0.0, 0.0, 0.0, 0.0, 0.0, 0.0, 0.0, 0.0, 0.0, 0.0, 0.0, 0.0, 0.0, 0.0, 0.0, 0.0, 0.0, 0.0, 0.0, 0.0, 0.0, 0.0, 0.0, 0.0, 0.0, 0.0, 0.0, 0.0, 0.0, 0.0, 0.0, 0.0, 0.0, 0.0, 0.0, 0.0, 0.0, 0.0, 0.0, 0.0, 0.0, 0.0, 0.0, 0.0, 0.0, 0.0], [0.3333333333333333, 0.3333333333333333, 0.3333333333333333, 0.0, 0.0, 0.0, 0.0, 0.0, 0.0, 0.0, 0.0, 0.0, 0.0, 0.0, 0.0, 0.0, 0.0, 0.0, 0.0, 0.0, 0.0, 0.0, 0.0, 0.0, 0.0, 0.0, 0.0, 0.0, 0.0, 0.0, 0.0, 0.0, 0.0, 0.0, 0.0, 0.0, 0.0, 0.0, 0.0, 0.0, 0.0, 0.0, 0.0, 0.0, 0.0, 0.0, 0.0, 0.0, 0.0, 0.0, 0.0, 0.0, 0.0]] [0.7, 0.7, 0.7, 0.7, 0.7, 0.7, 0.7, 0.7] [0.42, 0.42, 0.42, 0.42, 0.42, 0.42, 0.42, 0.42]\n",
      "ls_CRES (8, 30, 5, 5)\n",
      "ls_CBio (8, 30, 5, 5)\n",
      "parResi {'CNRESt': [16.0, 16.0, 16.0, 16.0, 16.0, 16.0, 16.0, 16.0], 'CNBio': [8.412500000000001, 8.412500000000001, 8.412500000000001, 8.412500000000001, 8.412500000000001, 8.412500000000001, 8.412500000000001, 8.412500000000001], 'KRES': [0.19125, 0.19125, 0.19125, 0.19125, 0.19125, 0.19125, 0.19125, 0.19125], 'YRES': [0.62, 0.62, 0.62, 0.62, 0.62, 0.62, 0.62, 0.62], 'KBio': [0.011, 0.011, 0.011, 0.011, 0.011, 0.011, 0.011, 0.011], 'HRES': [0.5941176470588235, 0.5941176470588235, 0.5941176470588235, 0.5941176470588235, 0.5941176470588235, 0.5941176470588235, 0.5941176470588235, 0.5941176470588235], 'TRefg': 15.0, 'FTEMHAg': 12.0, 'FTEMHg': 0.103, 'FTEMHB': 52.0}\n",
      "61\n",
      "Directory  outputs\\lgrass_legume\\light  already exists\n",
      "Directory  outputs\\lgrass_legume\\light\\vtk  already exists\n",
      "Directory  outputs\\lgrass_legume\\light\\plantgl  already exists\n"
     ]
    },
    {
     "name": "stderr",
     "output_type": "stream",
     "text": [
      "c:\\users\\u242825\\desktop\\gembloux\\recherche\\plant_modelling\\lgrass_legume_fusion\\plantfusion\\soil3ds\\soil3ds\\soil_moduleN.py:315: RuntimeWarning: invalid value encountered in true_divide\n",
      "  ls_concN = list(map(np.divide, list(map(np.sum, ls_masked_moleN)), list(map(np.sum, ls_vol_eau))))\n"
     ]
    },
    {
     "name": "stdout",
     "output_type": "stream",
     "text": [
      "Directory  outputs\\lgrass_legume\\soil  already exists\n"
     ]
    }
   ],
   "source": [
    "\n",
    "legume_name = \"legume\"\n",
    "lgrass_name = \"lgrass\"\n",
    "\n",
    "indexer = Indexer(global_order=[legume_name, lgrass_name], legume_names=[legume_name], lgrass_names=[lgrass_name])\n",
    "\n",
    "generation_type = \"random\"\n",
    "plant_density = {legume_name : 250, lgrass_name : 450} # plantes.m-2\n",
    "planter = Planter(generation_type=generation_type, indexer=indexer, plant_density=plant_density)\n",
    "#note : arg \"inter_rows\" is not needed for random generation (I think), but is set to 0.15 anyway.\n",
    "\n",
    "legume = L_egume_wrapper(\n",
    "    name=legume_name,\n",
    "    indexer=indexer,\n",
    "    in_folder=in_folder_legume, out_folder=out_folder,\n",
    "    planter=planter,\n",
    "    caribu_scene=False,\n",
    "    IDusm=1711\n",
    ")\n",
    "\n",
    "sky = \"turtle46\"\n",
    "lighting = Light_wrapper(\n",
    "    lightmodel=\"riri5\",\n",
    "    out_folder=out_folder,\n",
    "    sky=sky,\n",
    "    planter=planter,\n",
    "    indexer=indexer,\n",
    "    writegeo=writegeo\n",
    ")\n",
    "\n",
    "soil = Soil_wrapper(\n",
    "    in_folder=in_folder_legume, \n",
    "    out_folder=out_folder, \n",
    "    IDusm=1711, # unit of simulation\n",
    "    planter=planter, \n",
    "    opt_residu=0, \n",
    "    save_results=True\n",
    ")\n"
   ]
  },
  {
   "cell_type": "markdown",
   "metadata": {},
   "source": [
    "Lgrass Wrapper instanciation"
   ]
  },
  {
   "cell_type": "code",
   "execution_count": 15,
   "metadata": {},
   "outputs": [
    {
     "name": "stderr",
     "output_type": "stream",
     "text": [
      "<string>:1399: Warning: Found symbol '#' after Lstring. Considered as begining of comments\n",
      "lgrass.lpy:1596: Warning: IndentationWarning: missing indent.\n",
      "lgrass.lpy:1611: Warning: IndentationWarning: missing indent.\n",
      "lgrass.lpy:1727: Warning: IndentationWarning: missing indent.\n"
     ]
    },
    {
     "name": "stdout",
     "output_type": "stream",
     "text": [
      "METEO DATA\n",
      "            date  mean_temperature  daylength      site  PAR_incident\n",
      "0     1999_04_01              13.6  12.799444  LUSIGNAN           4.0\n",
      "1     1999_04_02              11.2  12.854167  LUSIGNAN           4.0\n",
      "2     1999_04_03              12.4  12.908889  LUSIGNAN           4.0\n",
      "3     1999_04_04              13.7  12.963333  LUSIGNAN           4.0\n",
      "4     1999_04_05              14.4  13.017778  LUSIGNAN           4.0\n",
      "...          ...               ...        ...       ...           ...\n",
      "7443  2019_08_17              19.0  14.116111  LUSIGNAN           NaN\n",
      "7444  2019_08_18              19.2  14.066667  LUSIGNAN           NaN\n",
      "7445  2019_08_19              16.1  14.016667  LUSIGNAN           NaN\n",
      "7446  2019_08_20              18.7  13.966389  LUSIGNAN           NaN\n",
      "7447  2019_08_21              18.1  13.915833  LUSIGNAN           NaN\n",
      "\n",
      "[7448 rows x 5 columns]\n",
      "LUSIGNAN\n",
      "METEO DATA\n",
      "            date  mean_temperature  daylength      site  PAR_incident\n",
      "0     1999_04_01              13.6  12.799444  LUSIGNAN           4.0\n",
      "1     1999_04_02              11.2  12.854167  LUSIGNAN           4.0\n",
      "2     1999_04_03              12.4  12.908889  LUSIGNAN           4.0\n",
      "3     1999_04_04              13.7  12.963333  LUSIGNAN           4.0\n",
      "4     1999_04_05              14.4  13.017778  LUSIGNAN           4.0\n",
      "...          ...               ...        ...       ...           ...\n",
      "7443  2019_08_17              19.0  14.116111  LUSIGNAN           NaN\n",
      "7444  2019_08_18              19.2  14.066667  LUSIGNAN           NaN\n",
      "7445  2019_08_19              16.1  14.016667  LUSIGNAN           NaN\n",
      "7446  2019_08_20              18.7  13.966389  LUSIGNAN           NaN\n",
      "7447  2019_08_21              18.1  13.915833  LUSIGNAN           NaN\n",
      "\n",
      "[7448 rows x 5 columns]\n",
      "METEO DATA\n",
      "           date  mean_temperature  daylength      site  PAR_incident  \\\n",
      "7166 2018-11-13              11.4   9.526389  LUSIGNAN           NaN   \n",
      "7167 2018-11-14              11.9   9.483889  LUSIGNAN           NaN   \n",
      "7168 2018-11-15              13.2   9.442222  LUSIGNAN           NaN   \n",
      "7169 2018-11-16               9.6   9.400833  LUSIGNAN           NaN   \n",
      "7170 2018-11-17               6.1   9.360278  LUSIGNAN           NaN   \n",
      "...         ...               ...        ...       ...           ...   \n",
      "7443 2019-08-17              19.0  14.116111  LUSIGNAN           NaN   \n",
      "7444 2019-08-18              19.2  14.066667  LUSIGNAN           NaN   \n",
      "7445 2019-08-19              16.1  14.016667  LUSIGNAN           NaN   \n",
      "7446 2019-08-20              18.7  13.966389  LUSIGNAN           NaN   \n",
      "7447 2019-08-21              18.1  13.915833  LUSIGNAN           NaN   \n",
      "\n",
      "      thermal_time_cumul  experimental_day  \n",
      "7166                11.4                 1  \n",
      "7167                23.3                 2  \n",
      "7168                36.5                 3  \n",
      "7169                46.1                 4  \n",
      "7170                52.2                 5  \n",
      "...                  ...               ...  \n",
      "7443              3329.1               278  \n",
      "7444              3348.3               279  \n",
      "7445              3364.4               280  \n",
      "7446              3383.1               281  \n",
      "7447              3401.2               282  \n",
      "\n",
      "[282 rows x 7 columns]\n",
      "C:\\Users\\u242825\\Desktop\\Gembloux\\Recherche\\plant_modelling\\lgrass_legume_fusion\\plantfusion\n"
     ]
    },
    {
     "name": "stderr",
     "output_type": "stream",
     "text": [
      "c:\\users\\u242825\\desktop\\gembloux\\recherche\\plant_modelling\\lgrass_legume_fusion\\plantfusion\\lgrass\\lgrass\\param_reproduction_functions.py:140: FutureWarning: ChainedAssignmentError: behaviour will change in pandas 3.0!\n",
      "You are setting values through chained assignment. Currently this works in certain cases, but when using Copy-on-Write (which will become the default behaviour in pandas 3.0) this will never work to update the original DataFrame or Series, because the intermediate object on which we are setting values will behave as a copy.\n",
      "A typical example is when you are setting values in a column of a DataFrame, like:\n",
      "\n",
      "df[\"col\"][row_indexer] = value\n",
      "\n",
      "Use `df.loc[row_indexer, \"col\"] = values` instead, to perform the assignment in a single step and ensure this keeps updating the original `df`.\n",
      "\n",
      "See the caveats in the documentation: https://pandas.pydata.org/pandas-docs/stable/user_guide/indexing.html#returning-a-view-versus-a-copy\n",
      "\n",
      "  param_plante.loc['C'].iloc[i] = calculate_C(float(genet_data['C'].iloc[i]))\n",
      "c:\\users\\u242825\\desktop\\gembloux\\recherche\\plant_modelling\\lgrass_legume_fusion\\plantfusion\\lgrass\\lgrass\\param_reproduction_functions.py:141: FutureWarning: ChainedAssignmentError: behaviour will change in pandas 3.0!\n",
      "You are setting values through chained assignment. Currently this works in certain cases, but when using Copy-on-Write (which will become the default behaviour in pandas 3.0) this will never work to update the original DataFrame or Series, because the intermediate object on which we are setting values will behave as a copy.\n",
      "A typical example is when you are setting values in a column of a DataFrame, like:\n",
      "\n",
      "df[\"col\"][row_indexer] = value\n",
      "\n",
      "Use `df.loc[row_indexer, \"col\"] = values` instead, to perform the assignment in a single step and ensure this keeps updating the original `df`.\n",
      "\n",
      "See the caveats in the documentation: https://pandas.pydata.org/pandas-docs/stable/user_guide/indexing.html#returning-a-view-versus-a-copy\n",
      "\n",
      "  param_plante.loc['geno'].iloc[i] = int(genet_data['geno'].iloc[i])\n"
     ]
    }
   ],
   "source": [
    "\n",
    "lgrass = Simpraise_wrapper(\n",
    "    name=lgrass_name,\n",
    "    indexer=indexer,\n",
    "    in_folder=in_folder_lgrass, out_folder=out_folder,\n",
    "    planter=planter,\n",
    "    plan_sim_file='plan_simulation.csv',\n",
    "    genet_file='ped.r',\n",
    "    param_plant_file='liste_plantes.csv'\n",
    "    #ADD ARGS SPECIFIC TO L-GRASS\n",
    ")"
   ]
  },
  {
   "cell_type": "markdown",
   "metadata": {},
   "source": [
    "Simulation"
   ]
  },
  {
   "cell_type": "code",
   "execution_count": null,
   "metadata": {},
   "outputs": [],
   "source": [
    "\n"
   ]
  },
  {
   "cell_type": "code",
   "execution_count": 16,
   "metadata": {},
   "outputs": [
    {
     "name": "stdout",
     "output_type": "stream",
     "text": [
      "C:\\Users\\u242825\\Desktop\\Gembloux\\Recherche\\plant_modelling\\lgrass_legume_fusion\\plantfusion\n",
      "lspe ['Fix2', 'nonFixSimTest']\n",
      "name2  ['Fix2', 'Fix2', 'Fix2', 'Fix2', 'Fix2', 'Fix2', 'Fix2', 'Fix2', 'Fix2', 'Fix2', 'Fix2', 'Fix2', 'Fix2', 'Fix2', 'Fix2', 'Fix2', 'Fix2', 'Fix2', 'Fix2', 'Fix2', 'Fix2', 'Fix2', 'Fix2', 'Fix2', 'Fix2', 'Fix2', 'Fix2', 'Fix2', 'Fix2', 'Fix2', 'Fix2', 'Fix2', 'Fix2', 'Fix2', 'Fix2', 'Fix2', 'Fix2', 'Fix2', 'Fix2', 'Fix2', 'Fix2', 'Fix2', 'Fix2', 'Fix2', 'Fix2', 'Fix2', 'Fix2', 'Fix2', 'Fix2', 'Fix2', 'Fix2', 'Fix2', 'Fix2', 'Fix2', 'Fix2', 'Fix2', 'Fix2', 'Fix2', 'Fix2', 'Fix2', 'Fix2', 'Fix2', 'Fix2', 'Fix2']\n",
      "ici carto [array([45.18706651,  6.7352176 ,  0.        ]), array([28.15068788, 28.43525167,  0.        ]), array([31.98414407, 45.81920989,  0.        ]), array([42.66407713, 23.41491511,  0.        ]), array([ 9.27557493, 50.13841802,  0.        ]), array([45.34872382,  6.46036323,  0.        ]), array([38.4820946 ,  6.88174918,  0.        ]), array([10.38665456,  0.89927057,  0.        ]), array([48.4447082 , 50.05810195,  0.        ]), array([49.57928533, 17.22710444,  0.        ]), array([14.35112681, 33.11564322,  0.        ]), array([31.81233574, 22.63101218,  0.        ]), array([21.63022586, 27.18246829,  0.        ]), array([48.71305385, 43.89415521,  0.        ]), array([1.25336240e-02, 3.74787318e+01, 0.00000000e+00]), array([32.01326149,  4.2796029 ,  0.        ]), array([41.37215217, 42.24182317,  0.        ]), array([15.00529902, 40.08536072,  0.        ]), array([11.1381922 , 19.96149264,  0.        ]), array([30.22408424, 28.64976012,  0.        ]), array([43.61632598, 48.80311008,  0.        ]), array([20.38971419, 15.73760459,  0.        ]), array([ 4.30236926, 25.03873559,  0.        ]), array([41.04492772,  1.38019918,  0.        ]), array([ 4.2490913 , 12.42249826,  0.        ]), array([23.51042806, 45.67769065,  0.        ]), array([12.08615432, 40.93592006,  0.        ]), array([19.7871297 , 45.31964494,  0.        ]), array([46.7388631 , 21.95069813,  0.        ]), array([42.75119211, 19.40388244,  0.        ]), array([42.8250978 , 43.26893071,  0.        ]), array([ 7.71553575, 24.31313578,  0.        ]), array([25.66637885, 25.81502024,  0.        ]), array([50.48941262, 47.89723802,  0.        ]), array([42.52168957, 22.78452857,  0.        ]), array([14.1046173 , 13.83619692,  0.        ]), array([10.69219429,  3.93724816,  0.        ]), array([43.28389827,  5.6719116 ,  0.        ]), array([33.14432953, 10.8038618 ,  0.        ]), array([0.27938803, 6.75896204, 0.        ]), array([ 8.85411712, 42.71357344,  0.        ]), array([36.01117121, 30.81792598,  0.        ]), array([39.82827423, 21.97286784,  0.        ]), array([ 7.67015043, 28.13297267,  0.        ]), array([12.00528833, 21.48374928,  0.        ]), array([23.33572144,  7.85634736,  0.        ]), array([11.21104153, 37.81213681,  0.        ]), array([27.02102134, 29.36155422,  0.        ]), array([ 8.09811854, 41.43183684,  0.        ]), array([23.29157233, 24.09916078,  0.        ]), array([28.32948815,  2.16894546,  0.        ]), array([33.80185257, 22.76287074,  0.        ]), array([39.05268681, 38.68303019,  0.        ]), array([4.0065713, 0.8418209, 0.       ]), array([17.66875536, 46.21194385,  0.        ]), array([10.22789193, 35.99192722,  0.        ]), array([30.88559014, 42.26689107,  0.        ]), array([25.5171769 , 19.27309906,  0.        ]), array([16.25661124, 40.30922951,  0.        ]), array([29.99718917, 39.16049021,  0.        ]), array([38.18360339, 43.98132859,  0.        ]), array([45.0510193 , 23.19761642,  0.        ]), array([6.76174316, 5.07886369, 0.        ]), array([ 4.88344656, 18.57748697,  0.        ])]\n",
      "carto 64 [array([45.18706651,  6.7352176 ,  0.        ]), array([28.15068788, 28.43525167,  0.        ]), array([31.98414407, 45.81920989,  0.        ]), array([42.66407713, 23.41491511,  0.        ]), array([ 9.27557493, 50.13841802,  0.        ]), array([45.34872382,  6.46036323,  0.        ]), array([38.4820946 ,  6.88174918,  0.        ]), array([10.38665456,  0.89927057,  0.        ]), array([48.4447082 , 50.05810195,  0.        ]), array([49.57928533, 17.22710444,  0.        ]), array([14.35112681, 33.11564322,  0.        ]), array([31.81233574, 22.63101218,  0.        ]), array([21.63022586, 27.18246829,  0.        ]), array([48.71305385, 43.89415521,  0.        ]), array([1.25336240e-02, 3.74787318e+01, 0.00000000e+00]), array([32.01326149,  4.2796029 ,  0.        ]), array([41.37215217, 42.24182317,  0.        ]), array([15.00529902, 40.08536072,  0.        ]), array([11.1381922 , 19.96149264,  0.        ]), array([30.22408424, 28.64976012,  0.        ]), array([43.61632598, 48.80311008,  0.        ]), array([20.38971419, 15.73760459,  0.        ]), array([ 4.30236926, 25.03873559,  0.        ]), array([41.04492772,  1.38019918,  0.        ]), array([ 4.2490913 , 12.42249826,  0.        ]), array([23.51042806, 45.67769065,  0.        ]), array([12.08615432, 40.93592006,  0.        ]), array([19.7871297 , 45.31964494,  0.        ]), array([46.7388631 , 21.95069813,  0.        ]), array([42.75119211, 19.40388244,  0.        ]), array([42.8250978 , 43.26893071,  0.        ]), array([ 7.71553575, 24.31313578,  0.        ]), array([25.66637885, 25.81502024,  0.        ]), array([50.48941262, 47.89723802,  0.        ]), array([42.52168957, 22.78452857,  0.        ]), array([14.1046173 , 13.83619692,  0.        ]), array([10.69219429,  3.93724816,  0.        ]), array([43.28389827,  5.6719116 ,  0.        ]), array([33.14432953, 10.8038618 ,  0.        ]), array([0.27938803, 6.75896204, 0.        ]), array([ 8.85411712, 42.71357344,  0.        ]), array([36.01117121, 30.81792598,  0.        ]), array([39.82827423, 21.97286784,  0.        ]), array([ 7.67015043, 28.13297267,  0.        ]), array([12.00528833, 21.48374928,  0.        ]), array([23.33572144,  7.85634736,  0.        ]), array([11.21104153, 37.81213681,  0.        ]), array([27.02102134, 29.36155422,  0.        ]), array([ 8.09811854, 41.43183684,  0.        ]), array([23.29157233, 24.09916078,  0.        ]), array([28.32948815,  2.16894546,  0.        ]), array([33.80185257, 22.76287074,  0.        ]), array([39.05268681, 38.68303019,  0.        ]), array([4.0065713, 0.8418209, 0.       ]), array([17.66875536, 46.21194385,  0.        ]), array([10.22789193, 35.99192722,  0.        ]), array([30.88559014, 42.26689107,  0.        ]), array([25.5171769 , 19.27309906,  0.        ]), array([16.25661124, 40.30922951,  0.        ]), array([29.99718917, 39.16049021,  0.        ]), array([38.18360339, 43.98132859,  0.        ]), array([45.0510193 , 23.19761642,  0.        ]), array([6.76174316, 5.07886369, 0.        ]), array([ 4.88344656, 18.57748697,  0.        ])]\n",
      "soil init [16.0, 16.0, 16.0, 16.0, 16.0, 16.0, 16.0, 16.0] [0.1, 0.1, 0.1, 0.1, 0.1, 0.1, 0.1, 0.1] [[0.3333333333333333, 0.3333333333333333, 0.3333333333333333, 0.0, 0.0, 0.0, 0.0, 0.0, 0.0, 0.0, 0.0, 0.0, 0.0, 0.0, 0.0, 0.0, 0.0, 0.0, 0.0, 0.0, 0.0, 0.0, 0.0, 0.0, 0.0, 0.0, 0.0, 0.0, 0.0, 0.0, 0.0, 0.0, 0.0, 0.0, 0.0, 0.0, 0.0, 0.0, 0.0, 0.0, 0.0, 0.0, 0.0, 0.0, 0.0, 0.0, 0.0, 0.0, 0.0, 0.0, 0.0, 0.0, 0.0], [0.3333333333333333, 0.3333333333333333, 0.3333333333333333, 0.0, 0.0, 0.0, 0.0, 0.0, 0.0, 0.0, 0.0, 0.0, 0.0, 0.0, 0.0, 0.0, 0.0, 0.0, 0.0, 0.0, 0.0, 0.0, 0.0, 0.0, 0.0, 0.0, 0.0, 0.0, 0.0, 0.0, 0.0, 0.0, 0.0, 0.0, 0.0, 0.0, 0.0, 0.0, 0.0, 0.0, 0.0, 0.0, 0.0, 0.0, 0.0, 0.0, 0.0, 0.0, 0.0, 0.0, 0.0, 0.0, 0.0], [0.3333333333333333, 0.3333333333333333, 0.3333333333333333, 0.0, 0.0, 0.0, 0.0, 0.0, 0.0, 0.0, 0.0, 0.0, 0.0, 0.0, 0.0, 0.0, 0.0, 0.0, 0.0, 0.0, 0.0, 0.0, 0.0, 0.0, 0.0, 0.0, 0.0, 0.0, 0.0, 0.0, 0.0, 0.0, 0.0, 0.0, 0.0, 0.0, 0.0, 0.0, 0.0, 0.0, 0.0, 0.0, 0.0, 0.0, 0.0, 0.0, 0.0, 0.0, 0.0, 0.0, 0.0, 0.0, 0.0], [0.3333333333333333, 0.3333333333333333, 0.3333333333333333, 0.0, 0.0, 0.0, 0.0, 0.0, 0.0, 0.0, 0.0, 0.0, 0.0, 0.0, 0.0, 0.0, 0.0, 0.0, 0.0, 0.0, 0.0, 0.0, 0.0, 0.0, 0.0, 0.0, 0.0, 0.0, 0.0, 0.0, 0.0, 0.0, 0.0, 0.0, 0.0, 0.0, 0.0, 0.0, 0.0, 0.0, 0.0, 0.0, 0.0, 0.0, 0.0, 0.0, 0.0, 0.0, 0.0, 0.0, 0.0, 0.0, 0.0], [0.3333333333333333, 0.3333333333333333, 0.3333333333333333, 0.0, 0.0, 0.0, 0.0, 0.0, 0.0, 0.0, 0.0, 0.0, 0.0, 0.0, 0.0, 0.0, 0.0, 0.0, 0.0, 0.0, 0.0, 0.0, 0.0, 0.0, 0.0, 0.0, 0.0, 0.0, 0.0, 0.0, 0.0, 0.0, 0.0, 0.0, 0.0, 0.0, 0.0, 0.0, 0.0, 0.0, 0.0, 0.0, 0.0, 0.0, 0.0, 0.0, 0.0, 0.0, 0.0, 0.0, 0.0, 0.0, 0.0], [0.3333333333333333, 0.3333333333333333, 0.3333333333333333, 0.0, 0.0, 0.0, 0.0, 0.0, 0.0, 0.0, 0.0, 0.0, 0.0, 0.0, 0.0, 0.0, 0.0, 0.0, 0.0, 0.0, 0.0, 0.0, 0.0, 0.0, 0.0, 0.0, 0.0, 0.0, 0.0, 0.0, 0.0, 0.0, 0.0, 0.0, 0.0, 0.0, 0.0, 0.0, 0.0, 0.0, 0.0, 0.0, 0.0, 0.0, 0.0, 0.0, 0.0, 0.0, 0.0, 0.0, 0.0, 0.0, 0.0], [0.3333333333333333, 0.3333333333333333, 0.3333333333333333, 0.0, 0.0, 0.0, 0.0, 0.0, 0.0, 0.0, 0.0, 0.0, 0.0, 0.0, 0.0, 0.0, 0.0, 0.0, 0.0, 0.0, 0.0, 0.0, 0.0, 0.0, 0.0, 0.0, 0.0, 0.0, 0.0, 0.0, 0.0, 0.0, 0.0, 0.0, 0.0, 0.0, 0.0, 0.0, 0.0, 0.0, 0.0, 0.0, 0.0, 0.0, 0.0, 0.0, 0.0, 0.0, 0.0, 0.0, 0.0, 0.0, 0.0], [0.3333333333333333, 0.3333333333333333, 0.3333333333333333, 0.0, 0.0, 0.0, 0.0, 0.0, 0.0, 0.0, 0.0, 0.0, 0.0, 0.0, 0.0, 0.0, 0.0, 0.0, 0.0, 0.0, 0.0, 0.0, 0.0, 0.0, 0.0, 0.0, 0.0, 0.0, 0.0, 0.0, 0.0, 0.0, 0.0, 0.0, 0.0, 0.0, 0.0, 0.0, 0.0, 0.0, 0.0, 0.0, 0.0, 0.0, 0.0, 0.0, 0.0, 0.0, 0.0, 0.0, 0.0, 0.0, 0.0]] [0.7, 0.7, 0.7, 0.7, 0.7, 0.7, 0.7, 0.7] [0.42, 0.42, 0.42, 0.42, 0.42, 0.42, 0.42, 0.42]\n",
      "ls_CRES (8, 30, 5, 5)\n",
      "ls_CBio (8, 30, 5, 5)\n",
      "parResi {'CNRESt': [16.0, 16.0, 16.0, 16.0, 16.0, 16.0, 16.0, 16.0], 'CNBio': [8.412500000000001, 8.412500000000001, 8.412500000000001, 8.412500000000001, 8.412500000000001, 8.412500000000001, 8.412500000000001, 8.412500000000001], 'KRES': [0.19125, 0.19125, 0.19125, 0.19125, 0.19125, 0.19125, 0.19125, 0.19125], 'YRES': [0.62, 0.62, 0.62, 0.62, 0.62, 0.62, 0.62, 0.62], 'KBio': [0.011, 0.011, 0.011, 0.011, 0.011, 0.011, 0.011, 0.011], 'HRES': [0.5941176470588235, 0.5941176470588235, 0.5941176470588235, 0.5941176470588235, 0.5941176470588235, 0.5941176470588235, 0.5941176470588235, 0.5941176470588235], 'TRefg': 15.0, 'FTEMHAg': 12.0, 'FTEMHg': 0.103, 'FTEMHB': 52.0}\n",
      "61\n",
      "CouvertVegetal(0)\n",
      "METEO DATA\n",
      "            date  mean_temperature  daylength      site  PAR_incident\n",
      "0     1999_04_01              13.6  12.799444  LUSIGNAN           4.0\n",
      "1     1999_04_02              11.2  12.854167  LUSIGNAN           4.0\n",
      "2     1999_04_03              12.4  12.908889  LUSIGNAN           4.0\n",
      "3     1999_04_04              13.7  12.963333  LUSIGNAN           4.0\n",
      "4     1999_04_05              14.4  13.017778  LUSIGNAN           4.0\n",
      "...          ...               ...        ...       ...           ...\n",
      "7443  2019_08_17              19.0  14.116111  LUSIGNAN           NaN\n",
      "7444  2019_08_18              19.2  14.066667  LUSIGNAN           NaN\n",
      "7445  2019_08_19              16.1  14.016667  LUSIGNAN           NaN\n",
      "7446  2019_08_20              18.7  13.966389  LUSIGNAN           NaN\n",
      "7447  2019_08_21              18.1  13.915833  LUSIGNAN           NaN\n",
      "\n",
      "[7448 rows x 5 columns]\n",
      "LUSIGNAN\n",
      "METEO DATA\n",
      "            date  mean_temperature  daylength      site  PAR_incident\n",
      "0     1999_04_01              13.6  12.799444  LUSIGNAN           4.0\n",
      "1     1999_04_02              11.2  12.854167  LUSIGNAN           4.0\n",
      "2     1999_04_03              12.4  12.908889  LUSIGNAN           4.0\n",
      "3     1999_04_04              13.7  12.963333  LUSIGNAN           4.0\n",
      "4     1999_04_05              14.4  13.017778  LUSIGNAN           4.0\n",
      "...          ...               ...        ...       ...           ...\n",
      "7443  2019_08_17              19.0  14.116111  LUSIGNAN           NaN\n",
      "7444  2019_08_18              19.2  14.066667  LUSIGNAN           NaN\n",
      "7445  2019_08_19              16.1  14.016667  LUSIGNAN           NaN\n",
      "7446  2019_08_20              18.7  13.966389  LUSIGNAN           NaN\n",
      "7447  2019_08_21              18.1  13.915833  LUSIGNAN           NaN\n",
      "\n",
      "[7448 rows x 5 columns]\n",
      "METEO DATA\n",
      "           date  mean_temperature  daylength      site  PAR_incident  \\\n",
      "7166 2018-11-13              11.4   9.526389  LUSIGNAN           NaN   \n",
      "7167 2018-11-14              11.9   9.483889  LUSIGNAN           NaN   \n",
      "7168 2018-11-15              13.2   9.442222  LUSIGNAN           NaN   \n",
      "7169 2018-11-16               9.6   9.400833  LUSIGNAN           NaN   \n",
      "7170 2018-11-17               6.1   9.360278  LUSIGNAN           NaN   \n",
      "...         ...               ...        ...       ...           ...   \n",
      "7443 2019-08-17              19.0  14.116111  LUSIGNAN           NaN   \n",
      "7444 2019-08-18              19.2  14.066667  LUSIGNAN           NaN   \n",
      "7445 2019-08-19              16.1  14.016667  LUSIGNAN           NaN   \n",
      "7446 2019-08-20              18.7  13.966389  LUSIGNAN           NaN   \n",
      "7447 2019-08-21              18.1  13.915833  LUSIGNAN           NaN   \n",
      "\n",
      "      thermal_time_cumul  experimental_day  \n",
      "7166                11.4                 1  \n",
      "7167                23.3                 2  \n",
      "7168                36.5                 3  \n",
      "7169                46.1                 4  \n",
      "7170                52.2                 5  \n",
      "...                  ...               ...  \n",
      "7443              3329.1               278  \n",
      "7444              3348.3               279  \n",
      "7445              3364.4               280  \n",
      "7446              3383.1               281  \n",
      "7447              3401.2               282  \n",
      "\n",
      "[282 rows x 7 columns]\n",
      "TPS : 1.0 Current day : 1\n"
     ]
    },
    {
     "name": "stderr",
     "output_type": "stream",
     "text": [
      "c:\\users\\u242825\\desktop\\gembloux\\recherche\\plant_modelling\\lgrass_legume_fusion\\plantfusion\\soil3ds\\soil3ds\\soil_moduleN.py:315: RuntimeWarning: invalid value encountered in true_divide\n",
      "  ls_concN = list(map(np.divide, list(map(np.sum, ls_masked_moleN)), list(map(np.sum, ls_vol_eau))))\n"
     ]
    },
    {
     "ename": "AttributeError",
     "evalue": "'LightVegeManager' object has no attribute '_LightVegeManager__nb0'",
     "output_type": "error",
     "traceback": [
      "\u001b[1;31m---------------------------------------------------------------------------\u001b[0m",
      "\u001b[1;31mAttributeError\u001b[0m                            Traceback (most recent call last)",
      "Cell \u001b[1;32mIn[16], line 17\u001b[0m\n\u001b[0;32m     14\u001b[0m scenes \u001b[38;5;241m=\u001b[39m indexer\u001b[38;5;241m.\u001b[39mlight_scenes_mgmt({lgrass_name : scene_lgrass, legume_name : scene_legume})\n\u001b[0;32m     16\u001b[0m lighting\u001b[38;5;241m.\u001b[39mrun(scenes\u001b[38;5;241m=\u001b[39mscenes, day\u001b[38;5;241m=\u001b[39mlegume\u001b[38;5;241m.\u001b[39mdoy(), parunit\u001b[38;5;241m=\u001b[39m\u001b[38;5;124m\"\u001b[39m\u001b[38;5;124mRG\u001b[39m\u001b[38;5;124m\"\u001b[39m) \u001b[38;5;66;03m#what is parunit=\"RG\" ?\u001b[39;00m\n\u001b[1;32m---> 17\u001b[0m \u001b[43mlegume\u001b[49m\u001b[38;5;241;43m.\u001b[39;49m\u001b[43mlight_results\u001b[49m\u001b[43m(\u001b[49m\u001b[43mlegume\u001b[49m\u001b[38;5;241;43m.\u001b[39;49m\u001b[43menergy\u001b[49m\u001b[43m(\u001b[49m\u001b[43m)\u001b[49m\u001b[43m,\u001b[49m\u001b[43m \u001b[49m\u001b[43mlighting\u001b[49m\u001b[43m)\u001b[49m\n\u001b[0;32m     18\u001b[0m lgrass\u001b[38;5;241m.\u001b[39mlight_results() \u001b[38;5;66;03m# ARGS DEPENDS ON LGRASS CLASS IMPLEMENTATION\u001b[39;00m\n\u001b[0;32m     20\u001b[0m soil_legume_inputs \u001b[38;5;241m=\u001b[39m legume\u001b[38;5;241m.\u001b[39msoil_inputs()\n",
      "File \u001b[1;32mc:\\users\\u242825\\desktop\\gembloux\\recherche\\plant_modelling\\lgrass_legume_fusion\\plantfusion\\plantfusion\\l_egume_wrapper.py:268\u001b[0m, in \u001b[0;36mL_egume_wrapper.light_results\u001b[1;34m(self, energy, lighting, selective_global_index)\u001b[0m\n\u001b[0;32m    263\u001b[0m     \u001b[38;5;28mself\u001b[39m\u001b[38;5;241m.\u001b[39mglobal_index \u001b[38;5;241m=\u001b[39m selective_global_index\n\u001b[0;32m    265\u001b[0m \u001b[38;5;28;01mif\u001b[39;00m lighting\u001b[38;5;241m.\u001b[39mlightmodel \u001b[38;5;241m==\u001b[39m \u001b[38;5;124m\"\u001b[39m\u001b[38;5;124mcaribu\u001b[39m\u001b[38;5;124m\"\u001b[39m:\n\u001b[0;32m    266\u001b[0m     \u001b[38;5;28mself\u001b[39m\u001b[38;5;241m.\u001b[39mres_trans \u001b[38;5;241m=\u001b[39m \u001b[38;5;28mself\u001b[39m\u001b[38;5;241m.\u001b[39mtransfer_caribu_legume(\n\u001b[0;32m    267\u001b[0m         energy\u001b[38;5;241m=\u001b[39menergy,\n\u001b[1;32m--> 268\u001b[0m         nb0\u001b[38;5;241m=\u001b[39m\u001b[43mlighting\u001b[49m\u001b[38;5;241;43m.\u001b[39;49m\u001b[43mnb_empty_z_layers\u001b[49m\u001b[43m(\u001b[49m\u001b[43m)\u001b[49m,\n\u001b[0;32m    269\u001b[0m         elements_outputs\u001b[38;5;241m=\u001b[39mlighting\u001b[38;5;241m.\u001b[39mresults_organs(),\n\u001b[0;32m    270\u001b[0m         sensors_outputs\u001b[38;5;241m=\u001b[39mlighting\u001b[38;5;241m.\u001b[39mresults_sensors(),\n\u001b[0;32m    271\u001b[0m     )\n\u001b[0;32m    273\u001b[0m \u001b[38;5;28;01melif\u001b[39;00m lighting\u001b[38;5;241m.\u001b[39mlightmodel \u001b[38;5;241m==\u001b[39m \u001b[38;5;124m\"\u001b[39m\u001b[38;5;124mratp\u001b[39m\u001b[38;5;124m\"\u001b[39m:\n\u001b[0;32m    274\u001b[0m     \u001b[38;5;28mself\u001b[39m\u001b[38;5;241m.\u001b[39mres_abs_i, \u001b[38;5;28mself\u001b[39m\u001b[38;5;241m.\u001b[39mres_trans \u001b[38;5;241m=\u001b[39m \u001b[38;5;28mself\u001b[39m\u001b[38;5;241m.\u001b[39mtransfer_ratp_legume(\n\u001b[0;32m    275\u001b[0m         energy, lighting\u001b[38;5;241m.\u001b[39mresults_voxels(), lighting\u001b[38;5;241m.\u001b[39mnb_empty_z_layers()\n\u001b[0;32m    276\u001b[0m     )\n",
      "File \u001b[1;32mc:\\users\\u242825\\desktop\\gembloux\\recherche\\plant_modelling\\lgrass_legume_fusion\\plantfusion\\plantfusion\\light_wrapper.py:350\u001b[0m, in \u001b[0;36mLight_wrapper.nb_empty_z_layers\u001b[1;34m(self)\u001b[0m\n\u001b[0;32m    342\u001b[0m \u001b[38;5;28;01mdef\u001b[39;00m \u001b[38;5;21mnb_empty_z_layers\u001b[39m(\u001b[38;5;28mself\u001b[39m):\n\u001b[0;32m    343\u001b[0m \u001b[38;5;250m    \u001b[39m\u001b[38;5;124;03m\"\"\"Number of empty z layers in voxel grid\u001b[39;00m\n\u001b[0;32m    344\u001b[0m \n\u001b[0;32m    345\u001b[0m \u001b[38;5;124;03m    Returns\u001b[39;00m\n\u001b[1;32m   (...)\u001b[0m\n\u001b[0;32m    348\u001b[0m \u001b[38;5;124;03m        Number of empty z layers in voxel grid\u001b[39;00m\n\u001b[0;32m    349\u001b[0m \u001b[38;5;124;03m    \"\"\"\u001b[39;00m        \n\u001b[1;32m--> 350\u001b[0m     \u001b[38;5;28;01mreturn\u001b[39;00m \u001b[38;5;28;43mself\u001b[39;49m\u001b[38;5;241;43m.\u001b[39;49m\u001b[43mlight\u001b[49m\u001b[38;5;241;43m.\u001b[39;49m\u001b[43mlegume_empty_layers\u001b[49m\n",
      "File \u001b[1;32mc:\\users\\u242825\\desktop\\gembloux\\recherche\\plant_modelling\\lgrass_legume_fusion\\plantfusion\\lightvegemanager\\src\\lightvegemanager\\LVM.py:1372\u001b[0m, in \u001b[0;36mLightVegeManager.legume_empty_layers\u001b[1;34m(self)\u001b[0m\n\u001b[0;32m   1365\u001b[0m \u001b[38;5;129m@property\u001b[39m\n\u001b[0;32m   1366\u001b[0m \u001b[38;5;28;01mdef\u001b[39;00m \u001b[38;5;21mlegume_empty_layers\u001b[39m(\u001b[38;5;28mself\u001b[39m):\n\u001b[0;32m   1367\u001b[0m \u001b[38;5;250m    \u001b[39m\u001b[38;5;124;03m\"\"\"Returns number of empty layers between top of the canopy and number of z layers expected by l-egume\u001b[39;00m\n\u001b[0;32m   1368\u001b[0m \n\u001b[0;32m   1369\u001b[0m \u001b[38;5;124;03m    :return: result of :func:`fill_ratpgrid_from_legumescene`\u001b[39;00m\n\u001b[0;32m   1370\u001b[0m \u001b[38;5;124;03m    :rtype: int\u001b[39;00m\n\u001b[0;32m   1371\u001b[0m \u001b[38;5;124;03m    \"\"\"\u001b[39;00m\n\u001b[1;32m-> 1372\u001b[0m     \u001b[38;5;28;01mreturn\u001b[39;00m \u001b[38;5;28;43mself\u001b[39;49m\u001b[38;5;241;43m.\u001b[39;49m\u001b[43m__nb0\u001b[49m\n",
      "\u001b[1;31mAttributeError\u001b[0m: 'LightVegeManager' object has no attribute '_LightVegeManager__nb0'"
     ]
    }
   ],
   "source": [
    "\n",
    "\n",
    "current_time_of_the_system = time.time()\n",
    "\n",
    "for t in range(legume.lsystem.derivationLength) :# chose derivation lengh\n",
    "\n",
    "    print(os.getcwd())\n",
    "    legume.derive(t)\n",
    "\n",
    "    # while lgrass.lsystem.current_day > t:\n",
    "    print(lgrass.lstring)\n",
    "    lgrass.derive(t)\n",
    "\n",
    "    scene_legume = legume.light_inputs(elements=\"triangles\")\n",
    "    scene_lgrass = lgrass.light_inputs() # ARGS DEPENDS ON LGRASS CLASS IMPLEMENTATION\n",
    "    scenes = indexer.light_scenes_mgmt({lgrass_name : scene_lgrass, legume_name : scene_legume})\n",
    "\n",
    "    lighting.run(scenes=scenes, day=legume.doy(), parunit=\"RG\") #what is parunit=\"RG\" ?\n",
    "    legume.light_results(legume.energy(), lighting)\n",
    "    lgrass.light_results() # ARGS DEPENDS ON LGRASS CLASS IMPLEMENTATION\n",
    "\n",
    "    soil_legume_inputs = legume.soil_inputs()\n",
    "    soil_lgrass_inputs = lgrass.soil_inputs()\n",
    "\n",
    "    (\n",
    "        N_content_roots_per_plant,\n",
    "        roots_length_per_plant_per_soil_layer,\n",
    "        plants_soil_parameters,\n",
    "        plants_light_interception, # what are these output's type ?\n",
    "    ) = indexer.soil_inputs({legume_name : soil_legume_inputs, lgrass_name : soil_lgrass_inputs})\n",
    "\n",
    "    soil.run( # update soil inputs\n",
    "        legume.doy(), #doy : day of the year (julian day)\n",
    "        N_content_roots_per_plant,\n",
    "        roots_length_per_plant_per_soil_layer,\n",
    "        plants_soil_parameters,\n",
    "        plants_light_interception,\n",
    "    )\n",
    "\n",
    "    #compute new plant parameters for next derivation. To be implemented in Lgrass wrapper\n",
    "    legume.run()\n",
    "    lgrass.run()\n",
    "execution_time = int(time.time() - current_time_of_the_system)\n",
    "print(\"\\n\" \"Simulation run in {}\".format(str(datetime.timedelta(seconds=execution_time))))\n",
    "\n",
    "# end() effect is specific to the model\n",
    "legume.end()\n",
    "lgrass.end()\n",
    "soil.end()"
   ]
  },
  {
   "cell_type": "code",
   "execution_count": null,
   "metadata": {},
   "outputs": [
    {
     "data": {
      "text/plain": [
       "[('__class__', openalea.lpy.__lpy_kernel__.Lsystem),\n",
       " ('__delattr__',\n",
       "  <method-wrapper '__delattr__' of Lsystem object at 0x00000176F5936270>),\n",
       " ('__dict__', {}),\n",
       " ('__doc__', None),\n",
       " ('__eq__', <method-wrapper '__eq__' of Lsystem object at 0x00000176F5936270>),\n",
       " ('__ge__', <method-wrapper '__ge__' of Lsystem object at 0x00000176F5936270>),\n",
       " ('__getattribute__',\n",
       "  <method-wrapper '__getattribute__' of Lsystem object at 0x00000176F5936270>),\n",
       " ('__gt__', <method-wrapper '__gt__' of Lsystem object at 0x00000176F5936270>),\n",
       " ('__hash__',\n",
       "  <method-wrapper '__hash__' of Lsystem object at 0x00000176F5936270>),\n",
       " ('__instance_size__', 992),\n",
       " ('__le__', <method-wrapper '__le__' of Lsystem object at 0x00000176F5936270>),\n",
       " ('__lt__', <method-wrapper '__lt__' of Lsystem object at 0x00000176F5936270>),\n",
       " ('__module__', 'openalea.lpy.__lpy_kernel__'),\n",
       " ('__ne__', <method-wrapper '__ne__' of Lsystem object at 0x00000176F5936270>),\n",
       " ('__repr__',\n",
       "  <method-wrapper '__repr__' of Lsystem object at 0x00000176F5936270>),\n",
       " ('__safe_for_unpickling__', True),\n",
       " ('__weakref__', None),\n",
       " ('axiom', AxialTree(CouvertVegetal(0))),\n",
       " ('decompositionMaxDepth', 1),\n",
       " ('derivationLength', 1000),\n",
       " ('early_return', False),\n",
       " ('filename',\n",
       "  'c:\\\\Users\\\\u242825\\\\Desktop\\\\Gembloux\\\\Recherche\\\\plant_modelling\\\\lgrass_legume_fusion\\\\lgrass\\\\lgrass\\\\lgrass.lpy'),\n",
       " ('interpretationMaxDepth', 1)]"
      ]
     },
     "execution_count": 18,
     "metadata": {},
     "output_type": "execute_result"
    }
   ],
   "source": [
    "#tests\n",
    "import inspect\n",
    "inspect.getmembers(lgrass.lsystem, lambda a:not(inspect.isroutine(a)))"
   ]
  }
 ],
 "metadata": {
  "kernelspec": {
   "display_name": "poitiers",
   "language": "python",
   "name": "python3"
  },
  "language_info": {
   "codemirror_mode": {
    "name": "ipython",
    "version": 3
   },
   "file_extension": ".py",
   "mimetype": "text/x-python",
   "name": "python",
   "nbconvert_exporter": "python",
   "pygments_lexer": "ipython3",
   "version": "3.9.19"
  }
 },
 "nbformat": 4,
 "nbformat_minor": 2
}
