{
 "cells": [
  {
   "cell_type": "markdown",
   "metadata": {},
   "source": [
    "Imports"
   ]
  },
  {
   "cell_type": "code",
   "execution_count": 2,
   "metadata": {},
   "outputs": [],
   "source": [
    "from plantfusion.l_egume_wrapper import L_egume_wrapper # L-egume FSPM management\n",
    "from plantfusion.lgrass_wrapper import Simpraise_wrapper # L-grass FSPM management : TO BE IMPLEMENTED\n",
    "# see : https://github.com/mwoussen/plantfusion/blob/develop/simulations/other_fspm.py\n",
    "from plantfusion.light_wrapper import Light_wrapper # light management using LightVegeManager\n",
    "from plantfusion.soil_wrapper import Soil_wrapper # soil management\n",
    "from plantfusion.indexer import Indexer # index management\n",
    "from plantfusion.planter import Planter # plant position management\n",
    "\n",
    "import time\n",
    "import datetime\n",
    "import os"
   ]
  },
  {
   "cell_type": "markdown",
   "metadata": {},
   "source": [
    "Simulation legume alone (default)"
   ]
  },
  {
   "cell_type": "code",
   "execution_count": null,
   "metadata": {},
   "outputs": [],
   "source": [
    "in_folder = \"inputs_soil_legume\"\n",
    "out_folder = \"outputs/legume_default\"\n",
    "id_usm = 1711\n",
    "\n",
    "plants_name = \"legume\"\n",
    "indexer = Indexer(global_order=[plants_name], legume_names=[plants_name])\n",
    "planter = Planter(generation_type=\"default\", indexer=indexer, legume_cote={plants_name : 40.}, legume_number_of_plants={plants_name : 64})\n",
    "legume = L_egume_wrapper(name=plants_name, indexer=indexer, in_folder=in_folder, out_folder=out_folder, IDusm=id_usm, planter=planter)\n",
    "lighting = Light_wrapper(lightmodel=\"riri5\", indexer=indexer, planter=planter, legume_wrapper=legume)\n",
    "soil = Soil_wrapper(out_folder=out_folder, legume_wrapper=legume, legume_pattern=True)\n",
    "\n",
    "try:\n",
    "    for t in range(legume.lsystem.derivationLength):\n",
    "        legume.derive(t)\n",
    "\n",
    "        scene_legume = legume.light_inputs(elements=\"voxels\")\n",
    "        lighting.run(scenes=[scene_legume], energy=legume.energy(), day=legume.doy(), parunit=\"RG\")\n",
    "        legume.light_results(legume.energy(), lighting)\n",
    "\n",
    "        (\n",
    "                N_content_roots_per_plant,\n",
    "                roots_length_per_plant_per_soil_layer,\n",
    "                plants_soil_parameters,\n",
    "                plants_light_interception,\n",
    "            ) = legume.soil_inputs()\n",
    "        soil.run(\n",
    "            legume.doy(),\n",
    "            [N_content_roots_per_plant],\n",
    "            [roots_length_per_plant_per_soil_layer],\n",
    "            [plants_soil_parameters],\n",
    "            [plants_light_interception],\n",
    "        )\n",
    "        legume.soil_results(soil.results, planter)\n",
    "\n",
    "        legume.run()\n",
    "\n",
    "finally:\n",
    "    execution_time = int(time.time() - current_time_of_the_system)\n",
    "    print(\"\\n\" \"Simulation run in {}\".format(str(datetime.timedelta(seconds=execution_time))))\n",
    "\n",
    "    legume.end()\n"
   ]
  },
  {
   "cell_type": "markdown",
   "metadata": {},
   "source": [
    "Path management"
   ]
  },
  {
   "cell_type": "code",
   "execution_count": 3,
   "metadata": {},
   "outputs": [
    {
     "name": "stdout",
     "output_type": "stream",
     "text": [
      "Directory  outputs\\lgrass_legume  Created \n"
     ]
    }
   ],
   "source": [
    "in_folder_legume = \"inputs_soil_legume\"\n",
    "in_folder_lgrass = \"inputs_lgrass\"\n",
    "out_folder = \"outputs/lgrass_legume\"\n",
    "\n",
    "id1 = 17111\n",
    "id2 = 17112\n",
    "writegeo = True\n",
    "\n",
    "try:\n",
    "    # Create target Directory\n",
    "    os.mkdir(os.path.normpath(out_folder))\n",
    "    print(\"Directory \", os.path.normpath(out_folder), \" Created \")\n",
    "except FileExistsError:\n",
    "    print(\"Directory \", os.path.normpath(out_folder), \" already exists\")\n"
   ]
  },
  {
   "cell_type": "markdown",
   "metadata": {},
   "source": [
    "Already implemented in plantfusion (should run if given appropriate parameters)"
   ]
  },
  {
   "cell_type": "code",
   "execution_count": null,
   "metadata": {},
   "outputs": [],
   "source": [
    "\n",
    "legume_name = \"legume\"\n",
    "lgrass_name = \"lgrass\"\n",
    "\n",
    "indexer = Indexer(global_order=[legume_name, lgrass_name], legume_names=[legume_name], other_names=[lgrass_name])\n",
    "\n",
    "generation_type = \"random\"\n",
    "plant_density = {legume_name : 250, lgrass_name : 450} # plantes.m-2\n",
    "planter = Planter(generation_type=generation_type, indexer=indexer, plant_density=plant_density)\n",
    "#note : arg \"inter_rows\" is not needed for random generation (I think), but is set to 0.15 anyway.\n",
    "\n",
    "legume = L_egume_wrapper(\n",
    "    name=legume_name,\n",
    "    indexer=indexer,\n",
    "    in_folder=in_folder_legume, out_folder=out_folder,\n",
    "    planter=planter,\n",
    "    IDusm=1711,\n",
    "    caribu_scene=True\n",
    ")\n",
    "\n",
    "sky = \"turtle46\"\n",
    "lighting_caribu = Light_wrapper(\n",
    "        lightmodel=\"caribu\",\n",
    "        indexer=indexer, \n",
    "        planter=planter, \n",
    "        legume_wrapper=legume,\n",
    "        sky=sky,\n",
    "        writegeo=False,\n",
    "    )\n",
    "\n",
    "\n",
    "soil = Soil_wrapper(\n",
    "    in_folder=in_folder_legume, \n",
    "    out_folder=out_folder, \n",
    "    IDusm=1711, # unit of simulation\n",
    "    planter=planter, \n",
    "    opt_residu=0, \n",
    "    save_results=True\n",
    ")\n"
   ]
  },
  {
   "cell_type": "markdown",
   "metadata": {},
   "source": [
    "Simulation legume alone (caribu)"
   ]
  },
  {
   "cell_type": "code",
   "execution_count": null,
   "metadata": {},
   "outputs": [],
   "source": [
    "try:\n",
    "    current_time_of_the_system = time.time()\n",
    "    for t in range(legume.lsystem.derivationLength):\n",
    "        legume.derive(t)\n",
    "\n",
    "        ### CARIBU\n",
    "        scene_legume = legume.light_inputs(elements=\"triangles\")\n",
    "        start = time.time()\n",
    "        lighting_caribu.run(\n",
    "            scenes=[scene_legume], day=legume.doy(), parunit=\"RG\"\n",
    "        )\n",
    "        caribu_time = time.time() - start\n",
    "        legume.light_results(legume.energy(), lighting_caribu)\n",
    "\n",
    "        (\n",
    "            N_content_roots_per_plant,\n",
    "            roots_length_per_plant_per_soil_layer,\n",
    "            plants_soil_parameters,\n",
    "            plants_light_interception,\n",
    "        ) = legume.soil_inputs()\n",
    "        soil.run(\n",
    "            legume.doy(),\n",
    "            [N_content_roots_per_plant],\n",
    "            [roots_length_per_plant_per_soil_layer],\n",
    "            [plants_soil_parameters],\n",
    "            [plants_light_interception],\n",
    "        )\n",
    "        legume.soil_results(soil.results, planter)\n",
    "\n",
    "        legume.run()\n",
    "\n",
    "        print(\"Lighting running time | CARIBU: \", caribu_time)\n",
    "\n",
    "    execution_time = int(time.time() - current_time_of_the_system)\n",
    "    print(\"\\n\" \"Simulation run in {}\".format(str(datetime.timedelta(seconds=execution_time))))\n",
    "\n",
    "finally:\n",
    "    legume.end()"
   ]
  },
  {
   "cell_type": "markdown",
   "metadata": {},
   "source": [
    "Lgrass Wrapper instanciation"
   ]
  },
  {
   "cell_type": "code",
   "execution_count": null,
   "metadata": {},
   "outputs": [],
   "source": [
    "\n",
    "lgrass = Simpraise_wrapper(\n",
    "    name=lgrass_name,\n",
    "    indexer=indexer,\n",
    "    in_folder=in_folder_lgrass, out_folder=out_folder,\n",
    "    planter=planter,\n",
    "    plan_sim_file='plan_simulation.csv',\n",
    "    genet_file='ped.r',\n",
    "    param_plant_file='liste_plantes.csv'\n",
    "    #ADD ARGS SPECIFIC TO L-GRASS\n",
    ")"
   ]
  },
  {
   "cell_type": "markdown",
   "metadata": {},
   "source": [
    "Simulation Lgrass alone"
   ]
  },
  {
   "cell_type": "code",
   "execution_count": 1,
   "metadata": {},
   "outputs": [
    {
     "ename": "SyntaxError",
     "evalue": "invalid syntax (3175211231.py, line 3)",
     "output_type": "error",
     "traceback": [
      "\u001b[1;36m  Cell \u001b[1;32mIn[1], line 3\u001b[1;36m\u001b[0m\n\u001b[1;33m    for t in range(legume.lsystem.derivationLength)\u001b[0m\n\u001b[1;37m                                                   ^\u001b[0m\n\u001b[1;31mSyntaxError\u001b[0m\u001b[1;31m:\u001b[0m invalid syntax\n"
     ]
    }
   ],
   "source": [
    "try:\n",
    "    current_time_of_the_system = time.time()\n",
    "    for t in range(legume.lsystem.derivationLength):\n",
    "        lgrass.derive(t)\n",
    "\n",
    "        ### CARIBU\n",
    "        scene_grass = lgrass.light_inputs(elements=\"triangles\")\n",
    "        start = time.time()\n",
    "        lighting_caribu.run(\n",
    "            scenes=[scene_lgrass], day=lgrass.doy(), parunit=\"RG\"\n",
    "        )\n",
    "        caribu_time = time.time() - start\n",
    "        lgrass.light_results(legume.energy(), lighting_caribu)\n",
    "\n",
    "        (\n",
    "            N_content_roots_per_plant,\n",
    "            roots_length_per_plant_per_soil_layer,\n",
    "            plants_soil_parameters,\n",
    "            plants_light_interception,\n",
    "        ) = lgrass.soil_inputs()\n",
    "        soil.run(\n",
    "            lgrass.doy(),\n",
    "            [N_content_roots_per_plant],\n",
    "            [roots_length_per_plant_per_soil_layer],\n",
    "            [plants_soil_parameters],\n",
    "            [plants_light_interception],\n",
    "        )\n",
    "        lgrass.soil_results(soil.results, planter)\n",
    "\n",
    "        lgrass.run()\n",
    "\n",
    "        print(\"Lighting running time | CARIBU: \", caribu_time)\n",
    "\n",
    "    execution_time = int(time.time() - current_time_of_the_system)\n",
    "    print(\"\\n\" \"Simulation run in {}\".format(str(datetime.timedelta(seconds=execution_time))))\n",
    "\n",
    "finally:\n",
    "    legulgrassme.end()"
   ]
  },
  {
   "cell_type": "code",
   "execution_count": null,
   "metadata": {},
   "outputs": [],
   "source": [
    "\n",
    "\n",
    "current_time_of_the_system = time.time()\n",
    "\n",
    "for t in range(legume.lsystem.derivationLength) :# chose derivation lengh\n",
    "\n",
    "    legume.derive(t)\n",
    "\n",
    "    # while lgrass.lsystem.current_day > t:\n",
    "    print(lgrass.lstring)\n",
    "    lgrass.derive(t)\n",
    "\n",
    "    scene_legume = legume.light_inputs(elements=\"triangles\")\n",
    "    scene_lgrass = lgrass.light_inputs() # ARGS DEPENDS ON LGRASS CLASS IMPLEMENTATION\n",
    "    scenes = indexer.light_scenes_mgmt({lgrass_name : scene_lgrass, legume_name : scene_legume})\n",
    "\n",
    "    lighting.run(scenes=scenes, day=legume.doy(), parunit=\"RG\") #what is parunit=\"RG\" ?\n",
    "    legume.light_results(legume.energy(), lighting)\n",
    "    lgrass.light_results() # ARGS DEPENDS ON LGRASS CLASS IMPLEMENTATION\n",
    "\n",
    "    soil_legume_inputs = legume.soil_inputs()\n",
    "    soil_lgrass_inputs = lgrass.soil_inputs()\n",
    "\n",
    "    (\n",
    "        N_content_roots_per_plant,\n",
    "        roots_length_per_plant_per_soil_layer,\n",
    "        plants_soil_parameters,\n",
    "        plants_light_interception, # what are these output's type ?\n",
    "    ) = indexer.soil_inputs({legume_name : soil_legume_inputs, lgrass_name : soil_lgrass_inputs})\n",
    "\n",
    "    soil.run( # update soil inputs\n",
    "        legume.doy(), #doy : day of the year (julian day)\n",
    "        N_content_roots_per_plant,\n",
    "        roots_length_per_plant_per_soil_layer,\n",
    "        plants_soil_parameters,\n",
    "        plants_light_interception,\n",
    "    )\n",
    "\n",
    "    #compute new plant parameters for next derivation. To be implemented in Lgrass wrapper\n",
    "    legume.run()\n",
    "    lgrass.run()\n",
    "execution_time = int(time.time() - current_time_of_the_system)\n",
    "print(\"\\n\" \"Simulation run in {}\".format(str(datetime.timedelta(seconds=execution_time))))\n",
    "\n",
    "# end() effect is specific to the model\n",
    "legume.end()\n",
    "lgrass.end()\n",
    "soil.end()"
   ]
  }
 ],
 "metadata": {
  "kernelspec": {
   "display_name": "poitiers",
   "language": "python",
   "name": "python3"
  },
  "language_info": {
   "codemirror_mode": {
    "name": "ipython",
    "version": 3
   },
   "file_extension": ".py",
   "mimetype": "text/x-python",
   "name": "python",
   "nbconvert_exporter": "python",
   "pygments_lexer": "ipython3",
   "version": "3.9.19"
  }
 },
 "nbformat": 4,
 "nbformat_minor": 2
}
